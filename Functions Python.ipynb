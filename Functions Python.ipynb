{
 "cells": [
  {
   "cell_type": "code",
   "execution_count": null,
   "id": "7a330448-98b8-4aaa-9f77-f09e8497711d",
   "metadata": {},
   "outputs": [],
   "source": [
    "#### basic properties\n",
    "        #### reusable\n",
    "        #### returns a value\n",
    "        #### used for calcualtions"
   ]
  },
  {
   "cell_type": "code",
   "execution_count": 10,
   "id": "6445c992-d115-4602-8304-d47d3a245c11",
   "metadata": {},
   "outputs": [],
   "source": [
    "def add(x,y):\n",
    "    print(x+y)"
   ]
  },
  {
   "cell_type": "code",
   "execution_count": 11,
   "id": "f41f86ae-8637-4401-bad4-4913d1d6aa6b",
   "metadata": {},
   "outputs": [
    {
     "ename": "TypeError",
     "evalue": "unsupported operand type(s) for +: 'int' and 'str'",
     "output_type": "error",
     "traceback": [
      "\u001b[1;31m---------------------------------------------------------------------------\u001b[0m",
      "\u001b[1;31mTypeError\u001b[0m                                 Traceback (most recent call last)",
      "Cell \u001b[1;32mIn[11], line 1\u001b[0m\n\u001b[1;32m----> 1\u001b[0m \u001b[43madd\u001b[49m\u001b[43m(\u001b[49m\u001b[38;5;241;43m2\u001b[39;49m\u001b[43m,\u001b[49m\u001b[38;5;124;43m\"\u001b[39;49m\u001b[38;5;124;43mData\u001b[39;49m\u001b[38;5;124;43m\"\u001b[39;49m\u001b[43m)\u001b[49m\n",
      "Cell \u001b[1;32mIn[10], line 2\u001b[0m, in \u001b[0;36madd\u001b[1;34m(x, y)\u001b[0m\n\u001b[0;32m      1\u001b[0m \u001b[38;5;28;01mdef\u001b[39;00m \u001b[38;5;21madd\u001b[39m(x,y):\n\u001b[1;32m----> 2\u001b[0m     \u001b[38;5;28mprint\u001b[39m(\u001b[43mx\u001b[49m\u001b[38;5;241;43m+\u001b[39;49m\u001b[43my\u001b[49m)\n",
      "\u001b[1;31mTypeError\u001b[0m: unsupported operand type(s) for +: 'int' and 'str'"
     ]
    }
   ],
   "source": [
    "add(2,\"Data\")"
   ]
  },
  {
   "cell_type": "code",
   "execution_count": 12,
   "id": "8dba2566-3958-4a52-a0b5-8b250e1a7713",
   "metadata": {},
   "outputs": [],
   "source": [
    "def greater(x,param):\n",
    "    if x>param:\n",
    "        print(\"true\")\n",
    "    else:\n",
    "        print(\"false\")"
   ]
  },
  {
   "cell_type": "code",
   "execution_count": 15,
   "id": "594fa6aa-1e84-462e-aa1c-7269cf104e85",
   "metadata": {},
   "outputs": [
    {
     "name": "stdout",
     "output_type": "stream",
     "text": [
      "false\n"
     ]
    }
   ],
   "source": [
    "greater(100,300)"
   ]
  },
  {
   "cell_type": "code",
   "execution_count": null,
   "id": "7e576a75-f700-40ec-b879-171470dda33e",
   "metadata": {},
   "outputs": [],
   "source": [
    "\n",
    "if x>10:\n",
    "    print(\"true\")\n",
    "else:\n",
    "    print(\"false\")"
   ]
  },
  {
   "cell_type": "code",
   "execution_count": null,
   "id": "d1806165-9aee-45d5-9ae2-5369a0b534b2",
   "metadata": {},
   "outputs": [],
   "source": [
    "\n",
    "if x>20:\n",
    "    print(\"true\")\n",
    "else:\n",
    "    print(\"false\")"
   ]
  },
  {
   "cell_type": "code",
   "execution_count": null,
   "id": "abd76ff2-3c90-4818-9439-d05259ce6629",
   "metadata": {},
   "outputs": [],
   "source": [
    "\n",
    "if x>30:\n",
    "    print(\"true\")\n",
    "else:\n",
    "    print(\"false\")"
   ]
  },
  {
   "cell_type": "code",
   "execution_count": null,
   "id": "45d5d985-8ce0-4f9f-918d-526bcb14623e",
   "metadata": {},
   "outputs": [],
   "source": []
  },
  {
   "cell_type": "code",
   "execution_count": null,
   "id": "2b522230-d1ce-433e-8229-662898d4e19c",
   "metadata": {},
   "outputs": [],
   "source": []
  },
  {
   "cell_type": "code",
   "execution_count": 32,
   "id": "4aaff655-6481-4822-afbf-fd6a4fb60d51",
   "metadata": {},
   "outputs": [],
   "source": [
    "def add(x,y):\n",
    "    print(x+y)\n",
    "    return x+y"
   ]
  },
  {
   "cell_type": "code",
   "execution_count": 33,
   "id": "e73c267b-141a-4a9d-9c04-e90f43e7a123",
   "metadata": {},
   "outputs": [],
   "source": [
    "def add1(x,y):\n",
    "    return x+y\n",
    "    print(x+y)"
   ]
  },
  {
   "cell_type": "code",
   "execution_count": 34,
   "id": "4bf2bd5c-85ff-4ced-b418-91bfbd97d5a9",
   "metadata": {},
   "outputs": [
    {
     "name": "stdout",
     "output_type": "stream",
     "text": [
      "30\n"
     ]
    },
    {
     "data": {
      "text/plain": [
       "30"
      ]
     },
     "execution_count": 34,
     "metadata": {},
     "output_type": "execute_result"
    }
   ],
   "source": [
    "var=add(10,20)\n",
    "var"
   ]
  },
  {
   "cell_type": "code",
   "execution_count": 35,
   "id": "307b0755-6b97-401b-9545-54da3135cb59",
   "metadata": {},
   "outputs": [
    {
     "data": {
      "text/plain": [
       "30"
      ]
     },
     "execution_count": 35,
     "metadata": {},
     "output_type": "execute_result"
    }
   ],
   "source": [
    "var=add1(10,20)\n",
    "var"
   ]
  },
  {
   "cell_type": "code",
   "execution_count": 36,
   "id": "926fce9b-cb99-46d7-a4ea-e162c28d9ad4",
   "metadata": {},
   "outputs": [
    {
     "data": {
      "text/plain": [
       "'data science'"
      ]
     },
     "execution_count": 36,
     "metadata": {},
     "output_type": "execute_result"
    }
   ],
   "source": [
    "\"data science\""
   ]
  },
  {
   "cell_type": "code",
   "execution_count": null,
   "id": "d92a5db6-4e70-425c-b7df-04d0c2ccd888",
   "metadata": {},
   "outputs": [],
   "source": [
    "'d' : 1\n",
    "'a' : 2\n"
   ]
  },
  {
   "cell_type": "code",
   "execution_count": null,
   "id": "469df67e-943c-400d-8a0f-1b2f8c811896",
   "metadata": {},
   "outputs": [],
   "source": [
    "def count_characters(x):\n",
    "    "
   ]
  },
  {
   "cell_type": "code",
   "execution_count": null,
   "id": "f929f551-80ad-4fab-bb63-c9b6976b27c1",
   "metadata": {},
   "outputs": [],
   "source": []
  },
  {
   "cell_type": "markdown",
   "id": "d5656a11-f316-499d-91b5-43def434f5ba",
   "metadata": {},
   "source": [
    "x=\"data\""
   ]
  },
  {
   "cell_type": "code",
   "execution_count": 41,
   "id": "9ff52452-06e5-4543-94e1-a9e2e9c3d2a1",
   "metadata": {},
   "outputs": [
    {
     "data": {
      "text/plain": [
       "['t', 'd', 'a']"
      ]
     },
     "execution_count": 41,
     "metadata": {},
     "output_type": "execute_result"
    }
   ],
   "source": [
    "list(set(x))"
   ]
  },
  {
   "cell_type": "code",
   "execution_count": 42,
   "id": "b8064871-0f9f-49c1-b782-7084ef8557fc",
   "metadata": {},
   "outputs": [
    {
     "name": "stdout",
     "output_type": "stream",
     "text": [
      "t 1\n",
      "d 1\n",
      "a 2\n"
     ]
    }
   ],
   "source": [
    "x=\"data\"\n",
    "for i in list(set(x)):\n",
    "    print(i,x.count(i))"
   ]
  },
  {
   "cell_type": "code",
   "execution_count": 46,
   "id": "68e5f86b-3a66-4591-89a0-bae4fc48b0de",
   "metadata": {},
   "outputs": [],
   "source": [
    "def count_characters(x):\n",
    "    for i in list(set(x)):\n",
    "        if i.isalpha():\n",
    "            print(i,x.count(i))"
   ]
  },
  {
   "cell_type": "code",
   "execution_count": 47,
   "id": "71fd270d-216b-4adb-ac53-82ea476b92df",
   "metadata": {},
   "outputs": [
    {
     "name": "stdout",
     "output_type": "stream",
     "text": [
      "c 2\n",
      "i 1\n",
      "s 1\n",
      "n 1\n",
      "t 1\n",
      "a 2\n",
      "e 2\n",
      "d 1\n"
     ]
    }
   ],
   "source": [
    "x=\"data science\"\n",
    "count_characters(x)"
   ]
  },
  {
   "cell_type": "code",
   "execution_count": null,
   "id": "65d54bc4-941b-4de2-ac89-829a819c50c7",
   "metadata": {},
   "outputs": [],
   "source": []
  },
  {
   "cell_type": "code",
   "execution_count": 50,
   "id": "a22fedbc-c79d-4bbe-8dc1-d3243c688549",
   "metadata": {},
   "outputs": [],
   "source": [
    "unique=[]\n",
    "for i in \"data\":\n",
    "    if i not in unique:\n",
    "        unique.append(i)"
   ]
  },
  {
   "cell_type": "code",
   "execution_count": 51,
   "id": "5e626ff8-a524-42e7-b196-4a09e2d2f8e5",
   "metadata": {},
   "outputs": [
    {
     "data": {
      "text/plain": [
       "['d', 'a', 't']"
      ]
     },
     "execution_count": 51,
     "metadata": {},
     "output_type": "execute_result"
    }
   ],
   "source": [
    "unique"
   ]
  },
  {
   "cell_type": "code",
   "execution_count": 70,
   "id": "ee3d2a4b-ba56-4d8c-9e33-e0c267b36b23",
   "metadata": {},
   "outputs": [],
   "source": [
    "def count_char(x):\n",
    "    d={}\n",
    "    for i in x:\n",
    "        char=i.lower()\n",
    "        if char in d:\n",
    "            d[char]=d[char]+1\n",
    "        else:\n",
    "            d[char]=1\n",
    "    return d"
   ]
  },
  {
   "cell_type": "code",
   "execution_count": 72,
   "id": "967a1d09-8e63-48a2-836f-8a477a3e7df3",
   "metadata": {},
   "outputs": [
    {
     "data": {
      "text/plain": [
       "{'d': 6, 'a': 2, 't': 1}"
      ]
     },
     "execution_count": 72,
     "metadata": {},
     "output_type": "execute_result"
    }
   ],
   "source": [
    "x=\"DatAddddd\"\n",
    "count_char(x)"
   ]
  },
  {
   "cell_type": "code",
   "execution_count": 74,
   "id": "c3bc1113-c8c6-4488-b7df-0325bf5ccba6",
   "metadata": {},
   "outputs": [],
   "source": [
    "data='''Lenovo ThinkPad E14 Intel Core i5 13th Gen 14\"\n",
    "WUXGA IPS 300 Nits Thin and Light Laptop \n",
    "(16GB RAM/512GB SSD/Windows 11 Home/\n",
    "Office 2021/Backlit Keyboard/FPR/Black/1.41 kg),\n",
    "21JKS0UA00'''"
   ]
  },
  {
   "cell_type": "code",
   "execution_count": 79,
   "id": "f708a8de-043e-4a13-9953-85f171b50d4b",
   "metadata": {},
   "outputs": [],
   "source": [
    "def review_characterstics(data):\n",
    "    length=len(data)\n",
    "    number_of_words=len(data.split())\n",
    "    count_of_small=0\n",
    "    count_of_capital=0\n",
    "    count_of_special=0\n",
    "    count_of_numbers=0\n",
    "    for i in data:\n",
    "        if i.isalpha() and i.isupper():\n",
    "            count_of_capital=count_of_capital+1\n",
    "        elif i.isalpha() and i.islower():\n",
    "            count_of_small=count_of_small+1\n",
    "        elif i.isnumeric():\n",
    "            count_of_numbers+=1\n",
    "        else:\n",
    "            count_of_special=count_of_special+1\n",
    "    return [length,number_of_words,count_of_small,count_of_capital,count_of_special,\n",
    "            count_of_numbers]\n",
    "            "
   ]
  },
  {
   "cell_type": "code",
   "execution_count": 84,
   "id": "714cc28e-a7c8-4a6a-a7af-15670b63c76f",
   "metadata": {},
   "outputs": [],
   "source": [
    "laptop_specs = [\n",
    "    \"Build & Reliability: Lenovo ThinkPad E14 (21JKS0UA00), Aluminium top body, 1.41 kg, MIL-STD-810H certified (12 methods, 22 procedures), Backlit Keyboard, Fingerprint Reader, Rugged build (resists knocks, drops, and spills)\",\n",
    "    \n",
    "    \"Performance: 13th Gen Intel Core i5-1335U (10 Cores, 12 Threads, Up to 4.6 GHz, 12MB Cache), 16GB DDR4 RAM (3200 MHz, upgradable to 40GB), 512GB SSD M.2 (upgradable to 1TB), Intel Iris Xe Graphics with DirectX 12.1\",\n",
    "    \n",
    "    \"Display & Audio: 14-inch WUXGA IPS Antiglare Display (1920x1200, 300 Nits), Dolby Atmos Audio, HD Audio with Synaptic CX11880 codec, Stereo speakers (2W x 2)\",\n",
    "    \n",
    "    \"Operating System & Software: Windows 11 Home SL (Lifetime Validity), Microsoft Office Home & Student 2021 (Pre-installed)\",\n",
    "    \n",
    "    \"Ports: USB 2.0, USB 3.2 Gen 1 (Always On), USB-C 3.2 Gen 2 (data, Power Delivery 3.0, DisplayPort 1.4), Thunderbolt 4/USB4 (40Gbps, Power Delivery 3.0, DisplayPort 1.4), HDMI 2.1, Ethernet (RJ-45), 3.5mm Headphone/Mic combo jack\"\n",
    "]\n"
   ]
  },
  {
   "cell_type": "code",
   "execution_count": 85,
   "id": "95a30d92-9d88-4d5e-8efd-2fd4eb05f5a9",
   "metadata": {},
   "outputs": [
    {
     "data": {
      "text/plain": [
       "['Build & Reliability: Lenovo ThinkPad E14 (21JKS0UA00), Aluminium top body, 1.41 kg, MIL-STD-810H certified (12 methods, 22 procedures), Backlit Keyboard, Fingerprint Reader, Rugged build (resists knocks, drops, and spills)',\n",
       " 'Performance: 13th Gen Intel Core i5-1335U (10 Cores, 12 Threads, Up to 4.6 GHz, 12MB Cache), 16GB DDR4 RAM (3200 MHz, upgradable to 40GB), 512GB SSD M.2 (upgradable to 1TB), Intel Iris Xe Graphics with DirectX 12.1',\n",
       " 'Display & Audio: 14-inch WUXGA IPS Antiglare Display (1920x1200, 300 Nits), Dolby Atmos Audio, HD Audio with Synaptic CX11880 codec, Stereo speakers (2W x 2)',\n",
       " 'Operating System & Software: Windows 11 Home SL (Lifetime Validity), Microsoft Office Home & Student 2021 (Pre-installed)',\n",
       " 'Ports: USB 2.0, USB 3.2 Gen 1 (Always On), USB-C 3.2 Gen 2 (data, Power Delivery 3.0, DisplayPort 1.4), Thunderbolt 4/USB4 (40Gbps, Power Delivery 3.0, DisplayPort 1.4), HDMI 2.1, Ethernet (RJ-45), 3.5mm Headphone/Mic combo jack']"
      ]
     },
     "execution_count": 85,
     "metadata": {},
     "output_type": "execute_result"
    }
   ],
   "source": [
    "laptop_specs"
   ]
  },
  {
   "cell_type": "code",
   "execution_count": null,
   "id": "1c09c9a1-5bf6-40d9-9a56-96e529c56582",
   "metadata": {},
   "outputs": [],
   "source": []
  },
  {
   "cell_type": "code",
   "execution_count": 86,
   "id": "e009ad9e-4123-41c5-8c3a-286b175d127d",
   "metadata": {},
   "outputs": [
    {
     "name": "stdout",
     "output_type": "stream",
     "text": [
      "[222, 29, 133, 24, 48, 17]\n",
      "[214, 37, 89, 39, 54, 32]\n",
      "[157, 25, 78, 24, 35, 20]\n",
      "[121, 17, 76, 14, 25, 6]\n",
      "[228, 35, 99, 37, 66, 26]\n"
     ]
    }
   ],
   "source": [
    "for i in laptop_specs:\n",
    "    print(review_characterstics(i))"
   ]
  },
  {
   "cell_type": "code",
   "execution_count": null,
   "id": "a1287c8a-d99f-4632-9583-c357e69120b9",
   "metadata": {},
   "outputs": [],
   "source": []
  },
  {
   "cell_type": "code",
   "execution_count": 94,
   "id": "4d00008c-770b-4327-b6f3-3c3cef2b614c",
   "metadata": {},
   "outputs": [],
   "source": [
    "def function1(x):\n",
    "    print(\"function1\")\n",
    "    def function2():\n",
    "        print(\"funciton2\")\n",
    "    def function3():\n",
    "        print(\"function3\")\n",
    "    if x==10:\n",
    "        function2()\n",
    "    else:\n",
    "        function3()"
   ]
  },
  {
   "cell_type": "code",
   "execution_count": 95,
   "id": "df0d087a-bef7-40fa-96bf-a6bd2da05ae8",
   "metadata": {},
   "outputs": [
    {
     "name": "stdout",
     "output_type": "stream",
     "text": [
      "function1\n",
      "function3\n"
     ]
    }
   ],
   "source": [
    "function1(100)"
   ]
  },
  {
   "cell_type": "code",
   "execution_count": 108,
   "id": "5879105e-4246-46af-a473-18b5df8cb10a",
   "metadata": {},
   "outputs": [],
   "source": [
    "x=10\n",
    "def function():\n",
    "    x=\"data\"\n",
    "    print(x)\n",
    "    "
   ]
  },
  {
   "cell_type": "code",
   "execution_count": 109,
   "id": "1275018f-ad2d-4304-8240-da0d7d9e59ba",
   "metadata": {},
   "outputs": [
    {
     "name": "stdout",
     "output_type": "stream",
     "text": [
      "data\n"
     ]
    }
   ],
   "source": [
    "function()"
   ]
  },
  {
   "cell_type": "code",
   "execution_count": null,
   "id": "02cdb143-ec3e-46ad-a108-b81a2cdb5d1f",
   "metadata": {},
   "outputs": [],
   "source": []
  }
 ],
 "metadata": {
  "kernelspec": {
   "display_name": "Python 3 (ipykernel)",
   "language": "python",
   "name": "python3"
  },
  "language_info": {
   "codemirror_mode": {
    "name": "ipython",
    "version": 3
   },
   "file_extension": ".py",
   "mimetype": "text/x-python",
   "name": "python",
   "nbconvert_exporter": "python",
   "pygments_lexer": "ipython3",
   "version": "3.13.2"
  }
 },
 "nbformat": 4,
 "nbformat_minor": 5
}
