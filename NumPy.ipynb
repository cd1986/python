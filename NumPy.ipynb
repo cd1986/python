{
 "cells": [
  {
   "cell_type": "code",
   "execution_count": 1,
   "id": "8a9b91a8-f87b-4ebe-9568-9ab61a5c989e",
   "metadata": {},
   "outputs": [],
   "source": [
    "import numpy as np"
   ]
  },
  {
   "cell_type": "code",
   "execution_count": 2,
   "id": "719b957e-6830-494a-bea3-19f43478b482",
   "metadata": {},
   "outputs": [],
   "source": [
    "x=[1,2,3]"
   ]
  },
  {
   "cell_type": "code",
   "execution_count": 3,
   "id": "62855de4-8969-4dc4-823c-19418bd3e0e6",
   "metadata": {},
   "outputs": [
    {
     "data": {
      "text/plain": [
       "list"
      ]
     },
     "execution_count": 3,
     "metadata": {},
     "output_type": "execute_result"
    }
   ],
   "source": [
    "type(x)"
   ]
  },
  {
   "cell_type": "code",
   "execution_count": null,
   "id": "e3acd6f2-ee78-46d9-8ed0-f0a139c984ca",
   "metadata": {},
   "outputs": [],
   "source": [
    "list()\n",
    "str()"
   ]
  },
  {
   "cell_type": "code",
   "execution_count": 4,
   "id": "7b61225f-2111-4d92-80fe-2da373333d7f",
   "metadata": {},
   "outputs": [],
   "source": [
    "y=np.array(x)"
   ]
  },
  {
   "cell_type": "code",
   "execution_count": 5,
   "id": "0b2cc1a3-f370-49e8-bc8c-b80941ada4ae",
   "metadata": {},
   "outputs": [
    {
     "data": {
      "text/plain": [
       "[1, 2, 3]"
      ]
     },
     "execution_count": 5,
     "metadata": {},
     "output_type": "execute_result"
    }
   ],
   "source": [
    "x"
   ]
  },
  {
   "cell_type": "code",
   "execution_count": 6,
   "id": "07892240-73f6-4674-a48c-99753f2adfad",
   "metadata": {},
   "outputs": [
    {
     "data": {
      "text/plain": [
       "array([1, 2, 3])"
      ]
     },
     "execution_count": 6,
     "metadata": {},
     "output_type": "execute_result"
    }
   ],
   "source": [
    "y"
   ]
  },
  {
   "cell_type": "code",
   "execution_count": 7,
   "id": "88c508c3-b6ee-45d6-af6d-8ada991b8188",
   "metadata": {},
   "outputs": [
    {
     "ename": "TypeError",
     "evalue": "unsupported operand type(s) for /: 'list' and 'int'",
     "output_type": "error",
     "traceback": [
      "\u001b[1;31m---------------------------------------------------------------------------\u001b[0m",
      "\u001b[1;31mTypeError\u001b[0m                                 Traceback (most recent call last)",
      "Cell \u001b[1;32mIn[7], line 1\u001b[0m\n\u001b[1;32m----> 1\u001b[0m \u001b[43mx\u001b[49m\u001b[38;5;241;43m/\u001b[39;49m\u001b[38;5;241;43m2\u001b[39;49m\n",
      "\u001b[1;31mTypeError\u001b[0m: unsupported operand type(s) for /: 'list' and 'int'"
     ]
    }
   ],
   "source": [
    "x/2"
   ]
  },
  {
   "cell_type": "code",
   "execution_count": 8,
   "id": "59895d53-bbe4-48a8-8888-6a1455710d1b",
   "metadata": {},
   "outputs": [
    {
     "data": {
      "text/plain": [
       "array([0.5, 1. , 1.5])"
      ]
     },
     "execution_count": 8,
     "metadata": {},
     "output_type": "execute_result"
    }
   ],
   "source": [
    "y/2"
   ]
  },
  {
   "cell_type": "code",
   "execution_count": null,
   "id": "86cbe159-3b7c-4189-9623-410e20cd0897",
   "metadata": {},
   "outputs": [],
   "source": []
  },
  {
   "cell_type": "code",
   "execution_count": 16,
   "id": "b03d1fc8-6c9a-4866-9471-c503db5696aa",
   "metadata": {},
   "outputs": [],
   "source": [
    "x=[2.61,2,3]\n",
    "y=np.array(x)"
   ]
  },
  {
   "cell_type": "code",
   "execution_count": 17,
   "id": "a36ceca0-9977-4948-94a5-d0be8090b3ce",
   "metadata": {},
   "outputs": [
    {
     "data": {
      "text/plain": [
       "[2.61, 2, 3]"
      ]
     },
     "execution_count": 17,
     "metadata": {},
     "output_type": "execute_result"
    }
   ],
   "source": [
    "x"
   ]
  },
  {
   "cell_type": "code",
   "execution_count": 18,
   "id": "2dbc9643-8aa0-4fe3-a243-ca36738427bf",
   "metadata": {},
   "outputs": [
    {
     "data": {
      "text/plain": [
       "array([2.61, 2.  , 3.  ])"
      ]
     },
     "execution_count": 18,
     "metadata": {},
     "output_type": "execute_result"
    }
   ],
   "source": [
    "y"
   ]
  },
  {
   "cell_type": "markdown",
   "id": "11d07aec-d299-4b09-a48b-8123a35d2c8c",
   "metadata": {},
   "source": [
    "### 🧮 NumPy Data Types, Type Codes, and Ranges\n",
    "\n",
    "| **Type**                   | **Type Code**  | **Range**                                                                 |\n",
    "|---------------------------|----------------|---------------------------------------------------------------------------|\n",
    "| `int8`                    | `i1`           | -128 to 127                                                               |\n",
    "| `uint8`                   | `u1`           | 0 to 255                                                                  |\n",
    "| `int16`                   | `i2`           | -32,768 to 32,767                                                         |\n",
    "| `uint16`                  | `u2`           | 0 to 65,535                                                               |\n",
    "| `int` or `int32`          | `i4` or `i`    | -2,147,483,648 to 2,147,483,647                                           |\n",
    "| `uint32`                  | `u4`           | 0 to 4,294,967,295                                                        |\n",
    "| `int64`                   | `i8`           | -9,223,372,036,854,775,808 to 9,223,372,036,854,775,807                   |\n",
    "| `uint64`                  | `u8`           | 0 to 18,446,744,073,709,551,615                                           |\n",
    "| `float16`                 | `f2`           | ±5.96e-8 to ±65504                                                        |\n",
    "| `float32`                 | `f4` or `f`    | ±1.18e-38 to ±3.4e+38                                                     |\n",
    "| `float` or `float64`      | `f8` or `d`    | ±2.23e-308 to ±1.8e+308                                                   |\n",
    "| `float128` (platform dep) | `f16` or `g`   | ±1.18e-4932 to ±1.18e+4932 *(on compatible platforms)*                    |\n",
    "| `complex64`               | `c8`           | Real and imaginary parts as `float32`                                     |\n",
    "| `complex` or `complex128`| `c16`          | Real and imaginary parts as `float64`                                     |\n",
    "| `bool`                    | *None*         | `True` or `False`                                                         |\n",
    "| `object`                  | `O`            | Python objects                                                            |\n",
    "| `string_`                 | `S`            | Fixed-length ASCII string                                                 |\n",
    "| `unicode_`                | `U`            | Fixed-length Unicode string                                               |\n"
   ]
  },
  {
   "cell_type": "code",
   "execution_count": null,
   "id": "05b8b7da-4c09-4439-97ec-2429db968cb0",
   "metadata": {},
   "outputs": [],
   "source": []
  },
  {
   "cell_type": "code",
   "execution_count": null,
   "id": "86c5f4d8-5d6f-4b29-9cb7-12e0675174b4",
   "metadata": {},
   "outputs": [],
   "source": []
  },
  {
   "cell_type": "code",
   "execution_count": null,
   "id": "be185c69-2e3a-4055-b08c-6fcbd4b0d44d",
   "metadata": {},
   "outputs": [],
   "source": []
  },
  {
   "cell_type": "code",
   "execution_count": 19,
   "id": "70826666-72f9-490d-bc09-8a3b501334a9",
   "metadata": {},
   "outputs": [],
   "source": [
    "x=[[1,2],[4,5]]"
   ]
  },
  {
   "cell_type": "code",
   "execution_count": 20,
   "id": "9b75ca47-4d1d-42b1-b3f2-08c7442b3110",
   "metadata": {},
   "outputs": [
    {
     "data": {
      "text/plain": [
       "[[1, 2], [4, 5]]"
      ]
     },
     "execution_count": 20,
     "metadata": {},
     "output_type": "execute_result"
    }
   ],
   "source": [
    "x"
   ]
  },
  {
   "cell_type": "code",
   "execution_count": 22,
   "id": "fc7c3e25-2637-449d-a2d5-36650a0f8b2f",
   "metadata": {},
   "outputs": [],
   "source": [
    "y=np.array(x)"
   ]
  },
  {
   "cell_type": "code",
   "execution_count": 24,
   "id": "65812cfc-5e00-480b-97af-cd233fb8d56c",
   "metadata": {},
   "outputs": [
    {
     "data": {
      "text/plain": [
       "list"
      ]
     },
     "execution_count": 24,
     "metadata": {},
     "output_type": "execute_result"
    }
   ],
   "source": [
    "type(x)"
   ]
  },
  {
   "cell_type": "code",
   "execution_count": 23,
   "id": "8f7fcc4e-7102-4421-946b-302aadb588b8",
   "metadata": {},
   "outputs": [
    {
     "data": {
      "text/plain": [
       "array([[1, 2],\n",
       "       [4, 5]])"
      ]
     },
     "execution_count": 23,
     "metadata": {},
     "output_type": "execute_result"
    }
   ],
   "source": [
    "y"
   ]
  },
  {
   "cell_type": "code",
   "execution_count": 25,
   "id": "05cda292-5e89-4fbb-a4f1-97f635db1eff",
   "metadata": {},
   "outputs": [
    {
     "data": {
      "text/plain": [
       "numpy.ndarray"
      ]
     },
     "execution_count": 25,
     "metadata": {},
     "output_type": "execute_result"
    }
   ],
   "source": [
    "type(y)"
   ]
  },
  {
   "cell_type": "code",
   "execution_count": 26,
   "id": "76ebc0cd-8638-4254-97ef-4e1323a8fb7d",
   "metadata": {},
   "outputs": [
    {
     "data": {
      "text/plain": [
       "array([[0.5, 1. ],\n",
       "       [2. , 2.5]])"
      ]
     },
     "execution_count": 26,
     "metadata": {},
     "output_type": "execute_result"
    }
   ],
   "source": [
    "y/2"
   ]
  },
  {
   "cell_type": "code",
   "execution_count": null,
   "id": "c75945ec-1ea2-419e-9d9a-b017ffb85b21",
   "metadata": {},
   "outputs": [],
   "source": []
  },
  {
   "cell_type": "code",
   "execution_count": 28,
   "id": "dfd56b44-8189-4639-a06e-06d0af130dd2",
   "metadata": {},
   "outputs": [],
   "source": [
    "x=np.array([1,2,3,4])"
   ]
  },
  {
   "cell_type": "code",
   "execution_count": 31,
   "id": "473dc14d-210d-411f-ac20-3db751b6b2fd",
   "metadata": {},
   "outputs": [],
   "source": [
    "y=np.array([[1,2],[2,3]])"
   ]
  },
  {
   "cell_type": "code",
   "execution_count": 32,
   "id": "efecf758-a5dd-49e2-8c75-d72223edabe1",
   "metadata": {},
   "outputs": [
    {
     "data": {
      "text/plain": [
       "array([[1, 2],\n",
       "       [2, 3]])"
      ]
     },
     "execution_count": 32,
     "metadata": {},
     "output_type": "execute_result"
    }
   ],
   "source": [
    "y"
   ]
  },
  {
   "cell_type": "code",
   "execution_count": 33,
   "id": "379260c5-ed34-4b1d-84dd-13a0217ae3cb",
   "metadata": {},
   "outputs": [
    {
     "data": {
      "text/plain": [
       "array([1, 2, 3, 4])"
      ]
     },
     "execution_count": 33,
     "metadata": {},
     "output_type": "execute_result"
    }
   ],
   "source": [
    "x"
   ]
  },
  {
   "cell_type": "code",
   "execution_count": 35,
   "id": "aa6af7f8-9335-4994-95ba-07f4dbfc1315",
   "metadata": {},
   "outputs": [
    {
     "name": "stdout",
     "output_type": "stream",
     "text": [
      "class:  ndarray\n",
      "shape:  (4,)\n",
      "strides:  (4,)\n",
      "itemsize:  4\n",
      "aligned:  True\n",
      "contiguous:  True\n",
      "fortran:  True\n",
      "data pointer: 0x25f5622b060\n",
      "byteorder:  little\n",
      "byteswap:  False\n",
      "type: int32\n"
     ]
    }
   ],
   "source": [
    "np.info(x)"
   ]
  },
  {
   "cell_type": "code",
   "execution_count": 36,
   "id": "f2a4ff33-9203-4c7e-a1cc-89c7d5ddb435",
   "metadata": {},
   "outputs": [
    {
     "name": "stdout",
     "output_type": "stream",
     "text": [
      "class:  ndarray\n",
      "shape:  (2, 2)\n",
      "strides:  (8, 4)\n",
      "itemsize:  4\n",
      "aligned:  True\n",
      "contiguous:  True\n",
      "fortran:  False\n",
      "data pointer: 0x25f562284a0\n",
      "byteorder:  little\n",
      "byteswap:  False\n",
      "type: int32\n"
     ]
    }
   ],
   "source": [
    "np.info(y)"
   ]
  },
  {
   "cell_type": "code",
   "execution_count": 39,
   "id": "c92b8396-ff04-4382-98be-f13af0d94d14",
   "metadata": {},
   "outputs": [
    {
     "data": {
      "text/plain": [
       "(dtype('int32'), dtype('int32'))"
      ]
     },
     "execution_count": 39,
     "metadata": {},
     "output_type": "execute_result"
    }
   ],
   "source": [
    "x.dtype,y.dtype"
   ]
  },
  {
   "cell_type": "code",
   "execution_count": 40,
   "id": "54c1f7d1-b93b-475f-85d8-1c4d0652c045",
   "metadata": {},
   "outputs": [
    {
     "data": {
      "text/plain": [
       "4"
      ]
     },
     "execution_count": 40,
     "metadata": {},
     "output_type": "execute_result"
    }
   ],
   "source": [
    "len(x)"
   ]
  },
  {
   "cell_type": "code",
   "execution_count": 41,
   "id": "4cd29225-6c14-4414-a534-8a67dcede2e4",
   "metadata": {},
   "outputs": [
    {
     "data": {
      "text/plain": [
       "2"
      ]
     },
     "execution_count": 41,
     "metadata": {},
     "output_type": "execute_result"
    }
   ],
   "source": [
    "len(y)"
   ]
  },
  {
   "cell_type": "code",
   "execution_count": 42,
   "id": "9b931c2f-fa57-4b26-80f8-4fde599e2336",
   "metadata": {},
   "outputs": [
    {
     "data": {
      "text/plain": [
       "1"
      ]
     },
     "execution_count": 42,
     "metadata": {},
     "output_type": "execute_result"
    }
   ],
   "source": [
    "x.ndim"
   ]
  },
  {
   "cell_type": "code",
   "execution_count": 43,
   "id": "34aed5e3-cae5-4643-a6e4-c1dcc6cf7475",
   "metadata": {},
   "outputs": [
    {
     "data": {
      "text/plain": [
       "2"
      ]
     },
     "execution_count": 43,
     "metadata": {},
     "output_type": "execute_result"
    }
   ],
   "source": [
    "y.ndim"
   ]
  },
  {
   "cell_type": "code",
   "execution_count": 44,
   "id": "1dbbfb08-d155-496b-872f-09c045c447e3",
   "metadata": {},
   "outputs": [
    {
     "data": {
      "text/plain": [
       "4"
      ]
     },
     "execution_count": 44,
     "metadata": {},
     "output_type": "execute_result"
    }
   ],
   "source": [
    "x.itemsize"
   ]
  },
  {
   "cell_type": "code",
   "execution_count": 45,
   "id": "890decfb-7e35-4e3f-9f76-699d9bf9921f",
   "metadata": {},
   "outputs": [
    {
     "data": {
      "text/plain": [
       "4"
      ]
     },
     "execution_count": 45,
     "metadata": {},
     "output_type": "execute_result"
    }
   ],
   "source": [
    "y.itemsize"
   ]
  },
  {
   "cell_type": "code",
   "execution_count": 46,
   "id": "78f27977-e735-4c47-b469-8c17ab988165",
   "metadata": {},
   "outputs": [],
   "source": [
    "#### data creation functions"
   ]
  },
  {
   "cell_type": "code",
   "execution_count": 49,
   "id": "47eac32f-4e17-4044-9607-792357b50aab",
   "metadata": {},
   "outputs": [
    {
     "data": {
      "text/plain": [
       "array([0, 2, 4, 6, 8])"
      ]
     },
     "execution_count": 49,
     "metadata": {},
     "output_type": "execute_result"
    }
   ],
   "source": [
    "np.arange(0,10,2)"
   ]
  },
  {
   "cell_type": "code",
   "execution_count": 51,
   "id": "85c94fdd-5627-41c3-a5b7-b5cdae010cef",
   "metadata": {},
   "outputs": [
    {
     "data": {
      "text/plain": [
       "array([10,  8,  6,  4,  2])"
      ]
     },
     "execution_count": 51,
     "metadata": {},
     "output_type": "execute_result"
    }
   ],
   "source": [
    "np.arange(10,0,-2)"
   ]
  },
  {
   "cell_type": "code",
   "execution_count": 77,
   "id": "f0df5ec7-952f-4190-8efe-cf718db77d01",
   "metadata": {},
   "outputs": [
    {
     "data": {
      "text/plain": [
       "0"
      ]
     },
     "execution_count": 77,
     "metadata": {},
     "output_type": "execute_result"
    }
   ],
   "source": [
    "np.random.randint(0,10)"
   ]
  },
  {
   "cell_type": "code",
   "execution_count": 106,
   "id": "ad3e4f93-af55-4ce9-b8fb-0602c58dfc15",
   "metadata": {},
   "outputs": [
    {
     "data": {
      "text/plain": [
       "array([1810654,  314897, 1580402, 1198552, 1304506,  437161,  776218,\n",
       "        953606, 1373039,  685691, 1566612,  380126,  986678, 1476108,\n",
       "        823936, 1649985, 1869988, 1203153, 1522983, 1074906, 1315514,\n",
       "       1923422, 1303826,  687885,  663284,  121673, 1675459,  162918,\n",
       "       1702982,  996908, 1490680,  685753, 1306142,  360552, 1408104,\n",
       "        406723,  302026, 1037104,  967499,  876132,  735254,  693012,\n",
       "         50305,  813290, 1343033,  371952,   26459,  930902, 1925241,\n",
       "        869372, 1414457, 1067871, 1158423, 1924934,  990653, 1476440,\n",
       "       1313967, 1293209,  782488, 1820477, 1631304,   49534, 1812841,\n",
       "       1023369,  999938,  886033, 1565748,  558409,  981759, 1455538,\n",
       "       1980180, 1054950,   21589,  862432, 1351647,  167736, 1686924,\n",
       "        290845,   21332,  231207, 1392643, 1033117,  444600,  986474,\n",
       "        673460, 1168904,   95312, 1840890, 1358073,  781496,  354660,\n",
       "       1151205, 1369378,   84657, 1788235, 1000541, 1446400,  564160,\n",
       "       1656284,  197172])"
      ]
     },
     "execution_count": 106,
     "metadata": {},
     "output_type": "execute_result"
    }
   ],
   "source": [
    "np.random.randint(10000,2000000,100)"
   ]
  },
  {
   "cell_type": "code",
   "execution_count": 107,
   "id": "f641b496-8fcc-4d57-a47f-bb5202bc7307",
   "metadata": {},
   "outputs": [
    {
     "data": {
      "text/plain": [
       "array([0.29681931, 0.1027776 , 0.08492874, 0.35391725, 0.03228809,\n",
       "       0.21815616, 0.36944287, 0.20200874, 0.95239274, 0.66680485])"
      ]
     },
     "execution_count": 107,
     "metadata": {},
     "output_type": "execute_result"
    }
   ],
   "source": [
    "np.random.rand(10)"
   ]
  },
  {
   "cell_type": "code",
   "execution_count": 108,
   "id": "7b5d008b-635b-4596-bdac-cb32374410b5",
   "metadata": {},
   "outputs": [
    {
     "data": {
      "text/plain": [
       "array([ 0.36326531, -0.44111083,  0.36191313, -1.49962138, -1.67681584,\n",
       "        0.51471287,  0.29098469,  1.27676368,  1.01463911,  1.00200777])"
      ]
     },
     "execution_count": 108,
     "metadata": {},
     "output_type": "execute_result"
    }
   ],
   "source": [
    "np.random.randn(10)  ### normal distribution of data"
   ]
  },
  {
   "cell_type": "code",
   "execution_count": 112,
   "id": "092a2f82-0007-42a5-8b23-0ae3fe6880c2",
   "metadata": {},
   "outputs": [
    {
     "data": {
      "text/plain": [
       "-0.0003910415994075816"
      ]
     },
     "execution_count": 112,
     "metadata": {},
     "output_type": "execute_result"
    }
   ],
   "source": [
    "np.random.randn(1000000) .mean()"
   ]
  },
  {
   "cell_type": "code",
   "execution_count": 110,
   "id": "b527a969-a60e-43be-ba39-5d91dad54c64",
   "metadata": {},
   "outputs": [
    {
     "data": {
      "text/plain": [
       "1.2399956195817052"
      ]
     },
     "execution_count": 110,
     "metadata": {},
     "output_type": "execute_result"
    }
   ],
   "source": [
    "np.random.randn(10) .std()"
   ]
  },
  {
   "cell_type": "code",
   "execution_count": null,
   "id": "0b9003d6-66cf-40d0-a819-9933182bf7a9",
   "metadata": {},
   "outputs": [],
   "source": [
    "#### "
   ]
  },
  {
   "cell_type": "code",
   "execution_count": 113,
   "id": "f2530851-99e9-4517-ab42-3f1ffe80815a",
   "metadata": {},
   "outputs": [],
   "source": [
    "x=np.random.randint(0,10,(2,2))"
   ]
  },
  {
   "cell_type": "code",
   "execution_count": 114,
   "id": "c612478e-304d-4bd5-bf23-d2c8ccec4815",
   "metadata": {},
   "outputs": [],
   "source": [
    "y=np.random.randint(0,10,(2,2))"
   ]
  },
  {
   "cell_type": "code",
   "execution_count": 115,
   "id": "4ff823d9-e1eb-4aa3-b950-722019a98f4c",
   "metadata": {},
   "outputs": [
    {
     "data": {
      "text/plain": [
       "array([[5, 2],\n",
       "       [9, 6]])"
      ]
     },
     "execution_count": 115,
     "metadata": {},
     "output_type": "execute_result"
    }
   ],
   "source": [
    "x"
   ]
  },
  {
   "cell_type": "code",
   "execution_count": 116,
   "id": "a9bb2ae0-34f6-41dc-a91d-efab81126e12",
   "metadata": {},
   "outputs": [
    {
     "data": {
      "text/plain": [
       "array([[9, 2],\n",
       "       [5, 0]])"
      ]
     },
     "execution_count": 116,
     "metadata": {},
     "output_type": "execute_result"
    }
   ],
   "source": [
    "y"
   ]
  },
  {
   "cell_type": "code",
   "execution_count": 117,
   "id": "7143fc9d-4fa8-416d-98e4-30ee416bdcc5",
   "metadata": {},
   "outputs": [],
   "source": [
    "z=10"
   ]
  },
  {
   "cell_type": "code",
   "execution_count": 118,
   "id": "dfd38bc0-1ba7-4115-8bc1-9a522dcd11e7",
   "metadata": {},
   "outputs": [
    {
     "data": {
      "text/plain": [
       "array([[14,  4],\n",
       "       [14,  6]])"
      ]
     },
     "execution_count": 118,
     "metadata": {},
     "output_type": "execute_result"
    }
   ],
   "source": [
    "np.add(x,y)"
   ]
  },
  {
   "cell_type": "code",
   "execution_count": null,
   "id": "2e637a83-5f1d-4390-981f-996026f327fd",
   "metadata": {},
   "outputs": [],
   "source": []
  },
  {
   "cell_type": "code",
   "execution_count": null,
   "id": "39815dfd-d5a8-4e40-99ee-db4649fd2282",
   "metadata": {},
   "outputs": [],
   "source": []
  },
  {
   "cell_type": "code",
   "execution_count": null,
   "id": "d3bc1e8a-c7f1-4706-95b4-9b14a2f9c7b5",
   "metadata": {},
   "outputs": [],
   "source": []
  },
  {
   "cell_type": "code",
   "execution_count": null,
   "id": "4dea0cd7-0979-4437-b809-b95b32d5bdd0",
   "metadata": {},
   "outputs": [],
   "source": []
  },
  {
   "cell_type": "code",
   "execution_count": 119,
   "id": "c3589464-6e9e-4436-ba04-03300fd6499b",
   "metadata": {},
   "outputs": [],
   "source": [
    "x=np.random.randint(0,10,(5,5))"
   ]
  },
  {
   "cell_type": "code",
   "execution_count": 120,
   "id": "99edd1b3-c4b6-4134-ad41-d0f26c904b4b",
   "metadata": {},
   "outputs": [
    {
     "data": {
      "text/plain": [
       "array([[4, 7, 3, 1, 3],\n",
       "       [9, 0, 5, 7, 7],\n",
       "       [3, 3, 7, 3, 0],\n",
       "       [9, 6, 1, 9, 5],\n",
       "       [0, 5, 9, 1, 7]])"
      ]
     },
     "execution_count": 120,
     "metadata": {},
     "output_type": "execute_result"
    }
   ],
   "source": [
    "x"
   ]
  },
  {
   "cell_type": "code",
   "execution_count": 124,
   "id": "d4a149e9-d339-4769-9740-1b76e0424139",
   "metadata": {},
   "outputs": [
    {
     "data": {
      "text/plain": [
       "array([[3, 0],\n",
       "       [9, 5],\n",
       "       [1, 7]])"
      ]
     },
     "execution_count": 124,
     "metadata": {},
     "output_type": "execute_result"
    }
   ],
   "source": [
    "x[2:5,3:5]"
   ]
  },
  {
   "cell_type": "code",
   "execution_count": null,
   "id": "bf9b5ce7-b251-4ed6-aa9d-ce200ba02bd1",
   "metadata": {},
   "outputs": [],
   "source": []
  },
  {
   "cell_type": "code",
   "execution_count": 125,
   "id": "19435e50-8aa7-464d-8d48-0e22b21b5b79",
   "metadata": {},
   "outputs": [
    {
     "data": {
      "text/plain": [
       "array([[4, 7, 3, 1, 3],\n",
       "       [9, 0, 5, 7, 7],\n",
       "       [3, 3, 7, 3, 0],\n",
       "       [9, 6, 1, 9, 5],\n",
       "       [0, 5, 9, 1, 7]])"
      ]
     },
     "execution_count": 125,
     "metadata": {},
     "output_type": "execute_result"
    }
   ],
   "source": [
    "x"
   ]
  },
  {
   "cell_type": "code",
   "execution_count": 126,
   "id": "9c31899f-cc7f-4c60-8d09-664517eaca3c",
   "metadata": {},
   "outputs": [
    {
     "data": {
      "text/plain": [
       "array([[9]])"
      ]
     },
     "execution_count": 126,
     "metadata": {},
     "output_type": "execute_result"
    }
   ],
   "source": [
    "x[-2:-1,-2:-1]"
   ]
  },
  {
   "cell_type": "code",
   "execution_count": null,
   "id": "3683e48c-e1a7-4fbf-b225-651795cbd965",
   "metadata": {},
   "outputs": [],
   "source": []
  },
  {
   "cell_type": "code",
   "execution_count": 127,
   "id": "dff159f3-40c9-4a61-b53d-fe2deecec164",
   "metadata": {},
   "outputs": [
    {
     "data": {
      "text/plain": [
       "array([[4, 7, 3, 1, 3],\n",
       "       [9, 0, 5, 7, 7],\n",
       "       [3, 3, 7, 3, 0],\n",
       "       [9, 6, 1, 9, 5],\n",
       "       [0, 5, 9, 1, 7]])"
      ]
     },
     "execution_count": 127,
     "metadata": {},
     "output_type": "execute_result"
    }
   ],
   "source": [
    "x"
   ]
  },
  {
   "cell_type": "code",
   "execution_count": 128,
   "id": "fe574466-4127-43a7-9fc9-24bb14029ff2",
   "metadata": {},
   "outputs": [
    {
     "data": {
      "text/plain": [
       "array([[3, 0],\n",
       "       [9, 5]])"
      ]
     },
     "execution_count": 128,
     "metadata": {},
     "output_type": "execute_result"
    }
   ],
   "source": [
    "x[-3:-1,-2:]"
   ]
  },
  {
   "cell_type": "code",
   "execution_count": 129,
   "id": "afeab41e-3960-4675-ae4c-939989a575f5",
   "metadata": {},
   "outputs": [],
   "source": [
    "### inbuilt functions"
   ]
  },
  {
   "cell_type": "code",
   "execution_count": 130,
   "id": "980d4ffa-2813-4ea0-93af-abc1463161c8",
   "metadata": {},
   "outputs": [],
   "source": [
    "x=np.random.randint(0,10,(2,2))"
   ]
  },
  {
   "cell_type": "code",
   "execution_count": 131,
   "id": "d5adbfb1-d6bf-466e-8a49-a5ad7a051794",
   "metadata": {},
   "outputs": [],
   "source": [
    "y=np.random.randint(0,10,(2,2))"
   ]
  },
  {
   "cell_type": "code",
   "execution_count": 132,
   "id": "63702001-577e-49b6-aae6-9a1295347f74",
   "metadata": {},
   "outputs": [
    {
     "data": {
      "text/plain": [
       "array([[7, 7],\n",
       "       [0, 4]])"
      ]
     },
     "execution_count": 132,
     "metadata": {},
     "output_type": "execute_result"
    }
   ],
   "source": [
    "x"
   ]
  },
  {
   "cell_type": "code",
   "execution_count": 133,
   "id": "230c993f-5ad5-4fbc-9326-6434e04b4d9a",
   "metadata": {},
   "outputs": [
    {
     "data": {
      "text/plain": [
       "array([[3, 7],\n",
       "       [6, 7]])"
      ]
     },
     "execution_count": 133,
     "metadata": {},
     "output_type": "execute_result"
    }
   ],
   "source": [
    "y"
   ]
  },
  {
   "cell_type": "code",
   "execution_count": 134,
   "id": "be43e2ca-6591-40dd-bd1c-37b1a11fbf04",
   "metadata": {},
   "outputs": [
    {
     "data": {
      "text/plain": [
       "array([[10, 14],\n",
       "       [ 6, 11]])"
      ]
     },
     "execution_count": 134,
     "metadata": {},
     "output_type": "execute_result"
    }
   ],
   "source": [
    "np.add(x,y)"
   ]
  },
  {
   "cell_type": "code",
   "execution_count": 135,
   "id": "dde04bc6-8f52-4ba3-b193-ad95f1fd350c",
   "metadata": {},
   "outputs": [
    {
     "data": {
      "text/plain": [
       "array([[21, 49],\n",
       "       [ 0, 28]])"
      ]
     },
     "execution_count": 135,
     "metadata": {},
     "output_type": "execute_result"
    }
   ],
   "source": [
    "np.multiply(x,y)"
   ]
  },
  {
   "cell_type": "code",
   "execution_count": 136,
   "id": "a2c6130c-99a9-4315-a025-2d4e5a4945ce",
   "metadata": {},
   "outputs": [
    {
     "data": {
      "text/plain": [
       "array([[ 4,  0],\n",
       "       [-6, -3]])"
      ]
     },
     "execution_count": 136,
     "metadata": {},
     "output_type": "execute_result"
    }
   ],
   "source": [
    "np.subtract(x,y)"
   ]
  },
  {
   "cell_type": "code",
   "execution_count": 137,
   "id": "3b998917-65b1-4df6-8304-bae984ac9a8a",
   "metadata": {},
   "outputs": [
    {
     "data": {
      "text/plain": [
       "array([[2.33333333, 1.        ],\n",
       "       [0.        , 0.57142857]])"
      ]
     },
     "execution_count": 137,
     "metadata": {},
     "output_type": "execute_result"
    }
   ],
   "source": [
    "np.divide(x,y)"
   ]
  },
  {
   "cell_type": "code",
   "execution_count": 138,
   "id": "2225ab9f-91b0-4d9e-98e6-eed69b1fe357",
   "metadata": {},
   "outputs": [
    {
     "data": {
      "text/plain": [
       "array([[7, 7],\n",
       "       [0, 4]])"
      ]
     },
     "execution_count": 138,
     "metadata": {},
     "output_type": "execute_result"
    }
   ],
   "source": [
    "x"
   ]
  },
  {
   "cell_type": "code",
   "execution_count": 139,
   "id": "0a671e67-ae01-4d34-9833-f81be0c93667",
   "metadata": {},
   "outputs": [
    {
     "data": {
      "text/plain": [
       "array([[3, 7],\n",
       "       [6, 7]])"
      ]
     },
     "execution_count": 139,
     "metadata": {},
     "output_type": "execute_result"
    }
   ],
   "source": [
    "y"
   ]
  },
  {
   "cell_type": "code",
   "execution_count": 140,
   "id": "d679b3eb-c132-4992-8ad4-1418de9e077f",
   "metadata": {},
   "outputs": [
    {
     "data": {
      "text/plain": [
       "array([[2, 1],\n",
       "       [0, 0]])"
      ]
     },
     "execution_count": 140,
     "metadata": {},
     "output_type": "execute_result"
    }
   ],
   "source": [
    "np.floor_divide(x,y)"
   ]
  },
  {
   "cell_type": "code",
   "execution_count": 141,
   "id": "42609113-c913-48d7-b01a-6bed17495148",
   "metadata": {},
   "outputs": [
    {
     "data": {
      "text/plain": [
       "array([[1, 0],\n",
       "       [0, 4]])"
      ]
     },
     "execution_count": 141,
     "metadata": {},
     "output_type": "execute_result"
    }
   ],
   "source": [
    "np.mod(x,y)"
   ]
  },
  {
   "cell_type": "code",
   "execution_count": 142,
   "id": "59658086-a7d1-4951-882f-60748ad02da4",
   "metadata": {},
   "outputs": [
    {
     "data": {
      "text/plain": [
       "array([[49, 49],\n",
       "       [ 0, 16]], dtype=int32)"
      ]
     },
     "execution_count": 142,
     "metadata": {},
     "output_type": "execute_result"
    }
   ],
   "source": [
    "np.power(x,2)"
   ]
  },
  {
   "cell_type": "code",
   "execution_count": 149,
   "id": "25637382-e290-4f45-8578-addb28e2e30f",
   "metadata": {},
   "outputs": [
    {
     "data": {
      "text/plain": [
       "array([[17, 17],\n",
       "       [10, 14]])"
      ]
     },
     "execution_count": 149,
     "metadata": {},
     "output_type": "execute_result"
    }
   ],
   "source": [
    "x+10"
   ]
  },
  {
   "cell_type": "code",
   "execution_count": 148,
   "id": "88471f7a-8e00-4ab2-a8aa-5d9f1b94cf6f",
   "metadata": {},
   "outputs": [
    {
     "data": {
      "text/plain": [
       "array([[17, 17],\n",
       "       [10, 14]])"
      ]
     },
     "execution_count": 148,
     "metadata": {},
     "output_type": "execute_result"
    }
   ],
   "source": [
    "np.add(x,10)"
   ]
  },
  {
   "cell_type": "code",
   "execution_count": null,
   "id": "99f5976e-7fc6-49dc-9a94-4657152de206",
   "metadata": {},
   "outputs": [],
   "source": [
    "####"
   ]
  },
  {
   "cell_type": "code",
   "execution_count": 152,
   "id": "fe89a893-756e-4a34-8ce7-b98125c3b8ef",
   "metadata": {},
   "outputs": [],
   "source": [
    "y=x/3"
   ]
  },
  {
   "cell_type": "code",
   "execution_count": 159,
   "id": "019587e5-a442-4b16-8417-bdd6ffe1fbc1",
   "metadata": {},
   "outputs": [],
   "source": [
    "y=np.array([[1.6,2.3],[3.5,3.9]])"
   ]
  },
  {
   "cell_type": "code",
   "execution_count": 160,
   "id": "a3d0177f-b5c4-4256-9b85-c41fb38747e2",
   "metadata": {},
   "outputs": [
    {
     "data": {
      "text/plain": [
       "array([[1.6, 2.3],\n",
       "       [3.5, 3.9]])"
      ]
     },
     "execution_count": 160,
     "metadata": {},
     "output_type": "execute_result"
    }
   ],
   "source": [
    "y"
   ]
  },
  {
   "cell_type": "code",
   "execution_count": 162,
   "id": "87d79560-51de-4ef2-93f6-14128f9cd43c",
   "metadata": {},
   "outputs": [
    {
     "data": {
      "text/plain": [
       "array([[2., 2.],\n",
       "       [4., 4.]])"
      ]
     },
     "execution_count": 162,
     "metadata": {},
     "output_type": "execute_result"
    }
   ],
   "source": [
    "np.round(y)"
   ]
  },
  {
   "cell_type": "code",
   "execution_count": 163,
   "id": "d71e7026-6a35-4a8f-91f3-baa7ccbc5ce1",
   "metadata": {},
   "outputs": [],
   "source": [
    "y=np.array([[-1.6,-2.3-3.5,-3.9]])"
   ]
  },
  {
   "cell_type": "code",
   "execution_count": 164,
   "id": "51ba252c-9474-4b1e-a205-cc544c23b2b4",
   "metadata": {},
   "outputs": [
    {
     "data": {
      "text/plain": [
       "array([[-2., -2., -4., -4.]])"
      ]
     },
     "execution_count": 164,
     "metadata": {},
     "output_type": "execute_result"
    }
   ],
   "source": [
    "y=np.array([[-1.6,-2.3,-3.5,-3.9]])\n",
    "np.round(y)"
   ]
  },
  {
   "cell_type": "code",
   "execution_count": 167,
   "id": "5adf5b5b-3074-46b1-96b7-150235d5e7d2",
   "metadata": {},
   "outputs": [
    {
     "data": {
      "text/plain": [
       "array([[1.6, 2.3, 3.5, 3.9]])"
      ]
     },
     "execution_count": 167,
     "metadata": {},
     "output_type": "execute_result"
    }
   ],
   "source": [
    "y=-1*y\n",
    "y"
   ]
  },
  {
   "cell_type": "code",
   "execution_count": 170,
   "id": "ed3118e5-470a-4c74-bc4a-1d21f6f706dd",
   "metadata": {},
   "outputs": [
    {
     "data": {
      "text/plain": [
       "array([[1., 2., 3., 3.]])"
      ]
     },
     "execution_count": 170,
     "metadata": {},
     "output_type": "execute_result"
    }
   ],
   "source": [
    "np.floor(y)"
   ]
  },
  {
   "cell_type": "code",
   "execution_count": 171,
   "id": "35ce6c3b-8ad5-441a-aa21-6077fa1925f4",
   "metadata": {},
   "outputs": [
    {
     "data": {
      "text/plain": [
       "array([[2., 3., 4., 4.]])"
      ]
     },
     "execution_count": 171,
     "metadata": {},
     "output_type": "execute_result"
    }
   ],
   "source": [
    "np.ceil(y)"
   ]
  },
  {
   "cell_type": "code",
   "execution_count": 172,
   "id": "7aa43fb2-6d9b-4a81-ab3c-783815b31bea",
   "metadata": {},
   "outputs": [
    {
     "data": {
      "text/plain": [
       "array([[1., 2., 3., 3.]])"
      ]
     },
     "execution_count": 172,
     "metadata": {},
     "output_type": "execute_result"
    }
   ],
   "source": [
    "\n",
    "np.fix(y)"
   ]
  },
  {
   "cell_type": "code",
   "execution_count": 173,
   "id": "1ed3ad2c-fdf3-4765-9a55-b999e4d87f19",
   "metadata": {},
   "outputs": [
    {
     "data": {
      "text/plain": [
       "array([[1.6, 2.3, 3.5, 3.9]])"
      ]
     },
     "execution_count": 173,
     "metadata": {},
     "output_type": "execute_result"
    }
   ],
   "source": [
    "y"
   ]
  },
  {
   "cell_type": "code",
   "execution_count": 175,
   "id": "18fec27f-8461-4beb-8886-a13582488a1c",
   "metadata": {},
   "outputs": [],
   "source": [
    "y=-1*y"
   ]
  },
  {
   "cell_type": "code",
   "execution_count": 176,
   "id": "95298728-3295-4c88-be93-3985795fd9a9",
   "metadata": {},
   "outputs": [
    {
     "data": {
      "text/plain": [
       "array([[-1.6, -2.3, -3.5, -3.9]])"
      ]
     },
     "execution_count": 176,
     "metadata": {},
     "output_type": "execute_result"
    }
   ],
   "source": [
    "y"
   ]
  },
  {
   "cell_type": "code",
   "execution_count": 177,
   "id": "816fa9b8-8452-40a7-b02b-cdcf54d2ee06",
   "metadata": {},
   "outputs": [
    {
     "data": {
      "text/plain": [
       "array([[-1., -2., -3., -3.]])"
      ]
     },
     "execution_count": 177,
     "metadata": {},
     "output_type": "execute_result"
    }
   ],
   "source": [
    "np.fix(y)"
   ]
  },
  {
   "cell_type": "code",
   "execution_count": 178,
   "id": "ddc5350a-e9c2-4f66-9c4e-ce1b40b9300b",
   "metadata": {},
   "outputs": [
    {
     "data": {
      "text/plain": [
       "array([[-2., -3., -4., -4.]])"
      ]
     },
     "execution_count": 178,
     "metadata": {},
     "output_type": "execute_result"
    }
   ],
   "source": [
    "np.floor(y)"
   ]
  },
  {
   "cell_type": "code",
   "execution_count": null,
   "id": "22ab55ef-7960-4730-8e48-a3ffaf6dbe6f",
   "metadata": {},
   "outputs": [],
   "source": []
  },
  {
   "cell_type": "code",
   "execution_count": null,
   "id": "9952cbfe-b6f0-436a-a60c-dd61ea46aa43",
   "metadata": {},
   "outputs": [],
   "source": []
  },
  {
   "cell_type": "code",
   "execution_count": 179,
   "id": "ec23a9b8-b25c-4a7f-a652-cc543aebae6e",
   "metadata": {},
   "outputs": [
    {
     "data": {
      "text/plain": [
       "array([[-1.6, -2.3, -3.5, -3.9]])"
      ]
     },
     "execution_count": 179,
     "metadata": {},
     "output_type": "execute_result"
    }
   ],
   "source": [
    "y"
   ]
  },
  {
   "cell_type": "code",
   "execution_count": 180,
   "id": "f5ae9774-3972-40e3-9fd6-6f6ad69ae1ff",
   "metadata": {},
   "outputs": [],
   "source": [
    "x=-1*y"
   ]
  },
  {
   "cell_type": "code",
   "execution_count": 181,
   "id": "f1097ace-6b70-4a93-8302-c3b6c4d5966a",
   "metadata": {},
   "outputs": [
    {
     "data": {
      "text/plain": [
       "array([[1.6, 2.3, 3.5, 3.9]])"
      ]
     },
     "execution_count": 181,
     "metadata": {},
     "output_type": "execute_result"
    }
   ],
   "source": [
    "x"
   ]
  },
  {
   "cell_type": "code",
   "execution_count": 182,
   "id": "31ba507a-7cb5-46cc-b88a-b2892fd7130d",
   "metadata": {},
   "outputs": [
    {
     "data": {
      "text/plain": [
       "array([[-1.6, -2.3, -3.5, -3.9]])"
      ]
     },
     "execution_count": 182,
     "metadata": {},
     "output_type": "execute_result"
    }
   ],
   "source": [
    "y"
   ]
  },
  {
   "cell_type": "code",
   "execution_count": 183,
   "id": "8b538652-d10a-4cc3-a1c0-0cac94443582",
   "metadata": {},
   "outputs": [
    {
     "data": {
      "text/plain": [
       "array([[1., 2., 3., 3.]])"
      ]
     },
     "execution_count": 183,
     "metadata": {},
     "output_type": "execute_result"
    }
   ],
   "source": [
    "np.floor(x)"
   ]
  },
  {
   "cell_type": "code",
   "execution_count": 184,
   "id": "790465d0-6373-40f5-a434-977f86167a4a",
   "metadata": {},
   "outputs": [
    {
     "data": {
      "text/plain": [
       "array([[-2., -3., -4., -4.]])"
      ]
     },
     "execution_count": 184,
     "metadata": {},
     "output_type": "execute_result"
    }
   ],
   "source": [
    "np.floor(y)"
   ]
  },
  {
   "cell_type": "code",
   "execution_count": 185,
   "id": "03c3bcd6-a7b2-40a4-b260-e50dcc919a08",
   "metadata": {},
   "outputs": [
    {
     "data": {
      "text/plain": [
       "array([[1., 2., 3., 3.]])"
      ]
     },
     "execution_count": 185,
     "metadata": {},
     "output_type": "execute_result"
    }
   ],
   "source": [
    "np.fix(x)"
   ]
  },
  {
   "cell_type": "code",
   "execution_count": 186,
   "id": "a894cd7d-7f0a-4eaf-855e-c09c9d2f5274",
   "metadata": {},
   "outputs": [
    {
     "data": {
      "text/plain": [
       "array([[-1., -2., -3., -3.]])"
      ]
     },
     "execution_count": 186,
     "metadata": {},
     "output_type": "execute_result"
    }
   ],
   "source": [
    "np.fix(y)"
   ]
  },
  {
   "cell_type": "code",
   "execution_count": null,
   "id": "a84dcd74-eca2-4446-a140-3008064d1f55",
   "metadata": {},
   "outputs": [],
   "source": [
    "### log and exponential"
   ]
  },
  {
   "cell_type": "code",
   "execution_count": 187,
   "id": "097d380c-6d52-403c-8903-b27058cb2cf8",
   "metadata": {},
   "outputs": [
    {
     "data": {
      "text/plain": [
       "2.718281828459045"
      ]
     },
     "execution_count": 187,
     "metadata": {},
     "output_type": "execute_result"
    }
   ],
   "source": [
    "import math\n",
    "math.e"
   ]
  },
  {
   "cell_type": "code",
   "execution_count": 188,
   "id": "3109a645-5e62-423f-8f1a-ede0b2f62aa5",
   "metadata": {},
   "outputs": [
    {
     "data": {
      "text/plain": [
       "3.141592653589793"
      ]
     },
     "execution_count": 188,
     "metadata": {},
     "output_type": "execute_result"
    }
   ],
   "source": [
    "math.pi"
   ]
  },
  {
   "cell_type": "code",
   "execution_count": 189,
   "id": "ed40bc28-4219-49d0-b4a4-099cf149c52b",
   "metadata": {},
   "outputs": [
    {
     "data": {
      "text/plain": [
       "6.283185307179586"
      ]
     },
     "execution_count": 189,
     "metadata": {},
     "output_type": "execute_result"
    }
   ],
   "source": [
    "math.tau"
   ]
  },
  {
   "cell_type": "code",
   "execution_count": 193,
   "id": "7f09f44d-941a-42be-8645-0abc856eaf5f",
   "metadata": {},
   "outputs": [
    {
     "data": {
      "text/plain": [
       "0.1353352832366127"
      ]
     },
     "execution_count": 193,
     "metadata": {},
     "output_type": "execute_result"
    }
   ],
   "source": [
    "np.exp(-2)"
   ]
  },
  {
   "cell_type": "code",
   "execution_count": 194,
   "id": "7c484336-b60b-4a31-a00e-378b6a5ec53a",
   "metadata": {},
   "outputs": [
    {
     "data": {
      "text/plain": [
       "0.1353352832366127"
      ]
     },
     "execution_count": 194,
     "metadata": {},
     "output_type": "execute_result"
    }
   ],
   "source": [
    "np.power(2.718281828459045,-2)"
   ]
  },
  {
   "cell_type": "code",
   "execution_count": 197,
   "id": "1c6fea25-8531-4ee6-b55c-783af01561d5",
   "metadata": {},
   "outputs": [
    {
     "data": {
      "text/plain": [
       "7.38905609893065"
      ]
     },
     "execution_count": 197,
     "metadata": {},
     "output_type": "execute_result"
    }
   ],
   "source": [
    "np.exp(2)"
   ]
  },
  {
   "cell_type": "code",
   "execution_count": 196,
   "id": "aaf43a03-5dc6-4ac5-ac74-28d94ef405bd",
   "metadata": {},
   "outputs": [
    {
     "data": {
      "text/plain": [
       "6.38905609893065"
      ]
     },
     "execution_count": 196,
     "metadata": {},
     "output_type": "execute_result"
    }
   ],
   "source": [
    "np.expm1(2)"
   ]
  },
  {
   "cell_type": "code",
   "execution_count": 198,
   "id": "2cc14976-6942-4306-8c7a-6f394750b226",
   "metadata": {},
   "outputs": [
    {
     "data": {
      "text/plain": [
       "array([[1.6, 2.3, 3.5, 3.9]])"
      ]
     },
     "execution_count": 198,
     "metadata": {},
     "output_type": "execute_result"
    }
   ],
   "source": [
    "x"
   ]
  },
  {
   "cell_type": "code",
   "execution_count": 199,
   "id": "f646afba-6866-40b4-9e0b-03e255dc250b",
   "metadata": {},
   "outputs": [
    {
     "data": {
      "text/plain": [
       "array([[ 4.95303242,  9.97418245, 33.11545196, 49.40244911]])"
      ]
     },
     "execution_count": 199,
     "metadata": {},
     "output_type": "execute_result"
    }
   ],
   "source": [
    "np.exp(x)"
   ]
  },
  {
   "cell_type": "code",
   "execution_count": 201,
   "id": "e7c4211b-4227-4c7f-9177-f5909d8f1ecf",
   "metadata": {},
   "outputs": [
    {
     "data": {
      "text/plain": [
       "1.0"
      ]
     },
     "execution_count": 201,
     "metadata": {},
     "output_type": "execute_result"
    }
   ],
   "source": [
    "np.log(math.e)"
   ]
  },
  {
   "cell_type": "code",
   "execution_count": 202,
   "id": "ea97facd-452c-4616-8a61-82100bb68449",
   "metadata": {},
   "outputs": [
    {
     "data": {
      "text/plain": [
       "1.0"
      ]
     },
     "execution_count": 202,
     "metadata": {},
     "output_type": "execute_result"
    }
   ],
   "source": [
    "np.log2(2)"
   ]
  },
  {
   "cell_type": "code",
   "execution_count": 200,
   "id": "cdd73033-92a1-40ad-8374-104adc032e16",
   "metadata": {},
   "outputs": [
    {
     "data": {
      "text/plain": [
       "1.0"
      ]
     },
     "execution_count": 200,
     "metadata": {},
     "output_type": "execute_result"
    }
   ],
   "source": [
    "np.log10(10)"
   ]
  },
  {
   "cell_type": "code",
   "execution_count": 203,
   "id": "51582975-ca84-4a6e-8aea-38dd4dcb2273",
   "metadata": {},
   "outputs": [
    {
     "data": {
      "text/plain": [
       "4.0"
      ]
     },
     "execution_count": 203,
     "metadata": {},
     "output_type": "execute_result"
    }
   ],
   "source": [
    "np.log2(16)"
   ]
  },
  {
   "cell_type": "code",
   "execution_count": 204,
   "id": "6b9dba84-63fa-4eae-bb29-d32a35dd537f",
   "metadata": {},
   "outputs": [],
   "source": [
    "x=2"
   ]
  },
  {
   "cell_type": "code",
   "execution_count": 205,
   "id": "5818c3a0-496c-469d-93db-c031d31c5e1b",
   "metadata": {},
   "outputs": [
    {
     "data": {
      "text/plain": [
       "array([[6, 3],\n",
       "       [7, 0]])"
      ]
     },
     "execution_count": 205,
     "metadata": {},
     "output_type": "execute_result"
    }
   ],
   "source": [
    "np.random.randint(0,10,(2,2))"
   ]
  },
  {
   "cell_type": "code",
   "execution_count": null,
   "id": "0a6721d6-5a7c-41f6-869f-2deb59dd7471",
   "metadata": {},
   "outputs": [],
   "source": []
  },
  {
   "cell_type": "code",
   "execution_count": 206,
   "id": "097b6bab-0ae8-4ac2-bf44-66332684e2d7",
   "metadata": {},
   "outputs": [],
   "source": [
    "###  statistical functions"
   ]
  },
  {
   "cell_type": "code",
   "execution_count": null,
   "id": "1feec05a-8505-4ded-9e03-1cbc0e4910ed",
   "metadata": {},
   "outputs": [],
   "source": []
  },
  {
   "cell_type": "code",
   "execution_count": 216,
   "id": "3e474dae-3417-44e8-b236-108d28c26c32",
   "metadata": {},
   "outputs": [],
   "source": [
    "data=np.array([10,11,15,21,36,1000])"
   ]
  },
  {
   "cell_type": "code",
   "execution_count": 211,
   "id": "0d5df583-34dc-435d-81f0-ab6b43d798a9",
   "metadata": {},
   "outputs": [
    {
     "data": {
      "text/plain": [
       "32.166666666666664"
      ]
     },
     "execution_count": 211,
     "metadata": {},
     "output_type": "execute_result"
    }
   ],
   "source": [
    "np.mean(data)"
   ]
  },
  {
   "cell_type": "code",
   "execution_count": 214,
   "id": "0d158f1d-082a-4da2-91bc-3a30290da772",
   "metadata": {},
   "outputs": [
    {
     "data": {
      "text/plain": [
       "182.16666666666666"
      ]
     },
     "execution_count": 214,
     "metadata": {},
     "output_type": "execute_result"
    }
   ],
   "source": [
    "(10+11+15+21+36+1000)/6"
   ]
  },
  {
   "cell_type": "code",
   "execution_count": 217,
   "id": "9fd743fc-fd53-494a-a386-849a102fc73e",
   "metadata": {},
   "outputs": [
    {
     "data": {
      "text/plain": [
       "18.0"
      ]
     },
     "execution_count": 217,
     "metadata": {},
     "output_type": "execute_result"
    }
   ],
   "source": [
    "np.median(data)"
   ]
  },
  {
   "cell_type": "code",
   "execution_count": 218,
   "id": "022f4b76-cd53-42c3-8a14-e5c7365b2247",
   "metadata": {},
   "outputs": [
    {
     "data": {
      "text/plain": [
       "[1, 1, 2, 1, 1, 2, 3]"
      ]
     },
     "execution_count": 218,
     "metadata": {},
     "output_type": "execute_result"
    }
   ],
   "source": [
    "[1,1,2,1,1,2,2,2,3]"
   ]
  },
  {
   "cell_type": "code",
   "execution_count": 220,
   "id": "203ea31b-b4c5-4989-a724-cc2c2d0d96ac",
   "metadata": {},
   "outputs": [
    {
     "ename": "AttributeError",
     "evalue": "module 'numpy' has no attribute 'mode'",
     "output_type": "error",
     "traceback": [
      "\u001b[1;31m---------------------------------------------------------------------------\u001b[0m",
      "\u001b[1;31mAttributeError\u001b[0m                            Traceback (most recent call last)",
      "Cell \u001b[1;32mIn[220], line 1\u001b[0m\n\u001b[1;32m----> 1\u001b[0m \u001b[43mnp\u001b[49m\u001b[38;5;241;43m.\u001b[39;49m\u001b[43mmode\u001b[49m(data)\n",
      "File \u001b[1;32m~\\AppData\\Local\\Programs\\Python\\Python313\\Lib\\site-packages\\numpy\\__init__.py:333\u001b[0m, in \u001b[0;36m__getattr__\u001b[1;34m(attr)\u001b[0m\n\u001b[0;32m    330\u001b[0m     \u001b[38;5;124m\"\u001b[39m\u001b[38;5;124mRemoved in NumPy 1.25.0\u001b[39m\u001b[38;5;124m\"\u001b[39m\n\u001b[0;32m    331\u001b[0m     \u001b[38;5;28;01mraise\u001b[39;00m \u001b[38;5;167;01mRuntimeError\u001b[39;00m(\u001b[38;5;124m\"\u001b[39m\u001b[38;5;124mTester was removed in NumPy 1.25.\u001b[39m\u001b[38;5;124m\"\u001b[39m)\n\u001b[1;32m--> 333\u001b[0m \u001b[38;5;28;01mraise\u001b[39;00m \u001b[38;5;167;01mAttributeError\u001b[39;00m(\u001b[38;5;124m\"\u001b[39m\u001b[38;5;124mmodule \u001b[39m\u001b[38;5;132;01m{!r}\u001b[39;00m\u001b[38;5;124m has no attribute \u001b[39m\u001b[38;5;124m\"\u001b[39m\n\u001b[0;32m    334\u001b[0m                      \u001b[38;5;124m\"\u001b[39m\u001b[38;5;132;01m{!r}\u001b[39;00m\u001b[38;5;124m\"\u001b[39m\u001b[38;5;241m.\u001b[39mformat(\u001b[38;5;18m__name__\u001b[39m, attr))\n",
      "\u001b[1;31mAttributeError\u001b[0m: module 'numpy' has no attribute 'mode'"
     ]
    }
   ],
   "source": []
  },
  {
   "cell_type": "code",
   "execution_count": null,
   "id": "657c8d7c-3ff0-4200-81ac-92ce687e9dd7",
   "metadata": {},
   "outputs": [],
   "source": []
  },
  {
   "cell_type": "code",
   "execution_count": null,
   "id": "1a1e98ce-3fdb-4ec2-b80a-05a5141addfc",
   "metadata": {},
   "outputs": [],
   "source": []
  },
  {
   "cell_type": "code",
   "execution_count": 222,
   "id": "d47d110d-bdc9-4b49-a2aa-868483850e21",
   "metadata": {},
   "outputs": [],
   "source": [
    "data=np.array([-10,0,10,20,30])"
   ]
  },
  {
   "cell_type": "code",
   "execution_count": 225,
   "id": "b29eec7e-6cc1-401c-b051-8fdbcc414033",
   "metadata": {},
   "outputs": [
    {
     "data": {
      "text/plain": [
       "array([-4., -2.,  0.,  2.,  4.])"
      ]
     },
     "execution_count": 225,
     "metadata": {},
     "output_type": "execute_result"
    }
   ],
   "source": [
    "(data-data.mean())/len(data)"
   ]
  },
  {
   "cell_type": "code",
   "execution_count": 231,
   "id": "025abc1a-87b9-4de6-adca-bd4c093fb910",
   "metadata": {},
   "outputs": [
    {
     "data": {
      "text/plain": [
       "10.0"
      ]
     },
     "execution_count": 231,
     "metadata": {},
     "output_type": "execute_result"
    }
   ],
   "source": [
    "data.mean()"
   ]
  },
  {
   "cell_type": "code",
   "execution_count": 226,
   "id": "449000b3-7ca6-4dec-b908-767156ec2f86",
   "metadata": {},
   "outputs": [
    {
     "data": {
      "text/plain": [
       "14.142135623730951"
      ]
     },
     "execution_count": 226,
     "metadata": {},
     "output_type": "execute_result"
    }
   ],
   "source": [
    "np.std(data)"
   ]
  },
  {
   "cell_type": "code",
   "execution_count": 230,
   "id": "7e58b027-12bd-4262-90c8-c6a029a280d4",
   "metadata": {},
   "outputs": [
    {
     "data": {
      "text/plain": [
       "14.142135623730951"
      ]
     },
     "execution_count": 230,
     "metadata": {},
     "output_type": "execute_result"
    }
   ],
   "source": [
    "np.sqrt(sum((data-data.mean())**2)/5)"
   ]
  },
  {
   "cell_type": "code",
   "execution_count": 232,
   "id": "7aac40c6-523a-44e2-9670-cbef610381a3",
   "metadata": {},
   "outputs": [
    {
     "data": {
      "text/plain": [
       "200.0"
      ]
     },
     "execution_count": 232,
     "metadata": {},
     "output_type": "execute_result"
    }
   ],
   "source": [
    "np.var(data)"
   ]
  },
  {
   "cell_type": "code",
   "execution_count": 233,
   "id": "ecb79bdd-fb38-41cc-adf5-a9dc07edd474",
   "metadata": {},
   "outputs": [
    {
     "data": {
      "text/plain": [
       "0.0"
      ]
     },
     "execution_count": 233,
     "metadata": {},
     "output_type": "execute_result"
    }
   ],
   "source": [
    "np.quantile(data,0.25)"
   ]
  },
  {
   "cell_type": "code",
   "execution_count": 236,
   "id": "f67574df-1e23-4bb7-b01c-c9482cb85cea",
   "metadata": {},
   "outputs": [
    {
     "data": {
      "text/plain": [
       "10.0"
      ]
     },
     "execution_count": 236,
     "metadata": {},
     "output_type": "execute_result"
    }
   ],
   "source": [
    "np.quantile(data,0.50)"
   ]
  },
  {
   "cell_type": "code",
   "execution_count": 237,
   "id": "fc750e0e-cc8a-4cf9-a809-4b2771ec171a",
   "metadata": {},
   "outputs": [
    {
     "data": {
      "text/plain": [
       "array([-10,   0,  10,  20,  30])"
      ]
     },
     "execution_count": 237,
     "metadata": {},
     "output_type": "execute_result"
    }
   ],
   "source": [
    "data"
   ]
  },
  {
   "cell_type": "code",
   "execution_count": 239,
   "id": "c2b08ad5-d225-4d95-8cc0-b9dd1a9a6a5c",
   "metadata": {},
   "outputs": [
    {
     "data": {
      "text/plain": [
       "10.0"
      ]
     },
     "execution_count": 239,
     "metadata": {},
     "output_type": "execute_result"
    }
   ],
   "source": [
    "np.median(data)"
   ]
  },
  {
   "cell_type": "code",
   "execution_count": 240,
   "id": "c7d57449-01a1-4579-a24c-23349eb4fa0a",
   "metadata": {},
   "outputs": [
    {
     "data": {
      "text/plain": [
       "20.0"
      ]
     },
     "execution_count": 240,
     "metadata": {},
     "output_type": "execute_result"
    }
   ],
   "source": [
    "np.quantile(data,0.75)"
   ]
  },
  {
   "cell_type": "code",
   "execution_count": 241,
   "id": "99713ae0-b6dd-40ea-8ef9-933f28f2d79d",
   "metadata": {},
   "outputs": [
    {
     "data": {
      "text/plain": [
       "-10"
      ]
     },
     "execution_count": 241,
     "metadata": {},
     "output_type": "execute_result"
    }
   ],
   "source": [
    "np.min(data)"
   ]
  },
  {
   "cell_type": "code",
   "execution_count": 242,
   "id": "0478965d-5d2e-4109-abf1-78414685356c",
   "metadata": {},
   "outputs": [
    {
     "data": {
      "text/plain": [
       "30"
      ]
     },
     "execution_count": 242,
     "metadata": {},
     "output_type": "execute_result"
    }
   ],
   "source": [
    "np.max(data)"
   ]
  },
  {
   "cell_type": "code",
   "execution_count": null,
   "id": "c1f01d36-6681-4789-84e2-66d8b72a59c2",
   "metadata": {},
   "outputs": [],
   "source": [
    "####"
   ]
  },
  {
   "cell_type": "code",
   "execution_count": 244,
   "id": "8c8bb1f7-507b-40db-ab54-44592f63de68",
   "metadata": {},
   "outputs": [
    {
     "data": {
      "text/plain": [
       "2"
      ]
     },
     "execution_count": 244,
     "metadata": {},
     "output_type": "execute_result"
    }
   ],
   "source": [
    "x"
   ]
  },
  {
   "cell_type": "code",
   "execution_count": 243,
   "id": "56fe62eb-c093-4690-9ae2-4769c13df674",
   "metadata": {},
   "outputs": [
    {
     "data": {
      "text/plain": [
       "0.9092974268256817"
      ]
     },
     "execution_count": 243,
     "metadata": {},
     "output_type": "execute_result"
    }
   ],
   "source": [
    "x\n",
    "np.sin(x)"
   ]
  },
  {
   "cell_type": "code",
   "execution_count": 246,
   "id": "b8472226-45b9-4f7e-bd00-6ce6e336e5c7",
   "metadata": {},
   "outputs": [
    {
     "data": {
      "text/plain": [
       "(-0.4161468365471424, -2.185039863261519)"
      ]
     },
     "execution_count": 246,
     "metadata": {},
     "output_type": "execute_result"
    }
   ],
   "source": [
    "np.cos(x),np.tan(x)"
   ]
  },
  {
   "cell_type": "code",
   "execution_count": 247,
   "id": "34286a18-a806-484b-a7d5-45fbda1ae034",
   "metadata": {},
   "outputs": [
    {
     "name": "stderr",
     "output_type": "stream",
     "text": [
      "C:\\Users\\bhara\\AppData\\Local\\Temp\\ipykernel_33172\\1524129805.py:1: RuntimeWarning: invalid value encountered in arcsin\n",
      "  np.arcsin(x)\n"
     ]
    },
    {
     "data": {
      "text/plain": [
       "nan"
      ]
     },
     "execution_count": 247,
     "metadata": {},
     "output_type": "execute_result"
    }
   ],
   "source": [
    "np.arcsin(x)"
   ]
  },
  {
   "cell_type": "code",
   "execution_count": 248,
   "id": "4d256dce-9a5b-4645-9ba3-7fe581167778",
   "metadata": {},
   "outputs": [
    {
     "name": "stderr",
     "output_type": "stream",
     "text": [
      "C:\\Users\\bhara\\AppData\\Local\\Temp\\ipykernel_33172\\396561874.py:1: RuntimeWarning: invalid value encountered in arccos\n",
      "  np.arccos(x)\n"
     ]
    },
    {
     "data": {
      "text/plain": [
       "nan"
      ]
     },
     "execution_count": 248,
     "metadata": {},
     "output_type": "execute_result"
    }
   ],
   "source": [
    "np.arccos(x)"
   ]
  },
  {
   "cell_type": "code",
   "execution_count": 249,
   "id": "12fcaf7b-4b30-47ed-8556-577b247e28dd",
   "metadata": {},
   "outputs": [
    {
     "data": {
      "text/plain": [
       "1.1071487177940904"
      ]
     },
     "execution_count": 249,
     "metadata": {},
     "output_type": "execute_result"
    }
   ],
   "source": [
    "np.arctan(x)"
   ]
  },
  {
   "cell_type": "code",
   "execution_count": 250,
   "id": "3563da61-d1da-4fb5-9ed0-47526abc9fab",
   "metadata": {},
   "outputs": [
    {
     "data": {
      "text/plain": [
       "(3.6268604078470186, 3.7621956910836314, 0.9640275800758169)"
      ]
     },
     "execution_count": 250,
     "metadata": {},
     "output_type": "execute_result"
    }
   ],
   "source": [
    "np.sinh(x),np.cosh(x),np.tanh(x)"
   ]
  },
  {
   "cell_type": "code",
   "execution_count": 252,
   "id": "b02a800f-f49b-4a99-b145-b621bbd4c7f4",
   "metadata": {},
   "outputs": [],
   "source": [
    "x=np.array([1,2,3,4])"
   ]
  },
  {
   "cell_type": "code",
   "execution_count": 253,
   "id": "d7963d52-1bf6-4b7a-a321-3a179963a90e",
   "metadata": {},
   "outputs": [
    {
     "data": {
      "text/plain": [
       "array([1, 2, 3, 4])"
      ]
     },
     "execution_count": 253,
     "metadata": {},
     "output_type": "execute_result"
    }
   ],
   "source": [
    "x"
   ]
  },
  {
   "cell_type": "code",
   "execution_count": 254,
   "id": "5bd56e57-88c1-4239-8df3-a776ab81351a",
   "metadata": {},
   "outputs": [
    {
     "data": {
      "text/plain": [
       "10"
      ]
     },
     "execution_count": 254,
     "metadata": {},
     "output_type": "execute_result"
    }
   ],
   "source": [
    "np.sum(x)"
   ]
  },
  {
   "cell_type": "code",
   "execution_count": 255,
   "id": "feaaa096-39bb-4348-83ec-972c522a2225",
   "metadata": {},
   "outputs": [
    {
     "data": {
      "text/plain": [
       "24"
      ]
     },
     "execution_count": 255,
     "metadata": {},
     "output_type": "execute_result"
    }
   ],
   "source": [
    "np.prod(x)"
   ]
  },
  {
   "cell_type": "code",
   "execution_count": 257,
   "id": "823c0d05-1eb1-4868-8b6a-23aa91115836",
   "metadata": {},
   "outputs": [
    {
     "data": {
      "text/plain": [
       "array([ 1,  3,  6, 10])"
      ]
     },
     "execution_count": 257,
     "metadata": {},
     "output_type": "execute_result"
    }
   ],
   "source": [
    "np.cumsum(x)"
   ]
  },
  {
   "cell_type": "code",
   "execution_count": 258,
   "id": "07a2f426-6d06-4e7c-977e-c6860530c74e",
   "metadata": {},
   "outputs": [
    {
     "data": {
      "text/plain": [
       "array([ 1,  2,  6, 24])"
      ]
     },
     "execution_count": 258,
     "metadata": {},
     "output_type": "execute_result"
    }
   ],
   "source": [
    "np.cumprod(x)"
   ]
  },
  {
   "cell_type": "code",
   "execution_count": null,
   "id": "517a5b18-99dc-4a8a-aaa8-64c24c2965f4",
   "metadata": {},
   "outputs": [],
   "source": []
  },
  {
   "cell_type": "code",
   "execution_count": null,
   "id": "e100a554-90b5-42db-903e-fd13da41b4a6",
   "metadata": {},
   "outputs": [],
   "source": []
  },
  {
   "cell_type": "code",
   "execution_count": 259,
   "id": "3837fe60-88b1-4f0e-844c-300428c98e1a",
   "metadata": {},
   "outputs": [],
   "source": [
    "x=np.random.randint(0,10,(3,3))"
   ]
  },
  {
   "cell_type": "code",
   "execution_count": 260,
   "id": "161e6ed8-bc55-4c66-a84e-6d9355c12244",
   "metadata": {},
   "outputs": [
    {
     "data": {
      "text/plain": [
       "array([[9, 2, 6],\n",
       "       [2, 4, 3],\n",
       "       [3, 3, 4]])"
      ]
     },
     "execution_count": 260,
     "metadata": {},
     "output_type": "execute_result"
    }
   ],
   "source": [
    "x"
   ]
  },
  {
   "cell_type": "code",
   "execution_count": 261,
   "id": "431a709b-bf88-4411-8a35-aa2b2f6e7f0a",
   "metadata": {},
   "outputs": [
    {
     "data": {
      "text/plain": [
       "36"
      ]
     },
     "execution_count": 261,
     "metadata": {},
     "output_type": "execute_result"
    }
   ],
   "source": [
    "x.sum()"
   ]
  },
  {
   "cell_type": "code",
   "execution_count": 262,
   "id": "308d7570-270b-48fd-ac9d-977e599a9bf7",
   "metadata": {},
   "outputs": [
    {
     "data": {
      "text/plain": [
       "array([17,  9, 10])"
      ]
     },
     "execution_count": 262,
     "metadata": {},
     "output_type": "execute_result"
    }
   ],
   "source": [
    "x.sum(axis=1)"
   ]
  },
  {
   "cell_type": "code",
   "execution_count": 263,
   "id": "f924b24e-f2f6-4650-be05-df3372c4d3d1",
   "metadata": {},
   "outputs": [
    {
     "data": {
      "text/plain": [
       "array([14,  9, 13])"
      ]
     },
     "execution_count": 263,
     "metadata": {},
     "output_type": "execute_result"
    }
   ],
   "source": [
    "x.sum(axis=0)"
   ]
  },
  {
   "cell_type": "code",
   "execution_count": null,
   "id": "adee064d-cbbb-44c9-b63b-3e1cda8c0fcc",
   "metadata": {},
   "outputs": [],
   "source": []
  },
  {
   "cell_type": "code",
   "execution_count": 268,
   "id": "6d64be11-f7e9-4a40-a073-a07f4dd3a365",
   "metadata": {},
   "outputs": [],
   "source": [
    "x=np.random.randint(0,2,(4,4))"
   ]
  },
  {
   "cell_type": "code",
   "execution_count": 269,
   "id": "91d22128-d2e7-4975-86e2-0de9d86679a0",
   "metadata": {},
   "outputs": [
    {
     "data": {
      "text/plain": [
       "array([[0, 0, 0, 0],\n",
       "       [0, 1, 0, 0],\n",
       "       [0, 1, 0, 0],\n",
       "       [0, 1, 1, 1]])"
      ]
     },
     "execution_count": 269,
     "metadata": {},
     "output_type": "execute_result"
    }
   ],
   "source": [
    "x"
   ]
  },
  {
   "cell_type": "code",
   "execution_count": 270,
   "id": "75b19faa-9078-40d0-9b04-6bc44caf928c",
   "metadata": {},
   "outputs": [
    {
     "data": {
      "text/plain": [
       "0.3125"
      ]
     },
     "execution_count": 270,
     "metadata": {},
     "output_type": "execute_result"
    }
   ],
   "source": [
    "x.mean()"
   ]
  },
  {
   "cell_type": "code",
   "execution_count": 271,
   "id": "1c92a145-5a43-403d-abed-fae4ca5a6eff",
   "metadata": {},
   "outputs": [
    {
     "data": {
      "text/plain": [
       "array([0.  , 0.25, 0.25, 0.75])"
      ]
     },
     "execution_count": 271,
     "metadata": {},
     "output_type": "execute_result"
    }
   ],
   "source": [
    "x.mean(axis=1)"
   ]
  },
  {
   "cell_type": "code",
   "execution_count": 272,
   "id": "858f7ca4-a64c-413d-aaf4-ab77d41eec50",
   "metadata": {},
   "outputs": [
    {
     "data": {
      "text/plain": [
       "array([0.  , 0.75, 0.25, 0.25])"
      ]
     },
     "execution_count": 272,
     "metadata": {},
     "output_type": "execute_result"
    }
   ],
   "source": [
    "x.mean(axis=0)"
   ]
  },
  {
   "cell_type": "code",
   "execution_count": null,
   "id": "3037cb47-628e-45f0-85a7-464b0b96582e",
   "metadata": {},
   "outputs": [],
   "source": []
  },
  {
   "cell_type": "code",
   "execution_count": 273,
   "id": "33469a95-fdbd-4436-a299-0441ae6859a2",
   "metadata": {},
   "outputs": [],
   "source": [
    "x=np.random.randint(0,10,(4,4))"
   ]
  },
  {
   "cell_type": "code",
   "execution_count": 274,
   "id": "e968145b-9ec0-4610-a74e-8d3f88498433",
   "metadata": {},
   "outputs": [
    {
     "data": {
      "text/plain": [
       "array([[7, 2, 7, 0],\n",
       "       [2, 7, 3, 7],\n",
       "       [4, 5, 9, 3],\n",
       "       [1, 2, 0, 9]])"
      ]
     },
     "execution_count": 274,
     "metadata": {},
     "output_type": "execute_result"
    }
   ],
   "source": [
    "x"
   ]
  },
  {
   "cell_type": "code",
   "execution_count": 276,
   "id": "108ad22b-b405-4e3f-b8bc-f911d2f2fea9",
   "metadata": {},
   "outputs": [
    {
     "data": {
      "text/plain": [
       "array([7, 7, 9, 9])"
      ]
     },
     "execution_count": 276,
     "metadata": {},
     "output_type": "execute_result"
    }
   ],
   "source": [
    "x.max(axis=0)"
   ]
  },
  {
   "cell_type": "code",
   "execution_count": 277,
   "id": "630584b7-5a82-4936-81ab-f7dcb5c350ad",
   "metadata": {},
   "outputs": [
    {
     "data": {
      "text/plain": [
       "array([0, 1, 2, 3], dtype=int64)"
      ]
     },
     "execution_count": 277,
     "metadata": {},
     "output_type": "execute_result"
    }
   ],
   "source": [
    "x.argmax(axis=0)"
   ]
  },
  {
   "cell_type": "code",
   "execution_count": 278,
   "id": "83b50344-bb43-4549-9d59-e1542bfb868a",
   "metadata": {},
   "outputs": [
    {
     "data": {
      "text/plain": [
       "array([3, 0, 3, 0], dtype=int64)"
      ]
     },
     "execution_count": 278,
     "metadata": {},
     "output_type": "execute_result"
    }
   ],
   "source": [
    "x.argmin(axis=0)"
   ]
  },
  {
   "cell_type": "code",
   "execution_count": null,
   "id": "d679ec8f-8332-4c62-865b-6fa93bdb8624",
   "metadata": {},
   "outputs": [],
   "source": []
  },
  {
   "cell_type": "code",
   "execution_count": null,
   "id": "637b279f-d043-48a4-a051-bb9f06b8188f",
   "metadata": {},
   "outputs": [],
   "source": []
  },
  {
   "cell_type": "code",
   "execution_count": null,
   "id": "a46d1e8c-08a2-43df-a901-4590d0bd9828",
   "metadata": {},
   "outputs": [],
   "source": []
  },
  {
   "cell_type": "code",
   "execution_count": null,
   "id": "dc65f414-0922-45f4-a145-d5875a5af8f2",
   "metadata": {},
   "outputs": [],
   "source": []
  },
  {
   "cell_type": "code",
   "execution_count": 281,
   "id": "10260779-0629-424f-96b1-c31396267304",
   "metadata": {},
   "outputs": [
    {
     "data": {
      "text/plain": [
       "array([[0., 0., 0., 0., 0.],\n",
       "       [0., 0., 0., 0., 0.],\n",
       "       [0., 0., 0., 0., 0.],\n",
       "       [0., 0., 0., 0., 0.],\n",
       "       [0., 0., 0., 0., 0.]])"
      ]
     },
     "execution_count": 281,
     "metadata": {},
     "output_type": "execute_result"
    }
   ],
   "source": [
    "np.zeros((5,5))"
   ]
  },
  {
   "cell_type": "code",
   "execution_count": 282,
   "id": "f34f7bef-9783-4264-9102-6295bb349fc0",
   "metadata": {},
   "outputs": [
    {
     "data": {
      "text/plain": [
       "array([[1., 1., 1., 1., 1., 1., 1., 1., 1., 1.],\n",
       "       [1., 1., 1., 1., 1., 1., 1., 1., 1., 1.],\n",
       "       [1., 1., 1., 1., 1., 1., 1., 1., 1., 1.],\n",
       "       [1., 1., 1., 1., 1., 1., 1., 1., 1., 1.],\n",
       "       [1., 1., 1., 1., 1., 1., 1., 1., 1., 1.],\n",
       "       [1., 1., 1., 1., 1., 1., 1., 1., 1., 1.],\n",
       "       [1., 1., 1., 1., 1., 1., 1., 1., 1., 1.],\n",
       "       [1., 1., 1., 1., 1., 1., 1., 1., 1., 1.],\n",
       "       [1., 1., 1., 1., 1., 1., 1., 1., 1., 1.],\n",
       "       [1., 1., 1., 1., 1., 1., 1., 1., 1., 1.]])"
      ]
     },
     "execution_count": 282,
     "metadata": {},
     "output_type": "execute_result"
    }
   ],
   "source": [
    "np.ones((10,10))"
   ]
  },
  {
   "cell_type": "code",
   "execution_count": 284,
   "id": "86dfd490-9204-4263-abb9-2e13d52bae84",
   "metadata": {},
   "outputs": [
    {
     "data": {
      "text/plain": [
       "array([[1., 0., 0., 0., 0.],\n",
       "       [0., 1., 0., 0., 0.],\n",
       "       [0., 0., 1., 0., 0.],\n",
       "       [0., 0., 0., 1., 0.],\n",
       "       [0., 0., 0., 0., 1.]])"
      ]
     },
     "execution_count": 284,
     "metadata": {},
     "output_type": "execute_result"
    }
   ],
   "source": [
    "np.eye(5)"
   ]
  },
  {
   "cell_type": "code",
   "execution_count": 287,
   "id": "1bbd9bf3-7071-421b-a1f1-ec1fa0bd82ff",
   "metadata": {},
   "outputs": [
    {
     "data": {
      "text/plain": [
       "array([ 0.        ,  3.33333333,  6.66666667, 10.        ])"
      ]
     },
     "execution_count": 287,
     "metadata": {},
     "output_type": "execute_result"
    }
   ],
   "source": [
    "np.linspace(0,10,4)"
   ]
  },
  {
   "cell_type": "code",
   "execution_count": null,
   "id": "226dc9e7-29b0-4faa-9efd-fb151ad454f2",
   "metadata": {},
   "outputs": [],
   "source": []
  },
  {
   "cell_type": "code",
   "execution_count": null,
   "id": "3541a593-fba3-4461-9e9d-aac6e0b8d3b5",
   "metadata": {},
   "outputs": [],
   "source": []
  },
  {
   "cell_type": "code",
   "execution_count": 291,
   "id": "2b83984a-a65a-46ac-bb55-5d8a5909c316",
   "metadata": {},
   "outputs": [],
   "source": [
    "data=np.random.randint(0,100,10)"
   ]
  },
  {
   "cell_type": "code",
   "execution_count": 292,
   "id": "6930683f-ddd7-4e29-b0f7-76eb075170e0",
   "metadata": {},
   "outputs": [
    {
     "data": {
      "text/plain": [
       "array([40, 94, 88, 51, 79, 57,  3, 23, 54, 91])"
      ]
     },
     "execution_count": 292,
     "metadata": {},
     "output_type": "execute_result"
    }
   ],
   "source": [
    "data"
   ]
  },
  {
   "cell_type": "code",
   "execution_count": 294,
   "id": "6ab78488-aec2-45df-96b2-858257ae4e5b",
   "metadata": {},
   "outputs": [
    {
     "data": {
      "text/plain": [
       "array([94, 88, 51, 79, 57, 54, 91])"
      ]
     },
     "execution_count": 294,
     "metadata": {},
     "output_type": "execute_result"
    }
   ],
   "source": [
    "data[data>50]"
   ]
  },
  {
   "cell_type": "code",
   "execution_count": 295,
   "id": "b4899645-4427-4ba8-bfb1-d73e085cc53b",
   "metadata": {},
   "outputs": [
    {
     "data": {
      "text/plain": [
       "array([40, 94, 88, 51, 79, 57,  3, 23, 54, 91])"
      ]
     },
     "execution_count": 295,
     "metadata": {},
     "output_type": "execute_result"
    }
   ],
   "source": [
    "data"
   ]
  },
  {
   "cell_type": "code",
   "execution_count": 297,
   "id": "4a1127d4-61f2-4e16-8b11-f242ef698dd8",
   "metadata": {},
   "outputs": [
    {
     "data": {
      "text/plain": [
       "array([40, 94, 88, 51, 79, 57,  3, 23, 54, 91])"
      ]
     },
     "execution_count": 297,
     "metadata": {},
     "output_type": "execute_result"
    }
   ],
   "source": [
    "data"
   ]
  },
  {
   "cell_type": "code",
   "execution_count": 298,
   "id": "d9d37c3a-8389-4823-b289-31c21818502a",
   "metadata": {},
   "outputs": [
    {
     "data": {
      "text/plain": [
       "array([False,  True,  True,  True,  True,  True, False, False,  True,\n",
       "        True])"
      ]
     },
     "execution_count": 298,
     "metadata": {},
     "output_type": "execute_result"
    }
   ],
   "source": [
    "data>50"
   ]
  },
  {
   "cell_type": "code",
   "execution_count": 296,
   "id": "217fd64b-8e1b-49a0-b975-d97004374c58",
   "metadata": {},
   "outputs": [
    {
     "data": {
      "text/plain": [
       "array(['low', 'high', 'high', 'high', 'high', 'high', 'low', 'low',\n",
       "       'high', 'high'], dtype='<U4')"
      ]
     },
     "execution_count": 296,
     "metadata": {},
     "output_type": "execute_result"
    }
   ],
   "source": [
    "np.where(data>50,\"high\",\"low\")"
   ]
  },
  {
   "cell_type": "code",
   "execution_count": 299,
   "id": "e3d4d7b2-4897-4cda-86a6-03faa8e555db",
   "metadata": {},
   "outputs": [
    {
     "data": {
      "text/plain": [
       "array([40, 94, 88, 51, 79, 57,  3, 23, 54, 91])"
      ]
     },
     "execution_count": 299,
     "metadata": {},
     "output_type": "execute_result"
    }
   ],
   "source": [
    "data"
   ]
  },
  {
   "cell_type": "code",
   "execution_count": 301,
   "id": "2a3a8fb5-f455-4372-8f1e-43c9b1fee59d",
   "metadata": {},
   "outputs": [
    {
     "data": {
      "text/plain": [
       "True"
      ]
     },
     "execution_count": 301,
     "metadata": {},
     "output_type": "execute_result"
    }
   ],
   "source": [
    "np.any(data>50)"
   ]
  },
  {
   "cell_type": "code",
   "execution_count": 306,
   "id": "33d1a7f6-7986-4a92-b520-4c043a52bff2",
   "metadata": {},
   "outputs": [
    {
     "data": {
      "text/plain": [
       "True"
      ]
     },
     "execution_count": 306,
     "metadata": {},
     "output_type": "execute_result"
    }
   ],
   "source": [
    "np.all(data>0)"
   ]
  },
  {
   "cell_type": "code",
   "execution_count": 307,
   "id": "28d95728-16a0-4896-b934-ac4684228e74",
   "metadata": {},
   "outputs": [
    {
     "data": {
      "text/plain": [
       "array([ True,  True,  True,  True,  True,  True,  True,  True,  True,\n",
       "        True])"
      ]
     },
     "execution_count": 307,
     "metadata": {},
     "output_type": "execute_result"
    }
   ],
   "source": [
    "data>0"
   ]
  },
  {
   "cell_type": "code",
   "execution_count": null,
   "id": "7f79d915-defd-49cb-9a63-8645795f9f01",
   "metadata": {},
   "outputs": [],
   "source": []
  },
  {
   "cell_type": "code",
   "execution_count": null,
   "id": "eab8997b-c8ec-4deb-bc4b-a978a6458535",
   "metadata": {},
   "outputs": [],
   "source": []
  },
  {
   "cell_type": "code",
   "execution_count": null,
   "id": "eb449e5e-1878-42c4-872f-2bc886f37ef8",
   "metadata": {},
   "outputs": [],
   "source": []
  },
  {
   "cell_type": "code",
   "execution_count": null,
   "id": "062b6495-ab4c-4fcd-b38d-b71bf9b3adc6",
   "metadata": {},
   "outputs": [],
   "source": []
  },
  {
   "cell_type": "code",
   "execution_count": null,
   "id": "9fff6848-2c38-43bd-b8e4-34b08fb82ffa",
   "metadata": {},
   "outputs": [],
   "source": []
  },
  {
   "cell_type": "code",
   "execution_count": null,
   "id": "41c30fa6-8427-4cfa-80f6-5f42a787ff10",
   "metadata": {},
   "outputs": [],
   "source": []
  },
  {
   "cell_type": "code",
   "execution_count": null,
   "id": "6dfd1fe8-63cf-485b-8c44-2f117e002d55",
   "metadata": {},
   "outputs": [],
   "source": []
  },
  {
   "cell_type": "code",
   "execution_count": null,
   "id": "e1ece7ba-c5d3-4ebc-a5b6-4bd9d3bec4cf",
   "metadata": {},
   "outputs": [],
   "source": []
  },
  {
   "cell_type": "code",
   "execution_count": null,
   "id": "92c79998-3a85-440d-99c7-7243f6a2caaa",
   "metadata": {},
   "outputs": [],
   "source": []
  },
  {
   "cell_type": "code",
   "execution_count": null,
   "id": "10d8c6db-365c-4138-b8f0-8bb76a6964ea",
   "metadata": {},
   "outputs": [],
   "source": []
  },
  {
   "cell_type": "code",
   "execution_count": null,
   "id": "1c7aba70-2a35-4521-8523-5b854e407e36",
   "metadata": {},
   "outputs": [],
   "source": []
  },
  {
   "cell_type": "code",
   "execution_count": null,
   "id": "e948deb6-c5ff-4d7f-800e-87da08c2addd",
   "metadata": {},
   "outputs": [],
   "source": []
  },
  {
   "cell_type": "code",
   "execution_count": null,
   "id": "0f29f61a-4184-4fb8-9d8a-9ddd3dc661cf",
   "metadata": {},
   "outputs": [],
   "source": []
  },
  {
   "cell_type": "code",
   "execution_count": null,
   "id": "163b75bd-c56f-4623-a790-2dc318a678bd",
   "metadata": {},
   "outputs": [],
   "source": []
  },
  {
   "cell_type": "code",
   "execution_count": null,
   "id": "b2b08255-2bf6-4719-b503-72ba8cd08eca",
   "metadata": {},
   "outputs": [],
   "source": []
  },
  {
   "cell_type": "code",
   "execution_count": null,
   "id": "a94258fd-4585-48fb-b37b-22c6a5bb4f5a",
   "metadata": {},
   "outputs": [],
   "source": []
  },
  {
   "cell_type": "code",
   "execution_count": null,
   "id": "485616a4-ec23-4635-9405-160a5e37979a",
   "metadata": {},
   "outputs": [],
   "source": []
  },
  {
   "cell_type": "code",
   "execution_count": null,
   "id": "8252d9da-fa08-4fdb-b6a3-19a3eaa67557",
   "metadata": {},
   "outputs": [],
   "source": []
  },
  {
   "cell_type": "code",
   "execution_count": null,
   "id": "6fe50fa4-c72f-4149-bb69-344cd45866ad",
   "metadata": {},
   "outputs": [],
   "source": []
  },
  {
   "cell_type": "code",
   "execution_count": null,
   "id": "42024e43-fc4c-4f98-8ac8-bd302a964b70",
   "metadata": {},
   "outputs": [],
   "source": []
  },
  {
   "cell_type": "code",
   "execution_count": null,
   "id": "65ef9873-ecc3-4246-baa9-5f25566d2703",
   "metadata": {},
   "outputs": [],
   "source": []
  },
  {
   "cell_type": "code",
   "execution_count": null,
   "id": "fb5a7df5-fc4d-40cd-a52f-f41309688ccf",
   "metadata": {},
   "outputs": [],
   "source": []
  },
  {
   "cell_type": "code",
   "execution_count": null,
   "id": "39a0289b-ab4c-419b-a58c-b3b24f0165fc",
   "metadata": {},
   "outputs": [],
   "source": []
  },
  {
   "cell_type": "code",
   "execution_count": null,
   "id": "113e8a88-e1d0-429c-a282-f9c6f9adf41e",
   "metadata": {},
   "outputs": [],
   "source": []
  },
  {
   "cell_type": "code",
   "execution_count": null,
   "id": "a1c23cdc-8b31-4d25-8b92-da912ebd6d5f",
   "metadata": {},
   "outputs": [],
   "source": []
  },
  {
   "cell_type": "code",
   "execution_count": null,
   "id": "1b6bfffa-1210-4c1a-b26f-5158e1f2d7cf",
   "metadata": {},
   "outputs": [],
   "source": []
  },
  {
   "cell_type": "code",
   "execution_count": null,
   "id": "10c3a9bf-2215-4cad-b910-73510b3c202f",
   "metadata": {},
   "outputs": [],
   "source": []
  },
  {
   "cell_type": "code",
   "execution_count": null,
   "id": "54863b34-b6f8-40d2-9f6f-2a1643e62dba",
   "metadata": {},
   "outputs": [],
   "source": []
  },
  {
   "cell_type": "code",
   "execution_count": null,
   "id": "cda46e63-5d4b-479c-9c8e-22e46240da03",
   "metadata": {},
   "outputs": [],
   "source": []
  },
  {
   "cell_type": "code",
   "execution_count": null,
   "id": "b18cfb5e-4fe5-428c-a258-b4182b166dbf",
   "metadata": {},
   "outputs": [],
   "source": []
  },
  {
   "cell_type": "code",
   "execution_count": null,
   "id": "5af2aa85-9288-4b3a-a40a-bfa8417c5cfe",
   "metadata": {},
   "outputs": [],
   "source": []
  },
  {
   "cell_type": "code",
   "execution_count": null,
   "id": "20a51760-7e76-42e3-a75e-6a1df720212c",
   "metadata": {},
   "outputs": [],
   "source": []
  },
  {
   "cell_type": "code",
   "execution_count": null,
   "id": "5e099698-6e75-4890-a358-d71f3b7c8af6",
   "metadata": {},
   "outputs": [],
   "source": []
  },
  {
   "cell_type": "code",
   "execution_count": null,
   "id": "dab516cc-2704-4cbb-9dad-7f6eb65ea092",
   "metadata": {},
   "outputs": [],
   "source": []
  },
  {
   "cell_type": "code",
   "execution_count": null,
   "id": "df9f21f2-cf08-4976-9fd4-7d8db4507f2f",
   "metadata": {},
   "outputs": [],
   "source": []
  }
 ],
 "metadata": {
  "kernelspec": {
   "display_name": "Python 3 (ipykernel)",
   "language": "python",
   "name": "python3"
  },
  "language_info": {
   "codemirror_mode": {
    "name": "ipython",
    "version": 3
   },
   "file_extension": ".py",
   "mimetype": "text/x-python",
   "name": "python",
   "nbconvert_exporter": "python",
   "pygments_lexer": "ipython3",
   "version": "3.13.2"
  }
 },
 "nbformat": 4,
 "nbformat_minor": 5
}
