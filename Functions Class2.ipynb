{
 "cells": [
  {
   "cell_type": "code",
   "execution_count": 1,
   "id": "08f97744-dbc7-45cf-b33c-c10450397a0d",
   "metadata": {},
   "outputs": [],
   "source": [
    "def local_scope():\n",
    "    x=10\n",
    "    print(x)"
   ]
  },
  {
   "cell_type": "code",
   "execution_count": 2,
   "id": "1187a1c6-b5f6-41c5-becd-20e7ea822706",
   "metadata": {},
   "outputs": [
    {
     "name": "stdout",
     "output_type": "stream",
     "text": [
      "10\n"
     ]
    }
   ],
   "source": [
    "local_scope()"
   ]
  },
  {
   "cell_type": "code",
   "execution_count": 3,
   "id": "b66ceeea-31bd-4025-b46c-7a565d11f562",
   "metadata": {},
   "outputs": [
    {
     "ename": "NameError",
     "evalue": "name 'x' is not defined",
     "output_type": "error",
     "traceback": [
      "\u001b[1;31m----------------------------------------------------------------------\u001b[0m",
      "\u001b[1;31mNameError\u001b[0m                            Traceback (most recent call last)",
      "Cell \u001b[1;32mIn[3], line 1\u001b[0m\n\u001b[1;32m----> 1\u001b[0m \u001b[43mx\u001b[49m\n",
      "\u001b[1;31mNameError\u001b[0m: name 'x' is not defined"
     ]
    }
   ],
   "source": [
    "x"
   ]
  },
  {
   "cell_type": "code",
   "execution_count": 5,
   "id": "844fdc76-146e-4790-97df-62c9ab2877af",
   "metadata": {},
   "outputs": [
    {
     "name": "stdout",
     "output_type": "stream",
     "text": [
      "Global x: 10\n"
     ]
    }
   ],
   "source": [
    "x = 20  # Global variable\n",
    "\n",
    "def global_scope():\n",
    "    x=10\n",
    "    print(\"Global x:\", x)\n",
    "\n",
    "global_scope()  # Output: Global x: 20"
   ]
  },
  {
   "cell_type": "code",
   "execution_count": null,
   "id": "fa5e18f6-1047-4715-b7c9-e0fde3fbd63c",
   "metadata": {},
   "outputs": [],
   "source": []
  },
  {
   "cell_type": "code",
   "execution_count": 9,
   "id": "cc8f3ca3-4543-4563-89b2-34b19e4e169a",
   "metadata": {},
   "outputs": [],
   "source": [
    "count=0\n",
    "def update_global():\n",
    "    global count\n",
    "    count=count+1\n",
    "    print(count)"
   ]
  },
  {
   "cell_type": "code",
   "execution_count": 10,
   "id": "806b6b89-e493-495c-9aac-510f9776fd7f",
   "metadata": {},
   "outputs": [
    {
     "name": "stdout",
     "output_type": "stream",
     "text": [
      "1\n"
     ]
    }
   ],
   "source": [
    "update_global()"
   ]
  },
  {
   "cell_type": "code",
   "execution_count": 11,
   "id": "0ff582f0-283d-4ca8-871a-72a3dc97ec10",
   "metadata": {},
   "outputs": [
    {
     "data": {
      "text/plain": [
       "1"
      ]
     },
     "execution_count": 11,
     "metadata": {},
     "output_type": "execute_result"
    }
   ],
   "source": [
    "count"
   ]
  },
  {
   "cell_type": "code",
   "execution_count": null,
   "id": "96f919ec-57ca-4525-95c1-f52dec147444",
   "metadata": {},
   "outputs": [],
   "source": []
  },
  {
   "cell_type": "code",
   "execution_count": null,
   "id": "7da2bd82-7d61-4d10-8497-1eec5d7b579a",
   "metadata": {},
   "outputs": [],
   "source": []
  },
  {
   "cell_type": "code",
   "execution_count": 19,
   "id": "066c96d1-8a6a-44b7-8152-c28285cc63af",
   "metadata": {},
   "outputs": [],
   "source": [
    "x=\"science\"\n",
    "def outer():\n",
    "    x=\"data\"\n",
    "    def inner():\n",
    "       \n",
    "        print(x)\n",
    "    inner()"
   ]
  },
  {
   "cell_type": "code",
   "execution_count": 20,
   "id": "ee3ca78e-473c-4f9a-8450-7553ce63071b",
   "metadata": {},
   "outputs": [
    {
     "name": "stdout",
     "output_type": "stream",
     "text": [
      "data\n"
     ]
    }
   ],
   "source": [
    "outer()"
   ]
  },
  {
   "cell_type": "code",
   "execution_count": null,
   "id": "f02a2b63-779c-43db-9923-d3e9a7021ff1",
   "metadata": {},
   "outputs": [],
   "source": [
    "local\n",
    "enclosing brackets\n",
    "global"
   ]
  },
  {
   "cell_type": "code",
   "execution_count": null,
   "id": "6af66627-332c-463d-94c6-d3887d0d47d2",
   "metadata": {},
   "outputs": [],
   "source": [
    "### nonlocal"
   ]
  },
  {
   "cell_type": "code",
   "execution_count": 28,
   "id": "2eab9ccb-ff41-4905-9972-6b71b3e73dd7",
   "metadata": {},
   "outputs": [],
   "source": [
    "x=\"science\"\n",
    "def outer():\n",
    "    x=\"data\"\n",
    "    def inner():\n",
    "        nonlocal x\n",
    "        x=x*2\n",
    "    inner()\n",
    "    print(x)"
   ]
  },
  {
   "cell_type": "code",
   "execution_count": 29,
   "id": "d339e7f6-1339-4f76-8ef5-118de122640f",
   "metadata": {},
   "outputs": [
    {
     "name": "stdout",
     "output_type": "stream",
     "text": [
      "datadata\n"
     ]
    }
   ],
   "source": [
    "outer()"
   ]
  },
  {
   "cell_type": "code",
   "execution_count": null,
   "id": "332d6464-522a-4d5d-9a9b-641766765fe5",
   "metadata": {},
   "outputs": [],
   "source": [
    "#### "
   ]
  },
  {
   "cell_type": "code",
   "execution_count": 33,
   "id": "1bcd5fd5-5024-4342-ae4f-156e4a098c7b",
   "metadata": {},
   "outputs": [],
   "source": [
    "def factorial(n):\n",
    "    if n==1:\n",
    "        return 1\n",
    "    return n*factorial(n-1)"
   ]
  },
  {
   "cell_type": "code",
   "execution_count": null,
   "id": "a3beb50d-a7ff-436f-afdc-e8f91893aa00",
   "metadata": {},
   "outputs": [],
   "source": [
    "10\n",
    "\n",
    "10*fact(9)\n",
    "10*9*fact(8)\n",
    "10*9*8*fact(7)"
   ]
  },
  {
   "cell_type": "code",
   "execution_count": 35,
   "id": "b208bd97-c5b4-4b28-9b14-3ca46d352644",
   "metadata": {},
   "outputs": [
    {
     "data": {
      "text/plain": [
       "120"
      ]
     },
     "execution_count": 35,
     "metadata": {},
     "output_type": "execute_result"
    }
   ],
   "source": [
    "factorial(5)"
   ]
  },
  {
   "cell_type": "code",
   "execution_count": null,
   "id": "a5e7cfec-4ec2-4e86-9932-0f1b274d7eb2",
   "metadata": {},
   "outputs": [],
   "source": []
  },
  {
   "cell_type": "code",
   "execution_count": null,
   "id": "7c53368e-56d3-4d36-a283-983a5d21caea",
   "metadata": {},
   "outputs": [],
   "source": [
    "def factorial(n):\n",
    "    if n==1:\n",
    "        return 1\n",
    "    return n*factorial(n-1)"
   ]
  },
  {
   "cell_type": "code",
   "execution_count": null,
   "id": "d5c8bd04-f304-42cb-a075-266016d6fc8a",
   "metadata": {},
   "outputs": [],
   "source": []
  },
  {
   "cell_type": "code",
   "execution_count": null,
   "id": "c640a8c2-4b61-4a77-a9f1-629935cb280c",
   "metadata": {},
   "outputs": [],
   "source": [
    "def "
   ]
  },
  {
   "cell_type": "code",
   "execution_count": null,
   "id": "382e84f9-36ed-40e8-850d-c66db3244313",
   "metadata": {},
   "outputs": [],
   "source": [
    "10\n",
    "1+2+3+4+\n",
    "10+9+8+"
   ]
  },
  {
   "cell_type": "code",
   "execution_count": 39,
   "id": "82e7e0b3-e0a4-44ad-b039-15fc76e646b2",
   "metadata": {},
   "outputs": [],
   "source": [
    "def sum_n(n):\n",
    "    if n==1:\n",
    "        return 1\n",
    "    return n+sum_n(n-1)"
   ]
  },
  {
   "cell_type": "code",
   "execution_count": 40,
   "id": "50e4836e-fa38-4836-9fa5-38724ea3f09a",
   "metadata": {},
   "outputs": [
    {
     "data": {
      "text/plain": [
       "15"
      ]
     },
     "execution_count": 40,
     "metadata": {},
     "output_type": "execute_result"
    }
   ],
   "source": [
    "sum_n(5)"
   ]
  },
  {
   "cell_type": "code",
   "execution_count": 41,
   "id": "46007b76-2875-4288-9a54-867b21e1e559",
   "metadata": {},
   "outputs": [],
   "source": [
    "#### lambda expression"
   ]
  },
  {
   "cell_type": "code",
   "execution_count": 42,
   "id": "7e8921ea-a8a0-4af1-9d4b-1b49aec4302a",
   "metadata": {},
   "outputs": [
    {
     "data": {
      "text/plain": [
       "<function __main__.<lambda>(x)>"
      ]
     },
     "execution_count": 42,
     "metadata": {},
     "output_type": "execute_result"
    }
   ],
   "source": [
    "lambda x:x+2"
   ]
  },
  {
   "cell_type": "code",
   "execution_count": 43,
   "id": "95265706-d3cb-48d8-9dae-bf66ba8ab9e9",
   "metadata": {},
   "outputs": [],
   "source": [
    "def add(x):\n",
    "    x=x+2\n",
    "    return x"
   ]
  },
  {
   "cell_type": "code",
   "execution_count": 44,
   "id": "4668b3fc-d77c-4440-9677-26b032002297",
   "metadata": {},
   "outputs": [
    {
     "data": {
      "text/plain": [
       "12"
      ]
     },
     "execution_count": 44,
     "metadata": {},
     "output_type": "execute_result"
    }
   ],
   "source": [
    "add(10)"
   ]
  },
  {
   "cell_type": "code",
   "execution_count": 47,
   "id": "4a7983f9-b9a2-4653-ad19-96cb84bf2624",
   "metadata": {},
   "outputs": [],
   "source": [
    "add1=lambda x:x*3"
   ]
  },
  {
   "cell_type": "code",
   "execution_count": 49,
   "id": "95594484-085d-4397-9fe1-052485424c06",
   "metadata": {},
   "outputs": [
    {
     "data": {
      "text/plain": [
       "'abcabcabc'"
      ]
     },
     "execution_count": 49,
     "metadata": {},
     "output_type": "execute_result"
    }
   ],
   "source": [
    "add1(\"abc\")"
   ]
  },
  {
   "cell_type": "code",
   "execution_count": 51,
   "id": "ee2a4bc7-17ca-4944-a472-5304f2f9e574",
   "metadata": {},
   "outputs": [],
   "source": [
    "iseven=lambda x:x%2==0"
   ]
  },
  {
   "cell_type": "code",
   "execution_count": 53,
   "id": "1adbbd59-a984-4945-a82f-d2b42a110fd7",
   "metadata": {},
   "outputs": [
    {
     "name": "stdout",
     "output_type": "stream",
     "text": [
      "0 True\n",
      "1 False\n",
      "2 True\n",
      "3 False\n",
      "4 True\n",
      "5 False\n",
      "6 True\n",
      "7 False\n",
      "8 True\n",
      "9 False\n"
     ]
    }
   ],
   "source": [
    "for i in range(0,10):\n",
    "    print(i,iseven(i))"
   ]
  },
  {
   "cell_type": "code",
   "execution_count": null,
   "id": "848ee1aa-2483-4620-be33-1ba561f65ff7",
   "metadata": {},
   "outputs": [],
   "source": []
  },
  {
   "cell_type": "code",
   "execution_count": 55,
   "id": "e4771640-c562-4287-9a5c-383fd174146d",
   "metadata": {},
   "outputs": [],
   "source": [
    "greater=lambda a,b: a if a>b else b"
   ]
  },
  {
   "cell_type": "code",
   "execution_count": 57,
   "id": "f1db1b51-d88e-481e-91a2-3e597b8bac2f",
   "metadata": {},
   "outputs": [
    {
     "data": {
      "text/plain": [
       "-10"
      ]
     },
     "execution_count": 57,
     "metadata": {},
     "output_type": "execute_result"
    }
   ],
   "source": [
    "greater(-10,-20)"
   ]
  },
  {
   "cell_type": "code",
   "execution_count": 58,
   "id": "40740c08-991d-426c-a8b9-59b3eb63dae2",
   "metadata": {},
   "outputs": [
    {
     "data": {
      "text/plain": [
       "'data'"
      ]
     },
     "execution_count": 58,
     "metadata": {},
     "output_type": "execute_result"
    }
   ],
   "source": [
    "\"data\""
   ]
  },
  {
   "cell_type": "code",
   "execution_count": 61,
   "id": "e4bd7f3e-ea99-4687-be9b-41d488a0e3c4",
   "metadata": {},
   "outputs": [
    {
     "data": {
      "text/plain": [
       "'DA'"
      ]
     },
     "execution_count": 61,
     "metadata": {},
     "output_type": "execute_result"
    }
   ],
   "source": [
    "sample=lambda x:x[:2].upper()\n",
    "sample(\"data\")"
   ]
  },
  {
   "cell_type": "code",
   "execution_count": 64,
   "id": "0348322c-b6b4-4fab-b494-604d3b41a037",
   "metadata": {},
   "outputs": [
    {
     "data": {
      "text/plain": [
       "'atad ecneics'"
      ]
     },
     "execution_count": 64,
     "metadata": {},
     "output_type": "execute_result"
    }
   ],
   "source": [
    "x=\"data science\"\n",
    "\"atad ecneics\""
   ]
  },
  {
   "cell_type": "code",
   "execution_count": 66,
   "id": "80c2fe00-e268-43a3-8fb5-73225dbb1e95",
   "metadata": {},
   "outputs": [],
   "source": [
    "expression=lambda x:x[::-1]"
   ]
  },
  {
   "cell_type": "code",
   "execution_count": 68,
   "id": "eedbbb78-fda6-4e66-89c7-2be78d15fd66",
   "metadata": {},
   "outputs": [
    {
     "name": "stdout",
     "output_type": "stream",
     "text": [
      "atad\n",
      "ecneics\n"
     ]
    }
   ],
   "source": [
    "for i in x.split():\n",
    "    print(expression(i))"
   ]
  },
  {
   "cell_type": "code",
   "execution_count": null,
   "id": "64c6a2d6-dc8f-4145-910c-e23a9aee5c7d",
   "metadata": {},
   "outputs": [],
   "source": []
  },
  {
   "cell_type": "code",
   "execution_count": null,
   "id": "8fe1c181-9b98-431c-b9be-2b18d698ee06",
   "metadata": {},
   "outputs": [],
   "source": [
    "expression=lambda x:x[::-1]"
   ]
  },
  {
   "cell_type": "code",
   "execution_count": null,
   "id": "7478e718-4b2f-4a84-a943-2dfeaeda3636",
   "metadata": {},
   "outputs": [],
   "source": []
  },
  {
   "cell_type": "code",
   "execution_count": 70,
   "id": "6cfb2279-26e8-4f7d-afe5-7995d620aafd",
   "metadata": {},
   "outputs": [
    {
     "data": {
      "text/plain": [
       "[0.0, 0.5, 1.0, 1.5, 2.0, 2.5, 3.0, 3.5, 4.0, 4.5]"
      ]
     },
     "execution_count": 70,
     "metadata": {},
     "output_type": "execute_result"
    }
   ],
   "source": [
    "[ i/2 for i in range(0,10)]"
   ]
  },
  {
   "cell_type": "code",
   "execution_count": 72,
   "id": "42dcd761-7281-4d20-a000-68c6d529b9b5",
   "metadata": {},
   "outputs": [],
   "source": [
    "x=[]\n",
    "for i in range(0,10):\n",
    "    x.append(i/2)"
   ]
  },
  {
   "cell_type": "code",
   "execution_count": 73,
   "id": "8a0cf925-b05b-4ed7-b10b-056a18397d46",
   "metadata": {},
   "outputs": [
    {
     "data": {
      "text/plain": [
       "[0.0, 0.5, 1.0, 1.5, 2.0, 2.5, 3.0, 3.5, 4.0, 4.5]"
      ]
     },
     "execution_count": 73,
     "metadata": {},
     "output_type": "execute_result"
    }
   ],
   "source": [
    "x"
   ]
  },
  {
   "cell_type": "code",
   "execution_count": 74,
   "id": "8cdf96a5-fe53-4514-bc55-660fb3d37b50",
   "metadata": {},
   "outputs": [
    {
     "data": {
      "text/plain": [
       "[0, 1, 2, 3, 4, 5, 6, 7, 8, 9]"
      ]
     },
     "execution_count": 74,
     "metadata": {},
     "output_type": "execute_result"
    }
   ],
   "source": [
    "[i for i in range(0,10)]"
   ]
  },
  {
   "cell_type": "code",
   "execution_count": 77,
   "id": "4a53e4d1-063c-4f3d-be52-67c17a4f0417",
   "metadata": {},
   "outputs": [],
   "source": [
    "x=\"data science\""
   ]
  },
  {
   "cell_type": "code",
   "execution_count": 80,
   "id": "cae5f909-adb8-4914-a252-2ef7c9ad2f85",
   "metadata": {},
   "outputs": [
    {
     "data": {
      "text/plain": [
       "['atad', 'ecneics']"
      ]
     },
     "execution_count": 80,
     "metadata": {},
     "output_type": "execute_result"
    }
   ],
   "source": [
    "[i[::-1] for  i in x.split()]\n",
    "  "
   ]
  },
  {
   "cell_type": "code",
   "execution_count": null,
   "id": "8710398d-f017-4792-a182-ca6ed059d70b",
   "metadata": {},
   "outputs": [],
   "source": []
  },
  {
   "cell_type": "code",
   "execution_count": null,
   "id": "51882848-d6c2-4a8c-9d93-178584492f01",
   "metadata": {},
   "outputs": [],
   "source": []
  },
  {
   "cell_type": "code",
   "execution_count": null,
   "id": "59c3d96f-8bab-444d-ae4c-e5322ff6c0f1",
   "metadata": {},
   "outputs": [],
   "source": []
  },
  {
   "cell_type": "code",
   "execution_count": null,
   "id": "28ea38bf-4958-4289-8c27-54c76a66c631",
   "metadata": {},
   "outputs": [],
   "source": []
  },
  {
   "cell_type": "code",
   "execution_count": 81,
   "id": "702b86b6-081d-4416-9013-40631734c459",
   "metadata": {},
   "outputs": [],
   "source": [
    "add=lambda x:x+2"
   ]
  },
  {
   "cell_type": "code",
   "execution_count": 82,
   "id": "695bbf2e-1b55-4a40-9005-58c234f02310",
   "metadata": {},
   "outputs": [
    {
     "data": {
      "text/plain": [
       "12"
      ]
     },
     "execution_count": 82,
     "metadata": {},
     "output_type": "execute_result"
    }
   ],
   "source": [
    "add(10)"
   ]
  },
  {
   "cell_type": "code",
   "execution_count": 83,
   "id": "1ef08590-5bfb-459c-809d-acb08263ff4b",
   "metadata": {},
   "outputs": [
    {
     "name": "stdout",
     "output_type": "stream",
     "text": [
      "3\n",
      "4\n",
      "5\n",
      "6\n",
      "7\n",
      "8\n",
      "9\n",
      "10\n",
      "11\n"
     ]
    }
   ],
   "source": [
    "for i in range(1,10):\n",
    "    print(add(i))"
   ]
  },
  {
   "cell_type": "code",
   "execution_count": 85,
   "id": "388aab5e-9845-4da9-8b93-6b8004b91feb",
   "metadata": {},
   "outputs": [
    {
     "data": {
      "text/plain": [
       "[3, 4, 5, 6]"
      ]
     },
     "execution_count": 85,
     "metadata": {},
     "output_type": "execute_result"
    }
   ],
   "source": [
    "list(map(add,[1,2,3,4]))"
   ]
  },
  {
   "cell_type": "code",
   "execution_count": 86,
   "id": "9ff0d789-ffe2-498b-857a-930206417ee0",
   "metadata": {},
   "outputs": [
    {
     "data": {
      "text/plain": [
       "[3, 4, 5, 6]"
      ]
     },
     "execution_count": 86,
     "metadata": {},
     "output_type": "execute_result"
    }
   ],
   "source": [
    "list(map(lambda x:x+2,[1,2,3,4]))"
   ]
  },
  {
   "cell_type": "code",
   "execution_count": null,
   "id": "f0725710-5183-40eb-9970-fa2c566df934",
   "metadata": {},
   "outputs": [],
   "source": []
  },
  {
   "cell_type": "code",
   "execution_count": null,
   "id": "a977f456-da34-4366-8c7c-cb9679235408",
   "metadata": {},
   "outputs": [],
   "source": []
  },
  {
   "cell_type": "code",
   "execution_count": null,
   "id": "01da2c80-42e2-4818-b67c-85e3ef88d140",
   "metadata": {},
   "outputs": [],
   "source": []
  },
  {
   "cell_type": "code",
   "execution_count": null,
   "id": "4b6a9448-1dab-4258-83c3-aef6834a2a5e",
   "metadata": {},
   "outputs": [],
   "source": []
  },
  {
   "cell_type": "code",
   "execution_count": 92,
   "id": "c9d6ad6e-39f9-43e2-a84d-6459123fbc35",
   "metadata": {},
   "outputs": [
    {
     "name": "stdout",
     "output_type": "stream",
     "text": [
      "[1, 4, 9, 16, 25, 36, 49, 64, 81]\n"
     ]
    }
   ],
   "source": [
    "def square(x):\n",
    "    return x**2\n",
    "x=[]\n",
    "for i in range(1,10):\n",
    "    x.append(square(i))\n",
    "print(x)"
   ]
  },
  {
   "cell_type": "code",
   "execution_count": 90,
   "id": "b60753d5-ece1-464e-9743-1238478e10ce",
   "metadata": {},
   "outputs": [
    {
     "data": {
      "text/plain": [
       "[1, 4, 9, 16, 25, 36, 49, 64, 81]"
      ]
     },
     "execution_count": 90,
     "metadata": {},
     "output_type": "execute_result"
    }
   ],
   "source": [
    "list(map(lambda x:x**2,range(1,10)))"
   ]
  },
  {
   "cell_type": "code",
   "execution_count": null,
   "id": "35b6c6e2-2ae1-4c27-bf6b-7280fe348302",
   "metadata": {},
   "outputs": [],
   "source": [
    "map(funcion,arguments)"
   ]
  },
  {
   "cell_type": "code",
   "execution_count": null,
   "id": "6ca195ca-9198-47d2-81a1-65d48b0f1376",
   "metadata": {},
   "outputs": [],
   "source": []
  },
  {
   "cell_type": "code",
   "execution_count": null,
   "id": "531c23a9-c515-452d-95b1-0805c53f5c06",
   "metadata": {},
   "outputs": [],
   "source": [
    "### examples\n"
   ]
  },
  {
   "cell_type": "code",
   "execution_count": 95,
   "id": "70af9d2f-d409-4ccc-921d-d53fbe65c01c",
   "metadata": {},
   "outputs": [],
   "source": [
    "x=\"data science machine learning\""
   ]
  },
  {
   "cell_type": "code",
   "execution_count": 93,
   "id": "648a162e-2271-435c-8879-a269dea7fc78",
   "metadata": {},
   "outputs": [
    {
     "data": {
      "text/plain": [
       "['atad', 'ecneics', 'enihcam', 'gninrael']"
      ]
     },
     "execution_count": 93,
     "metadata": {},
     "output_type": "execute_result"
    }
   ],
   "source": [
    "[\"atad\" ,\"ecneics\",\"enihcam\",\"gninrael\"]"
   ]
  },
  {
   "cell_type": "code",
   "execution_count": 96,
   "id": "7a13f8d9-a116-4fd0-8b72-b81733223ce4",
   "metadata": {},
   "outputs": [
    {
     "data": {
      "text/plain": [
       "'data science machine learning'"
      ]
     },
     "execution_count": 96,
     "metadata": {},
     "output_type": "execute_result"
    }
   ],
   "source": [
    "x"
   ]
  },
  {
   "cell_type": "code",
   "execution_count": 98,
   "id": "737529de-4eeb-4ed8-9a37-32717a3e6ba1",
   "metadata": {},
   "outputs": [
    {
     "data": {
      "text/plain": [
       "['atad', 'ecneics', 'enihcam', 'gninrael']"
      ]
     },
     "execution_count": 98,
     "metadata": {},
     "output_type": "execute_result"
    }
   ],
   "source": [
    "list(map(lambda x:x[::-1],x.split()))"
   ]
  },
  {
   "cell_type": "code",
   "execution_count": null,
   "id": "cab55a73-437b-47d8-ad69-6824568cbb1c",
   "metadata": {},
   "outputs": [],
   "source": []
  },
  {
   "cell_type": "code",
   "execution_count": null,
   "id": "e886a8d3-8fea-46ef-b897-61818ace17de",
   "metadata": {},
   "outputs": [],
   "source": [
    "list(map(lambda x:x[::-1],x.split()))"
   ]
  },
  {
   "cell_type": "code",
   "execution_count": null,
   "id": "d6faec91-d004-4ca9-8c45-aa0c172ca9ae",
   "metadata": {},
   "outputs": [],
   "source": [
    "\"data science machine learning\""
   ]
  },
  {
   "cell_type": "code",
   "execution_count": null,
   "id": "f0a4d01a-a7f2-42f1-82e7-450ed1df9e4d",
   "metadata": {},
   "outputs": [],
   "source": [
    "\"data4 science6 machine7 learning8\""
   ]
  },
  {
   "cell_type": "code",
   "execution_count": 103,
   "id": "b3b083ac-bf00-4f3f-b106-1c9dd347e385",
   "metadata": {},
   "outputs": [
    {
     "data": {
      "text/plain": [
       "'data4 science7 machine7 learning8'"
      ]
     },
     "execution_count": 103,
     "metadata": {},
     "output_type": "execute_result"
    }
   ],
   "source": [
    "\" \".join(list(map(lambda x:x+str(len(x)),x.split())))"
   ]
  },
  {
   "cell_type": "code",
   "execution_count": null,
   "id": "7298f8a0-2e1b-47fc-839b-d80cdffb477d",
   "metadata": {},
   "outputs": [],
   "source": []
  },
  {
   "cell_type": "code",
   "execution_count": 101,
   "id": "d62f4825-e377-4481-aca9-ba4db6349837",
   "metadata": {},
   "outputs": [
    {
     "data": {
      "text/plain": [
       "'Data4'"
      ]
     },
     "execution_count": 101,
     "metadata": {},
     "output_type": "execute_result"
    }
   ],
   "source": [
    "\"Data\"+str(4)"
   ]
  },
  {
   "cell_type": "code",
   "execution_count": null,
   "id": "b2264d76-d338-4cfc-b6e8-b696af11b323",
   "metadata": {},
   "outputs": [],
   "source": []
  },
  {
   "cell_type": "code",
   "execution_count": null,
   "id": "8e8fa33e-219a-41d8-a0ce-e7102491d8e3",
   "metadata": {},
   "outputs": [],
   "source": []
  },
  {
   "cell_type": "code",
   "execution_count": 105,
   "id": "b0ded8cb-a00b-44dd-84dd-b6a99f79fa92",
   "metadata": {},
   "outputs": [],
   "source": [
    "x=\"data science machine learning\""
   ]
  },
  {
   "cell_type": "code",
   "execution_count": null,
   "id": "977f7746-d893-4741-b8b2-eaae2ed99bd9",
   "metadata": {},
   "outputs": [],
   "source": [
    "\"da se me lg\""
   ]
  },
  {
   "cell_type": "code",
   "execution_count": 106,
   "id": "07a54fdc-7e6e-4d66-b2a1-072cfc8a676a",
   "metadata": {},
   "outputs": [
    {
     "data": {
      "text/plain": [
       "['data4', 'science7', 'machine7', 'learning8']"
      ]
     },
     "execution_count": 106,
     "metadata": {},
     "output_type": "execute_result"
    }
   ],
   "source": [
    "list(map(lambda x:x+str(len(x)),x.split()))"
   ]
  },
  {
   "cell_type": "code",
   "execution_count": 108,
   "id": "54233f87-89f4-43cf-8c56-272d47c6fdf0",
   "metadata": {},
   "outputs": [
    {
     "data": {
      "text/plain": [
       "'da se me lg'"
      ]
     },
     "execution_count": 108,
     "metadata": {},
     "output_type": "execute_result"
    }
   ],
   "source": [
    "' '.join(list(map(lambda x:x[0]+x[-1],x.split())))"
   ]
  },
  {
   "cell_type": "code",
   "execution_count": 109,
   "id": "2f4a46fa-b919-4869-b67b-381f970b6d96",
   "metadata": {},
   "outputs": [],
   "source": [
    "### filter"
   ]
  },
  {
   "cell_type": "code",
   "execution_count": 113,
   "id": "8dd8aed7-e891-435f-9552-9d990520de7c",
   "metadata": {},
   "outputs": [
    {
     "data": {
      "text/plain": [
       "[4, 8]"
      ]
     },
     "execution_count": 113,
     "metadata": {},
     "output_type": "execute_result"
    }
   ],
   "source": [
    "list(filter(lambda x:x%4==0,range(1,10)))"
   ]
  },
  {
   "cell_type": "code",
   "execution_count": 115,
   "id": "91abdab7-e7d6-4388-b7ef-a63e38d110da",
   "metadata": {},
   "outputs": [],
   "source": [
    "x=\"data science machine learning\""
   ]
  },
  {
   "cell_type": "code",
   "execution_count": 116,
   "id": "4c990b2c-5811-4116-8c19-f7f34188e39f",
   "metadata": {},
   "outputs": [
    {
     "data": {
      "text/plain": [
       "['data', 'learning']"
      ]
     },
     "execution_count": 116,
     "metadata": {},
     "output_type": "execute_result"
    }
   ],
   "source": [
    "list(filter(lambda x:len(x)%2==0,x.split()))"
   ]
  },
  {
   "cell_type": "code",
   "execution_count": 120,
   "id": "913756a0-3bed-4e83-9cb0-0c7df692dfa0",
   "metadata": {},
   "outputs": [
    {
     "data": {
      "text/plain": [
       "[10,\n",
       " 11,\n",
       " 12,\n",
       " 13,\n",
       " 14,\n",
       " 15,\n",
       " 16,\n",
       " 17,\n",
       " 18,\n",
       " 19,\n",
       " 20,\n",
       " 21,\n",
       " 22,\n",
       " 23,\n",
       " 24,\n",
       " 25,\n",
       " 26,\n",
       " 27,\n",
       " 28,\n",
       " 29]"
      ]
     },
     "execution_count": 120,
     "metadata": {},
     "output_type": "execute_result"
    }
   ],
   "source": [
    "list1=[i for i in range(10,30)]\n",
    "list1"
   ]
  },
  {
   "cell_type": "code",
   "execution_count": null,
   "id": "bee1f135-7d0c-41d2-b214-649be962d05d",
   "metadata": {},
   "outputs": [],
   "source": [
    "10-30\n",
    "15-25"
   ]
  },
  {
   "cell_type": "code",
   "execution_count": 122,
   "id": "393f513c-36ac-45d3-be7f-24b33bd759dd",
   "metadata": {},
   "outputs": [],
   "source": [
    "x=[10,22,37,48,121]"
   ]
  },
  {
   "cell_type": "code",
   "execution_count": 124,
   "id": "0908cafe-f9bc-4a54-9f71-b35397d65e65",
   "metadata": {},
   "outputs": [
    {
     "name": "stdout",
     "output_type": "stream",
     "text": [
      "22\n",
      "37\n"
     ]
    }
   ],
   "source": [
    "for i in x:\n",
    "    if i>20 and i<40:\n",
    "        print(i)"
   ]
  },
  {
   "cell_type": "code",
   "execution_count": 126,
   "id": "b4c523d2-cfaa-4dd2-854d-34a84f2b4de3",
   "metadata": {},
   "outputs": [
    {
     "data": {
      "text/plain": [
       "[22, 37]"
      ]
     },
     "execution_count": 126,
     "metadata": {},
     "output_type": "execute_result"
    }
   ],
   "source": [
    "list1=[10,22,37,48,121]\n",
    "list(filter(lambda x:x>20 and x<40,list1))"
   ]
  },
  {
   "cell_type": "code",
   "execution_count": null,
   "id": "711e2e04-bc57-47ba-af49-c94bb7ade376",
   "metadata": {},
   "outputs": [],
   "source": []
  },
  {
   "cell_type": "code",
   "execution_count": 127,
   "id": "25fae823-8468-42ce-86f0-a4b8667b5285",
   "metadata": {},
   "outputs": [],
   "source": [
    "x=[22,3,24,45,52,1]"
   ]
  },
  {
   "cell_type": "code",
   "execution_count": 128,
   "id": "748fbefb-e619-4e45-b3c2-bd1091b3d528",
   "metadata": {},
   "outputs": [],
   "source": [
    "from functools import reduce"
   ]
  },
  {
   "cell_type": "code",
   "execution_count": 131,
   "id": "9314789b-986c-4d61-a575-1a7933c542c8",
   "metadata": {},
   "outputs": [
    {
     "data": {
      "text/plain": [
       "52"
      ]
     },
     "execution_count": 131,
     "metadata": {},
     "output_type": "execute_result"
    }
   ],
   "source": [
    "reduce(lambda a,b: a if a>b else b,x)"
   ]
  },
  {
   "cell_type": "code",
   "execution_count": 132,
   "id": "62a58104-6162-4660-b98d-25744fb5949d",
   "metadata": {},
   "outputs": [],
   "source": [
    "x=[22,3,24,45,52,1]"
   ]
  },
  {
   "cell_type": "code",
   "execution_count": 133,
   "id": "445ffdd5-4044-42ed-af18-cbd9ef798750",
   "metadata": {},
   "outputs": [
    {
     "data": {
      "text/plain": [
       "147"
      ]
     },
     "execution_count": 133,
     "metadata": {},
     "output_type": "execute_result"
    }
   ],
   "source": [
    "reduce(lambda a,b:a+b,x)"
   ]
  },
  {
   "cell_type": "code",
   "execution_count": 138,
   "id": "60eb53f2-7f33-4aa9-ad95-072d3220be27",
   "metadata": {},
   "outputs": [],
   "source": [
    "x=\"data science machine learning\""
   ]
  },
  {
   "cell_type": "code",
   "execution_count": 145,
   "id": "aca2c15e-06e7-4c96-8ae0-2643a63ebc50",
   "metadata": {},
   "outputs": [
    {
     "data": {
      "text/plain": [
       "'learning'"
      ]
     },
     "execution_count": 145,
     "metadata": {},
     "output_type": "execute_result"
    }
   ],
   "source": [
    "(reduce(lambda x,y:x if len(x)>len(y) else y, x.split()))"
   ]
  },
  {
   "cell_type": "code",
   "execution_count": 143,
   "id": "65fa058f-fcef-4dce-9d9f-620dc0af76df",
   "metadata": {},
   "outputs": [],
   "source": [
    "words=x.split()"
   ]
  },
  {
   "cell_type": "code",
   "execution_count": 144,
   "id": "fe3a1eca-d178-41f2-936d-a75594b6efbf",
   "metadata": {},
   "outputs": [
    {
     "data": {
      "text/plain": [
       "'learning'"
      ]
     },
     "execution_count": 144,
     "metadata": {},
     "output_type": "execute_result"
    }
   ],
   "source": [
    "reduce(lambda x,y:x if len(x)>len(y) else y,words)"
   ]
  },
  {
   "cell_type": "code",
   "execution_count": null,
   "id": "72d267a8-c793-4da1-82d2-dac72be52792",
   "metadata": {},
   "outputs": [],
   "source": []
  },
  {
   "cell_type": "code",
   "execution_count": null,
   "id": "5be4d711-87a7-43a4-91e5-ba82b7b3cf73",
   "metadata": {},
   "outputs": [],
   "source": []
  },
  {
   "cell_type": "code",
   "execution_count": null,
   "id": "c696ec65-87be-4a67-a2dc-9e40e5f60460",
   "metadata": {},
   "outputs": [],
   "source": []
  },
  {
   "cell_type": "code",
   "execution_count": null,
   "id": "2931b45d-af2c-4be4-bad5-8faa8dcb33fd",
   "metadata": {},
   "outputs": [],
   "source": []
  },
  {
   "cell_type": "code",
   "execution_count": null,
   "id": "3f05b138-84ee-4c03-b08b-55cf4e916c45",
   "metadata": {},
   "outputs": [],
   "source": []
  },
  {
   "cell_type": "code",
   "execution_count": null,
   "id": "5b9e4524-75a0-49d7-926f-f8e354955f09",
   "metadata": {},
   "outputs": [],
   "source": []
  },
  {
   "cell_type": "code",
   "execution_count": null,
   "id": "f4230dcd-7f4c-43f0-91bf-a0e94acefc69",
   "metadata": {},
   "outputs": [],
   "source": []
  },
  {
   "cell_type": "code",
   "execution_count": null,
   "id": "6ab9097f-dbab-4eae-af18-826cc0fbee34",
   "metadata": {},
   "outputs": [],
   "source": []
  },
  {
   "cell_type": "code",
   "execution_count": null,
   "id": "57df7df7-b70e-48a8-93ec-6162ae47ebd2",
   "metadata": {},
   "outputs": [],
   "source": []
  },
  {
   "cell_type": "code",
   "execution_count": null,
   "id": "3d66e797-ecba-4645-9e2c-23e2fd164f35",
   "metadata": {},
   "outputs": [],
   "source": []
  },
  {
   "cell_type": "code",
   "execution_count": null,
   "id": "c8219fd2-179c-4fd6-8ba3-5663470264a7",
   "metadata": {},
   "outputs": [],
   "source": []
  }
 ],
 "metadata": {
  "kernelspec": {
   "display_name": "Python 3 (ipykernel)",
   "language": "python",
   "name": "python3"
  },
  "language_info": {
   "codemirror_mode": {
    "name": "ipython",
    "version": 3
   },
   "file_extension": ".py",
   "mimetype": "text/x-python",
   "name": "python",
   "nbconvert_exporter": "python",
   "pygments_lexer": "ipython3",
   "version": "3.13.2"
  }
 },
 "nbformat": 4,
 "nbformat_minor": 5
}
