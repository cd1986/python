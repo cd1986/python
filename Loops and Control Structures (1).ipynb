{
 "cells": [
  {
   "cell_type": "code",
   "execution_count": null,
   "id": "a8e57424-1025-4138-9600-8fa731c7aa61",
   "metadata": {},
   "outputs": [],
   "source": [
    "if \n",
    "if else\n",
    "if elif else\n",
    "for \n",
    "while\n",
    "continue \n",
    "break"
   ]
  },
  {
   "cell_type": "code",
   "execution_count": null,
   "id": "14d311ca-5934-4852-9775-106c85a824d4",
   "metadata": {},
   "outputs": [],
   "source": [
    "if condition:\n",
    "    print(\"statement\")"
   ]
  },
  {
   "cell_type": "code",
   "execution_count": 4,
   "id": "c5e9c7ed-58e5-4d4d-b57b-9a28e955efab",
   "metadata": {},
   "outputs": [],
   "source": [
    "x=10\n",
    "if x>20:\n",
    "    print(\"data\")\n",
    "    print(\"Edukron\")"
   ]
  },
  {
   "cell_type": "code",
   "execution_count": 6,
   "id": "b57e49ba-362a-44b1-89c0-0a333cd462c2",
   "metadata": {},
   "outputs": [],
   "source": [
    "x=\"data science\"\n",
    "if x.isalpha():\n",
    "    print(\"test\")"
   ]
  },
  {
   "cell_type": "code",
   "execution_count": 9,
   "id": "be411e6e-330e-43ab-b776-c895f93d82e3",
   "metadata": {},
   "outputs": [],
   "source": [
    "x=\"123\"\n",
    "if x.isalnum() and len(x)>5:\n",
    "    print(\"test\")"
   ]
  },
  {
   "cell_type": "code",
   "execution_count": null,
   "id": "528d4b22-3e4e-4fac-85d4-7d12aa88a589",
   "metadata": {},
   "outputs": [],
   "source": [
    "x=\"123\"\n",
    "if x.isalnum() and len(x)>5:\n",
    "    print(\"test\")"
   ]
  },
  {
   "cell_type": "code",
   "execution_count": null,
   "id": "3c7ccafa-b994-427a-9b12-17a531b73289",
   "metadata": {},
   "outputs": [],
   "source": []
  },
  {
   "cell_type": "code",
   "execution_count": 11,
   "id": "492165b8-8902-4c48-92f1-480457f2b1a0",
   "metadata": {},
   "outputs": [
    {
     "name": "stdout",
     "output_type": "stream",
     "text": [
      "test\n"
     ]
    }
   ],
   "source": [
    "x=\"Data\"\n",
    "if x.startswith(\"d\".upper()):\n",
    "    print(\"test\")\n",
    "else:\n",
    "    print(\"edukron\")"
   ]
  },
  {
   "cell_type": "code",
   "execution_count": 13,
   "id": "cf527e86-1038-42ec-afbc-53b4fa12e8c1",
   "metadata": {},
   "outputs": [
    {
     "name": "stdin",
     "output_type": "stream",
     "text": [
      " admin\n",
      " admin1234\n"
     ]
    },
    {
     "name": "stdout",
     "output_type": "stream",
     "text": [
      "Invalid credentials\n"
     ]
    }
   ],
   "source": [
    "username = input()\n",
    "password = input()\n",
    "\n",
    "if username == \"admin\" and password == \"admin123\":\n",
    "    print(\"Login successful\")\n",
    "else:\n",
    "    print(\"Invalid credentials\")\n"
   ]
  },
  {
   "cell_type": "code",
   "execution_count": null,
   "id": "6eb30dd4-136c-40ed-8c79-ba1fb8b93f45",
   "metadata": {},
   "outputs": [],
   "source": []
  },
  {
   "cell_type": "code",
   "execution_count": 15,
   "id": "70edb5cc-dac2-439a-b71a-d4e93e11d40b",
   "metadata": {},
   "outputs": [
    {
     "name": "stdout",
     "output_type": "stream",
     "text": [
      "1 201\n"
     ]
    }
   ],
   "source": [
    "x=1\n",
    "y=20\n",
    "if x>2:\n",
    "    x=x+200\n",
    "else:\n",
    "    y=200+x\n",
    "print(x,y)"
   ]
  },
  {
   "cell_type": "code",
   "execution_count": null,
   "id": "1b0e5c31-53df-4dce-a39e-805738a99957",
   "metadata": {},
   "outputs": [],
   "source": []
  },
  {
   "cell_type": "code",
   "execution_count": 17,
   "id": "4e54f8ce-e706-4189-a4a9-48f6924b1a3a",
   "metadata": {},
   "outputs": [
    {
     "name": "stdout",
     "output_type": "stream",
     "text": [
      "2 22\n"
     ]
    }
   ],
   "source": [
    "x=1\n",
    "y=20\n",
    "if x>5:\n",
    "    x=x+5\n",
    "    y=x-2\n",
    "    x=y+2\n",
    "else:\n",
    "    x=x+1\n",
    "    y=y+2\n",
    "print(x,y)"
   ]
  },
  {
   "cell_type": "code",
   "execution_count": null,
   "id": "f89a5eb7-3279-4736-94b9-345446bdf12b",
   "metadata": {},
   "outputs": [],
   "source": [
    "# Example 1 (Original)\n",
    "x = 1\n",
    "y = 20\n",
    "if x > 5:\n",
    "    x = x + 5\n",
    "    y = x - 2\n",
    "    x = y + 2\n",
    "else:\n",
    "    x = x + 1\n",
    "    y = y + 2\n",
    "print(\"Example 1:\", x, y)\n",
    "\n",
    "# Example 2\n",
    "a = 10\n",
    "b = 5\n",
    "if a < b:\n",
    "    a += 2\n",
    "    b += 3\n",
    "else:\n",
    "    a -= 2\n",
    "    b *= 2\n",
    "print(\"Example 2:\", a, b)\n",
    "\n",
    "# Example 3\n",
    "x = 3\n",
    "y = 7\n",
    "if x * 2 > y:\n",
    "    x = x * 2\n",
    "    y = y - 1\n",
    "else:\n",
    "    y = y + 3\n",
    "    x = y - x\n",
    "print(\"Example 3:\", x, y)\n",
    "\n",
    "# Example 4\n",
    "p = 12\n",
    "q = 3\n",
    "if p / q == 4:\n",
    "    p = p + q\n",
    "else:\n",
    "    p = p - q\n",
    "print(\"Example 4:\", p, q)\n",
    "\n",
    "# Example 5\n",
    "x = 11\n",
    "y = 8\n",
    "if x % 2 == 0:\n",
    "    y = y + 1\n",
    "else:\n",
    "    x = x + 2\n",
    "    y = y - 2\n",
    "print(\"Example 5:\", x, y)\n",
    "\n",
    "# Example 6\n",
    "a = 5\n",
    "b = 15\n",
    "if a > 2 and b < 20:\n",
    "    a = a * 2\n",
    "    b = b - 5\n",
    "else:\n",
    "    a = a + b\n",
    "print(\"Example 6:\", a, b)\n",
    "\n",
    "# Example 7\n",
    "x = 4\n",
    "y = 9\n",
    "if y > x:\n",
    "    x = x + y\n",
    "    y = y - x\n",
    "else:\n",
    "    x = x - y\n",
    "print(\"Example 7:\", x, y)\n",
    "\n",
    "# Example 8\n",
    "a = 8\n",
    "b = 12\n",
    "if a == b:\n",
    "    a = a * b\n",
    "else:\n",
    "    b = b - a\n",
    "print(\"Example 8:\", a, b)\n",
    "\n",
    "# Example 9\n",
    "x = 6\n",
    "y = 6\n",
    "if x >= y:\n",
    "    x = x ** 2\n",
    "    y = y + 1\n",
    "else:\n",
    "    y = y ** 2\n",
    "print(\"Example 9:\", x, y)\n",
    "\n",
    "# Example 10\n",
    "a = 2\n",
    "b = 18\n",
    "if b % a == 0:\n",
    "    b = b // a\n",
    "else:\n",
    "    a = b % a\n",
    "print(\"Example 10:\", a, b)\n"
   ]
  },
  {
   "cell_type": "code",
   "execution_count": 18,
   "id": "05c16662-3d16-43e9-8ef9-9a866a857670",
   "metadata": {},
   "outputs": [
    {
     "name": "stdout",
     "output_type": "stream",
     "text": [
      "Example 10: 2 9\n"
     ]
    }
   ],
   "source": [
    "# Example 10\n",
    "a = 2\n",
    "b = 18\n",
    "if b % a == 0:\n",
    "    b = b // a\n",
    "else:\n",
    "    a = b % a\n",
    "print(\"Example 10:\", a, b)"
   ]
  },
  {
   "cell_type": "code",
   "execution_count": null,
   "id": "17135393-7a16-4466-a286-607f0d5d2ca0",
   "metadata": {},
   "outputs": [],
   "source": [
    "### For Loop and while loop"
   ]
  },
  {
   "cell_type": "code",
   "execution_count": 25,
   "id": "8fd0345b-5d8c-4934-b949-5e6df5ada74e",
   "metadata": {},
   "outputs": [
    {
     "name": "stdout",
     "output_type": "stream",
     "text": [
      "True\n",
      "True\n",
      "True\n",
      "True\n",
      "False\n"
     ]
    }
   ],
   "source": [
    "x=\"data7\"\n",
    "for z in x:\n",
    "    print(z.isalpha())"
   ]
  },
  {
   "cell_type": "code",
   "execution_count": 27,
   "id": "1e92c150-71b8-4e3c-b055-c97a1cbb5082",
   "metadata": {},
   "outputs": [],
   "source": [
    "x=[1,2,3,\"data\",[4,5,6,\"Data\"]]"
   ]
  },
  {
   "cell_type": "code",
   "execution_count": 29,
   "id": "1c228659-4493-4758-90ce-101730d27e8e",
   "metadata": {},
   "outputs": [
    {
     "name": "stdout",
     "output_type": "stream",
     "text": [
      "1\n",
      "1\n",
      "2\n",
      "1\n",
      "3\n",
      "1\n",
      "data\n",
      "4\n",
      "[4, 5, 6, 'Data']\n",
      "17\n"
     ]
    }
   ],
   "source": [
    "for i in x:\n",
    "    print(i)\n",
    "    print(len(str(i)))"
   ]
  },
  {
   "cell_type": "code",
   "execution_count": null,
   "id": "186f8ed8-f301-41cf-be95-39eaab7dac22",
   "metadata": {},
   "outputs": [],
   "source": [
    "\"[4,5,6,\"Data\"]\""
   ]
  },
  {
   "cell_type": "code",
   "execution_count": null,
   "id": "e91aac2b-dde5-4952-8844-312959e7fda1",
   "metadata": {},
   "outputs": [],
   "source": []
  },
  {
   "cell_type": "code",
   "execution_count": 30,
   "id": "276ffd63-389b-4c24-85ef-02bbbbc1a5ab",
   "metadata": {},
   "outputs": [
    {
     "name": "stdout",
     "output_type": "stream",
     "text": [
      "4\n",
      "7\n",
      "7\n",
      "8\n"
     ]
    }
   ],
   "source": [
    "x=\"Data science machine leanring\"\n",
    "for i in x.split():\n",
    "    print(len(i))"
   ]
  },
  {
   "cell_type": "code",
   "execution_count": 34,
   "id": "8f0fc223-2edd-4a90-9bc7-933ef49ac574",
   "metadata": {},
   "outputs": [
    {
     "data": {
      "text/plain": [
       "'****'"
      ]
     },
     "execution_count": 34,
     "metadata": {},
     "output_type": "execute_result"
    }
   ],
   "source": [
    "\"*\"*4"
   ]
  },
  {
   "cell_type": "code",
   "execution_count": 36,
   "id": "0cb2b343-5024-44d6-96d0-978d0130f42f",
   "metadata": {},
   "outputs": [
    {
     "name": "stdout",
     "output_type": "stream",
     "text": [
      "*****\n",
      "****\n",
      "***\n",
      "**\n",
      "*\n"
     ]
    }
   ],
   "source": [
    "for i in [1,2,3,4,5]:\n",
    "    print(\"*\"*(6-i))"
   ]
  },
  {
   "cell_type": "code",
   "execution_count": null,
   "id": "f148023e-00ec-45e3-a412-965c97975e53",
   "metadata": {},
   "outputs": [],
   "source": [
    "*\n",
    "**\n",
    "***\n",
    "****\n",
    "*****\n",
    "****\n",
    "***\n",
    "**\n",
    "*"
   ]
  },
  {
   "cell_type": "code",
   "execution_count": 37,
   "id": "2306227d-ee7a-4884-beda-ba55b6282670",
   "metadata": {},
   "outputs": [
    {
     "name": "stdout",
     "output_type": "stream",
     "text": [
      "*\n",
      "**\n",
      "***\n",
      "****\n",
      "*****\n",
      "*****\n",
      "****\n",
      "***\n",
      "**\n",
      "*\n"
     ]
    }
   ],
   "source": [
    "for i in [1,2,3,4,5]:\n",
    "    print(\"*\"*(i))\n",
    "for i in [1,2,3,4,5]:\n",
    "    print(\"*\"*(6-i))"
   ]
  },
  {
   "cell_type": "code",
   "execution_count": 44,
   "id": "8b730087-e090-42ae-a107-bddec3117e99",
   "metadata": {},
   "outputs": [
    {
     "name": "stdout",
     "output_type": "stream",
     "text": [
      "1,2,3,4,5,"
     ]
    }
   ],
   "source": [
    "for i in range(1,6):\n",
    "    print(i,end=',')"
   ]
  },
  {
   "cell_type": "code",
   "execution_count": 45,
   "id": "ede498bc-2a4e-40dd-b58c-e13743dde868",
   "metadata": {},
   "outputs": [
    {
     "name": "stdout",
     "output_type": "stream",
     "text": [
      "1,3,5,"
     ]
    }
   ],
   "source": [
    "for i in range(1,6,2):\n",
    "    print(i,end=',')"
   ]
  },
  {
   "cell_type": "code",
   "execution_count": 49,
   "id": "6608ccb6-d909-4595-834b-3c9518c7bb1f",
   "metadata": {},
   "outputs": [
    {
     "name": "stdout",
     "output_type": "stream",
     "text": [
      "1,3,5,7,9,11,13,15,17,19,21,23,25,27,29,31,33,35,37,39,41,43,45,47,49,"
     ]
    }
   ],
   "source": [
    "for i in range(1,50,2):\n",
    "    print(i,end=',')"
   ]
  },
  {
   "cell_type": "code",
   "execution_count": 51,
   "id": "e02e38d5-6288-4621-93f0-c41d78df8aac",
   "metadata": {},
   "outputs": [
    {
     "name": "stdout",
     "output_type": "stream",
     "text": [
      "50,48,46,44,42,40,38,36,34,32,30,28,26,24,22,20,18,16,14,12,10,8,6,4,2,"
     ]
    }
   ],
   "source": [
    "for i in range(50,1,-2):\n",
    "    print(i,end=',')"
   ]
  },
  {
   "cell_type": "code",
   "execution_count": 55,
   "id": "42bfcd51-7822-4799-b04e-8af5609ca6cb",
   "metadata": {},
   "outputs": [
    {
     "name": "stdout",
     "output_type": "stream",
     "text": [
      "     $\n",
      "    $$\n",
      "   $$$\n",
      "  $$$$\n",
      " $$$$$\n"
     ]
    }
   ],
   "source": [
    "for i in range(1,6):\n",
    "    print((6-i)*\" \"+i*\"$\")"
   ]
  },
  {
   "cell_type": "code",
   "execution_count": null,
   "id": "b38e8892-9861-4b18-8264-e8fd02090706",
   "metadata": {},
   "outputs": [],
   "source": []
  },
  {
   "cell_type": "code",
   "execution_count": null,
   "id": "a08efd3c-f3c8-444e-9361-a40434ba743f",
   "metadata": {},
   "outputs": [],
   "source": []
  },
  {
   "cell_type": "code",
   "execution_count": null,
   "id": "e11d30ce-9b39-4c3c-9855-7e7d458f6c2a",
   "metadata": {},
   "outputs": [],
   "source": []
  },
  {
   "cell_type": "code",
   "execution_count": null,
   "id": "2097ddce-2cd9-44fe-8c0e-e3a452e2a97e",
   "metadata": {},
   "outputs": [],
   "source": []
  },
  {
   "cell_type": "code",
   "execution_count": null,
   "id": "80e0d742-269c-4c5a-aa27-8843112f1e9c",
   "metadata": {},
   "outputs": [],
   "source": []
  },
  {
   "cell_type": "code",
   "execution_count": null,
   "id": "150d3323-1178-454a-9918-a4e7624592a1",
   "metadata": {},
   "outputs": [],
   "source": []
  },
  {
   "cell_type": "code",
   "execution_count": null,
   "id": "05e921de-a0c5-4bbf-8b18-b9e3e3c6803b",
   "metadata": {},
   "outputs": [],
   "source": []
  },
  {
   "cell_type": "code",
   "execution_count": null,
   "id": "eec776a6-9f1f-45c9-81cb-f67917d9f8a5",
   "metadata": {},
   "outputs": [],
   "source": []
  },
  {
   "cell_type": "code",
   "execution_count": null,
   "id": "48071454-5626-4658-8fbf-2aa7b9deecbc",
   "metadata": {},
   "outputs": [],
   "source": []
  },
  {
   "cell_type": "code",
   "execution_count": null,
   "id": "64161b11-3590-47b5-af6c-a4e59de1a0e1",
   "metadata": {},
   "outputs": [],
   "source": []
  },
  {
   "cell_type": "code",
   "execution_count": null,
   "id": "f18e363f-5f9a-4a97-80d1-51b3d6ab32f7",
   "metadata": {},
   "outputs": [],
   "source": []
  },
  {
   "cell_type": "code",
   "execution_count": null,
   "id": "73884313-1ae8-40fb-9eb9-38528626ce10",
   "metadata": {},
   "outputs": [],
   "source": []
  },
  {
   "cell_type": "code",
   "execution_count": null,
   "id": "ad77d361-378a-4f26-aa45-684206c841bb",
   "metadata": {},
   "outputs": [],
   "source": []
  },
  {
   "cell_type": "code",
   "execution_count": null,
   "id": "fd05182f-7354-4abd-be48-cf7f41168fb5",
   "metadata": {},
   "outputs": [],
   "source": []
  },
  {
   "cell_type": "code",
   "execution_count": null,
   "id": "376a390d-8678-4958-9729-1c2b8debee62",
   "metadata": {},
   "outputs": [],
   "source": []
  },
  {
   "cell_type": "code",
   "execution_count": null,
   "id": "836be92b-d9e5-43fa-929a-68ccca0e9dae",
   "metadata": {},
   "outputs": [],
   "source": []
  },
  {
   "cell_type": "code",
   "execution_count": null,
   "id": "79434fe2-941c-412c-a1df-d29f08cd1cc1",
   "metadata": {},
   "outputs": [],
   "source": []
  },
  {
   "cell_type": "code",
   "execution_count": null,
   "id": "efb74f05-cd65-4910-951d-a7046dc47680",
   "metadata": {},
   "outputs": [],
   "source": []
  },
  {
   "cell_type": "code",
   "execution_count": null,
   "id": "f1a02598-8b31-4d8c-b42d-4e2a17ff3452",
   "metadata": {},
   "outputs": [],
   "source": []
  },
  {
   "cell_type": "code",
   "execution_count": null,
   "id": "08cdc14b-3da2-4331-bbb6-3df2489ef3a5",
   "metadata": {},
   "outputs": [],
   "source": []
  },
  {
   "cell_type": "code",
   "execution_count": null,
   "id": "6a6c4e00-7bbc-4acb-a981-76f05d8ddc85",
   "metadata": {},
   "outputs": [],
   "source": []
  },
  {
   "cell_type": "code",
   "execution_count": null,
   "id": "5d464831-08ac-4840-ae30-185d2d48aa70",
   "metadata": {},
   "outputs": [],
   "source": []
  }
 ],
 "metadata": {
  "kernelspec": {
   "display_name": "Python 3 (ipykernel)",
   "language": "python",
   "name": "python3"
  },
  "language_info": {
   "codemirror_mode": {
    "name": "ipython",
    "version": 3
   },
   "file_extension": ".py",
   "mimetype": "text/x-python",
   "name": "python",
   "nbconvert_exporter": "python",
   "pygments_lexer": "ipython3",
   "version": "3.13.2"
  }
 },
 "nbformat": 4,
 "nbformat_minor": 5
}
