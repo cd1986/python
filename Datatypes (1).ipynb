{
 "cells": [
  {
   "cell_type": "code",
   "execution_count": 1,
   "id": "a9d53645-d2f9-48fb-9a63-2858ae01887c",
   "metadata": {},
   "outputs": [
    {
     "data": {
      "text/plain": [
       "True"
      ]
     },
     "execution_count": 1,
     "metadata": {},
     "output_type": "execute_result"
    }
   ],
   "source": [
    "True"
   ]
  },
  {
   "cell_type": "code",
   "execution_count": 2,
   "id": "f780c394-631e-4198-a935-329fd43cb512",
   "metadata": {},
   "outputs": [
    {
     "data": {
      "text/plain": [
       "False"
      ]
     },
     "execution_count": 2,
     "metadata": {},
     "output_type": "execute_result"
    }
   ],
   "source": [
    "False"
   ]
  },
  {
   "cell_type": "code",
   "execution_count": 64,
   "id": "6c5b510a-0b13-4c94-80f4-9cc1c53fbc83",
   "metadata": {},
   "outputs": [
    {
     "data": {
      "text/plain": [
       "'Data science'"
      ]
     },
     "execution_count": 64,
     "metadata": {},
     "output_type": "execute_result"
    }
   ],
   "source": [
    "\"data science\".capitalize()"
   ]
  },
  {
   "cell_type": "code",
   "execution_count": null,
   "id": "51654e75-2574-4011-913c-dd28ccd654ad",
   "metadata": {},
   "outputs": [],
   "source": []
  },
  {
   "cell_type": "code",
   "execution_count": null,
   "id": "88639ea2-4190-4348-8631-34e885dd69d0",
   "metadata": {},
   "outputs": [],
   "source": []
  },
  {
   "cell_type": "code",
   "execution_count": null,
   "id": "3eec91d5-b87d-4d8c-8fb4-3293d9e02314",
   "metadata": {},
   "outputs": [],
   "source": []
  },
  {
   "cell_type": "code",
   "execution_count": null,
   "id": "acc5b2ee-8ff3-4c06-8118-1d3358aaab1b",
   "metadata": {},
   "outputs": [],
   "source": []
  },
  {
   "cell_type": "code",
   "execution_count": null,
   "id": "c83aa700-26b2-43ea-80f4-e7eb763bf684",
   "metadata": {},
   "outputs": [],
   "source": []
  },
  {
   "cell_type": "code",
   "execution_count": 3,
   "id": "b3d3d93d-0e78-4a9d-a35b-848015cebeb1",
   "metadata": {},
   "outputs": [],
   "source": [
    "None"
   ]
  },
  {
   "cell_type": "code",
   "execution_count": 7,
   "id": "aeaa5056-e8c4-4099-9bfc-8f72cc8c3a3a",
   "metadata": {},
   "outputs": [
    {
     "data": {
      "text/plain": [
       "2"
      ]
     },
     "execution_count": 7,
     "metadata": {},
     "output_type": "execute_result"
    }
   ],
   "source": [
    "False+2"
   ]
  },
  {
   "cell_type": "code",
   "execution_count": null,
   "id": "0cdd82c3-6a7f-4d76-a41f-17b459360f4f",
   "metadata": {},
   "outputs": [],
   "source": [
    "### True, False : 1,0"
   ]
  },
  {
   "cell_type": "code",
   "execution_count": null,
   "id": "d8d82985-50bc-4999-b9bc-cedee1fcbefd",
   "metadata": {},
   "outputs": [],
   "source": [
    "### operators"
   ]
  },
  {
   "cell_type": "code",
   "execution_count": null,
   "id": "051b5019-8e73-4af2-9bb3-9b5f79e9e869",
   "metadata": {},
   "outputs": [],
   "source": [
    "### Artithematic operators"
   ]
  },
  {
   "cell_type": "code",
   "execution_count": null,
   "id": "f5d321e9-025b-42c0-97c1-d62e5b257165",
   "metadata": {},
   "outputs": [],
   "source": [
    "addition,sub, mul,div, floor division, module, expo"
   ]
  },
  {
   "cell_type": "code",
   "execution_count": 8,
   "id": "1e062723-61b0-4c2d-ae19-302764692574",
   "metadata": {},
   "outputs": [
    {
     "name": "stdout",
     "output_type": "stream",
     "text": [
      "30\n"
     ]
    }
   ],
   "source": [
    "a=10\n",
    "b=20\n",
    "print(a+b)"
   ]
  },
  {
   "cell_type": "code",
   "execution_count": 9,
   "id": "27554d99-a0d2-4459-800a-8b8b917b6475",
   "metadata": {},
   "outputs": [
    {
     "name": "stdout",
     "output_type": "stream",
     "text": [
      "-10\n"
     ]
    }
   ],
   "source": [
    "a=10\n",
    "b=20\n",
    "print(a-b)"
   ]
  },
  {
   "cell_type": "code",
   "execution_count": 10,
   "id": "56fe0182-ce64-406e-8119-613bfa27d4a3",
   "metadata": {},
   "outputs": [
    {
     "name": "stdout",
     "output_type": "stream",
     "text": [
      "2.0\n"
     ]
    }
   ],
   "source": [
    "a=20\n",
    "b=10\n",
    "print(a/b) # multiplier "
   ]
  },
  {
   "cell_type": "code",
   "execution_count": 12,
   "id": "ae41484e-a29e-4711-aee2-773a565d5e6e",
   "metadata": {},
   "outputs": [
    {
     "name": "stdout",
     "output_type": "stream",
     "text": [
      "1\n"
     ]
    }
   ],
   "source": [
    "a=21\n",
    "b=10\n",
    "print(a%b) ### Reminder"
   ]
  },
  {
   "cell_type": "code",
   "execution_count": 14,
   "id": "4945dbc5-ff57-4759-b594-1187b4a8de2a",
   "metadata": {},
   "outputs": [
    {
     "name": "stdout",
     "output_type": "stream",
     "text": [
      "6\n"
     ]
    }
   ],
   "source": [
    "a=61\n",
    "b=10\n",
    "print(a//b)"
   ]
  },
  {
   "cell_type": "code",
   "execution_count": 16,
   "id": "2243870e-e031-4ff6-a3be-465d26f23b27",
   "metadata": {},
   "outputs": [
    {
     "data": {
      "text/plain": [
       "6"
      ]
     },
     "execution_count": 16,
     "metadata": {},
     "output_type": "execute_result"
    }
   ],
   "source": [
    "a=2\n",
    "b=3\n",
    "a*b"
   ]
  },
  {
   "cell_type": "code",
   "execution_count": 17,
   "id": "41ca461c-f8e2-4710-a969-019f9e7c8d24",
   "metadata": {},
   "outputs": [
    {
     "data": {
      "text/plain": [
       "8"
      ]
     },
     "execution_count": 17,
     "metadata": {},
     "output_type": "execute_result"
    }
   ],
   "source": [
    "a=2\n",
    "b=3\n",
    "a**b  ### power"
   ]
  },
  {
   "cell_type": "code",
   "execution_count": null,
   "id": "195ae7f5-554b-4f05-8f41-c2fbe5314986",
   "metadata": {},
   "outputs": [],
   "source": [
    "####"
   ]
  },
  {
   "cell_type": "code",
   "execution_count": 18,
   "id": "0ab2af86-0903-4b55-bab0-adcc8306801c",
   "metadata": {},
   "outputs": [],
   "source": [
    "x=10\n",
    "y=2"
   ]
  },
  {
   "cell_type": "code",
   "execution_count": 21,
   "id": "5aa0e43e-8a19-4703-8fbe-acba0c8de1f8",
   "metadata": {},
   "outputs": [
    {
     "data": {
      "text/plain": [
       "(False, False, True, True, False, True)"
      ]
     },
     "execution_count": 21,
     "metadata": {},
     "output_type": "execute_result"
    }
   ],
   "source": [
    "x<y,x<=y,x>y,x>=y,x==y,x!=y"
   ]
  },
  {
   "cell_type": "code",
   "execution_count": 25,
   "id": "edd74f8a-7cc9-49b5-9fcb-4b176053e5c6",
   "metadata": {},
   "outputs": [
    {
     "data": {
      "text/plain": [
       "True"
      ]
     },
     "execution_count": 25,
     "metadata": {},
     "output_type": "execute_result"
    }
   ],
   "source": [
    "x=\"Data\"\n",
    "y=\"data\"\n",
    "x.title()==y.capitalize()"
   ]
  },
  {
   "cell_type": "code",
   "execution_count": null,
   "id": "8f3e3ce7-5771-45d0-86eb-6e57d77d6c07",
   "metadata": {},
   "outputs": [],
   "source": []
  },
  {
   "cell_type": "code",
   "execution_count": 26,
   "id": "124dbe40-95ed-47fe-b2d9-be3b92dda268",
   "metadata": {},
   "outputs": [],
   "source": [
    "###logical operators  (and, or , not)"
   ]
  },
  {
   "cell_type": "code",
   "execution_count": 27,
   "id": "04b749ef-1917-4cd4-be1b-8187a4dc06bf",
   "metadata": {},
   "outputs": [],
   "source": [
    "x=10\n",
    "y=20"
   ]
  },
  {
   "cell_type": "code",
   "execution_count": 28,
   "id": "c918d164-9e2e-4b06-abf0-48789d43ed8b",
   "metadata": {},
   "outputs": [
    {
     "data": {
      "text/plain": [
       "True"
      ]
     },
     "execution_count": 28,
     "metadata": {},
     "output_type": "execute_result"
    }
   ],
   "source": [
    "x>2 and y>2"
   ]
  },
  {
   "cell_type": "code",
   "execution_count": 30,
   "id": "2fa3824c-e464-405d-854a-bdded6d77416",
   "metadata": {},
   "outputs": [
    {
     "name": "stdout",
     "output_type": "stream",
     "text": [
      "True\n",
      "False\n",
      "False\n",
      "False\n"
     ]
    }
   ],
   "source": [
    "print(True and True)\n",
    "print(True and False)\n",
    "print(False and True)\n",
    "print(False and False)"
   ]
  },
  {
   "cell_type": "code",
   "execution_count": 31,
   "id": "a04dec40-014f-4a8f-bd3a-706aef395994",
   "metadata": {},
   "outputs": [
    {
     "name": "stdout",
     "output_type": "stream",
     "text": [
      "True\n",
      "True\n",
      "True\n",
      "False\n"
     ]
    }
   ],
   "source": [
    "print(True or True)\n",
    "print(True or False)\n",
    "print(False or True)\n",
    "print(False or False)"
   ]
  },
  {
   "cell_type": "code",
   "execution_count": 32,
   "id": "1862ede1-6180-4e3e-a5ce-9e18fcacb6b2",
   "metadata": {},
   "outputs": [
    {
     "name": "stdout",
     "output_type": "stream",
     "text": [
      "False\n",
      "False\n",
      "False\n",
      "True\n"
     ]
    }
   ],
   "source": [
    "print(not(True or True))\n",
    "print(not(True or False))\n",
    "print(not(False or True))\n",
    "print(not(False or False))"
   ]
  },
  {
   "cell_type": "code",
   "execution_count": 33,
   "id": "ead219f7-b4a7-4e7f-a6d6-13294b5a61d9",
   "metadata": {},
   "outputs": [],
   "source": [
    "###identity operators , ### Membership operators"
   ]
  },
  {
   "cell_type": "code",
   "execution_count": null,
   "id": "47f98953-ee0c-48eb-b34e-b233515dbcef",
   "metadata": {},
   "outputs": [],
   "source": [
    "is, is not, in , not in "
   ]
  },
  {
   "cell_type": "code",
   "execution_count": 34,
   "id": "711f11eb-879f-4442-8323-530020c277bc",
   "metadata": {},
   "outputs": [
    {
     "data": {
      "text/plain": [
       "True"
      ]
     },
     "execution_count": 34,
     "metadata": {},
     "output_type": "execute_result"
    }
   ],
   "source": [
    "x=10\n",
    "y=10\n",
    "x is y\n"
   ]
  },
  {
   "cell_type": "code",
   "execution_count": null,
   "id": "b77b955d-d205-4f2a-827b-4eff6297fa6d",
   "metadata": {},
   "outputs": [],
   "source": []
  },
  {
   "cell_type": "code",
   "execution_count": null,
   "id": "16236d5e-ceca-448d-bda2-a45f37b183f3",
   "metadata": {},
   "outputs": [],
   "source": []
  },
  {
   "cell_type": "code",
   "execution_count": 35,
   "id": "20842ceb-7f9a-46a0-8636-c8f8de9c8bcb",
   "metadata": {},
   "outputs": [],
   "source": [
    "x=[1,2,3]\n",
    "y=x\n",
    "z=[1,2,3]"
   ]
  },
  {
   "cell_type": "code",
   "execution_count": 37,
   "id": "623634e5-40ed-475f-84e4-3bd126a7a01c",
   "metadata": {},
   "outputs": [
    {
     "data": {
      "text/plain": [
       "False"
      ]
     },
     "execution_count": 37,
     "metadata": {},
     "output_type": "execute_result"
    }
   ],
   "source": [
    "x is z"
   ]
  },
  {
   "cell_type": "code",
   "execution_count": 38,
   "id": "f2d8e550-4829-4f6d-9631-2cb4f9b3aa88",
   "metadata": {},
   "outputs": [],
   "source": [
    "x=[1,2,3]\n",
    "y=[1,2,3]"
   ]
  },
  {
   "cell_type": "code",
   "execution_count": 39,
   "id": "6de3ebac-a6ac-4a0b-9502-7cf42ae1e85a",
   "metadata": {},
   "outputs": [
    {
     "data": {
      "text/plain": [
       "True"
      ]
     },
     "execution_count": 39,
     "metadata": {},
     "output_type": "execute_result"
    }
   ],
   "source": [
    "x is not y"
   ]
  },
  {
   "cell_type": "code",
   "execution_count": null,
   "id": "b4d97404-2685-4c70-96f6-2fd9183ab493",
   "metadata": {},
   "outputs": [],
   "source": []
  },
  {
   "cell_type": "code",
   "execution_count": null,
   "id": "dbe85974-f4c8-4e3a-963d-a03b24d00c86",
   "metadata": {},
   "outputs": [],
   "source": []
  },
  {
   "cell_type": "code",
   "execution_count": 40,
   "id": "63a00e43-71a3-41a6-a6ac-26895147b20a",
   "metadata": {},
   "outputs": [
    {
     "ename": "SyntaxError",
     "evalue": "invalid syntax (1930379069.py, line 1)",
     "output_type": "error",
     "traceback": [
      "\u001b[1;36m  Cell \u001b[1;32mIn[40], line 1\u001b[1;36m\u001b[0m\n\u001b[1;33m    in , not in\u001b[0m\n\u001b[1;37m    ^\u001b[0m\n\u001b[1;31mSyntaxError\u001b[0m\u001b[1;31m:\u001b[0m invalid syntax\n"
     ]
    }
   ],
   "source": [
    "in , not in"
   ]
  },
  {
   "cell_type": "code",
   "execution_count": 44,
   "id": "9b980274-98b7-4eff-88cd-0d27daf7d230",
   "metadata": {},
   "outputs": [
    {
     "data": {
      "text/plain": [
       "True"
      ]
     },
     "execution_count": 44,
     "metadata": {},
     "output_type": "execute_result"
    }
   ],
   "source": [
    "\"data \" in \"data science\""
   ]
  },
  {
   "cell_type": "code",
   "execution_count": 45,
   "id": "624abcd8-cb47-4f85-845c-99c313df1b7d",
   "metadata": {},
   "outputs": [
    {
     "data": {
      "text/plain": [
       "True"
      ]
     },
     "execution_count": 45,
     "metadata": {},
     "output_type": "execute_result"
    }
   ],
   "source": [
    "1 in [1,2,3]"
   ]
  },
  {
   "cell_type": "code",
   "execution_count": 47,
   "id": "a9817779-fc47-42fb-9d89-fa6369a81ae8",
   "metadata": {},
   "outputs": [
    {
     "data": {
      "text/plain": [
       "True"
      ]
     },
     "execution_count": 47,
     "metadata": {},
     "output_type": "execute_result"
    }
   ],
   "source": [
    "2 in (2,3,4,5)"
   ]
  },
  {
   "cell_type": "code",
   "execution_count": 50,
   "id": "93434513-c534-4e93-af7e-154458e297d9",
   "metadata": {},
   "outputs": [
    {
     "name": "stdout",
     "output_type": "stream",
     "text": [
      "False\n"
     ]
    }
   ],
   "source": [
    "student = {\n",
    "    \"name\": \"Alice\",\n",
    "    \"age\": 22,\n",
    "    \"grade \": \"A\"\n",
    "}\n",
    "\n",
    "print(\"grade \" not in student)"
   ]
  },
  {
   "cell_type": "code",
   "execution_count": null,
   "id": "a16f4e6f-3c6f-4286-926e-d5c122c79dd9",
   "metadata": {},
   "outputs": [],
   "source": []
  },
  {
   "cell_type": "code",
   "execution_count": 51,
   "id": "5ba770a2-a6f9-4d4f-b1ee-891e6afaab8c",
   "metadata": {},
   "outputs": [
    {
     "data": {
      "text/plain": [
       "'0b11110'"
      ]
     },
     "execution_count": 51,
     "metadata": {},
     "output_type": "execute_result"
    }
   ],
   "source": [
    "bin(30)"
   ]
  },
  {
   "cell_type": "code",
   "execution_count": 52,
   "id": "8f78ba28-4b1a-448e-8851-1db8e8234a3a",
   "metadata": {},
   "outputs": [
    {
     "data": {
      "text/plain": [
       "'0b11111'"
      ]
     },
     "execution_count": 52,
     "metadata": {},
     "output_type": "execute_result"
    }
   ],
   "source": [
    "bin(31)"
   ]
  },
  {
   "cell_type": "code",
   "execution_count": null,
   "id": "c0aa44b9-b7e6-4faa-b347-77fd5c5f0ef4",
   "metadata": {},
   "outputs": [],
   "source": []
  },
  {
   "cell_type": "code",
   "execution_count": 53,
   "id": "7ab4cb47-031e-4311-be8c-4c10c8cb6ddd",
   "metadata": {},
   "outputs": [
    {
     "data": {
      "text/plain": [
       "'0b111111'"
      ]
     },
     "execution_count": 53,
     "metadata": {},
     "output_type": "execute_result"
    }
   ],
   "source": [
    "bin(63)"
   ]
  },
  {
   "cell_type": "code",
   "execution_count": 55,
   "id": "a08051a4-2b8d-40a7-81ca-2f413b977b0c",
   "metadata": {},
   "outputs": [
    {
     "data": {
      "text/plain": [
       "63"
      ]
     },
     "execution_count": 55,
     "metadata": {},
     "output_type": "execute_result"
    }
   ],
   "source": [
    "2+4+8+16+32+1"
   ]
  },
  {
   "cell_type": "code",
   "execution_count": null,
   "id": "3b8ec0e6-bfa7-4223-ba0d-5be6b484a8f4",
   "metadata": {},
   "outputs": [],
   "source": []
  },
  {
   "cell_type": "code",
   "execution_count": 56,
   "id": "0c7217bc-f4e1-4cb7-8342-26f7a0fc0189",
   "metadata": {},
   "outputs": [
    {
     "data": {
      "text/plain": [
       "('0b11110', '0b11111')"
      ]
     },
     "execution_count": 56,
     "metadata": {},
     "output_type": "execute_result"
    }
   ],
   "source": [
    "bin(30),bin(31)"
   ]
  },
  {
   "cell_type": "code",
   "execution_count": null,
   "id": "2fbac0f1-8c42-448d-9b75-6d46eba350be",
   "metadata": {},
   "outputs": [],
   "source": [
    "11110\n",
    "or \n",
    "11111"
   ]
  },
  {
   "cell_type": "code",
   "execution_count": null,
   "id": "b96664b8-4b62-48f7-93d3-b16eba1df66e",
   "metadata": {},
   "outputs": [],
   "source": [
    "11110"
   ]
  },
  {
   "cell_type": "code",
   "execution_count": 57,
   "id": "78dc2c74-b7b9-4696-b6bd-df4c18d3cc20",
   "metadata": {},
   "outputs": [
    {
     "data": {
      "text/plain": [
       "30"
      ]
     },
     "execution_count": 57,
     "metadata": {},
     "output_type": "execute_result"
    }
   ],
   "source": [
    "30 & 31"
   ]
  },
  {
   "cell_type": "code",
   "execution_count": 58,
   "id": "52364281-c964-456d-8523-e2b93a49d055",
   "metadata": {},
   "outputs": [
    {
     "data": {
      "text/plain": [
       "31"
      ]
     },
     "execution_count": 58,
     "metadata": {},
     "output_type": "execute_result"
    }
   ],
   "source": [
    "30 | 31"
   ]
  },
  {
   "cell_type": "code",
   "execution_count": null,
   "id": "16a6af61-5f73-4af7-84ec-81805869a16f",
   "metadata": {},
   "outputs": [],
   "source": []
  },
  {
   "cell_type": "code",
   "execution_count": null,
   "id": "4371aa7b-c35d-4c1b-9d1e-a5cedee9dd7a",
   "metadata": {},
   "outputs": [],
   "source": []
  },
  {
   "cell_type": "code",
   "execution_count": 59,
   "id": "1e4ba950-39b2-40a8-906e-85460ea3e29a",
   "metadata": {},
   "outputs": [
    {
     "data": {
      "text/plain": [
       "'0b10101'"
      ]
     },
     "execution_count": 59,
     "metadata": {},
     "output_type": "execute_result"
    }
   ],
   "source": [
    "bin(21)"
   ]
  },
  {
   "cell_type": "code",
   "execution_count": 60,
   "id": "2275a0bc-9a83-46f9-80a2-a80dccb06b5c",
   "metadata": {},
   "outputs": [
    {
     "data": {
      "text/plain": [
       "'0b100101'"
      ]
     },
     "execution_count": 60,
     "metadata": {},
     "output_type": "execute_result"
    }
   ],
   "source": [
    "bin(37)"
   ]
  },
  {
   "cell_type": "code",
   "execution_count": null,
   "id": "f58b6beb-eded-49b2-9d11-fc3146a737a6",
   "metadata": {},
   "outputs": [],
   "source": [
    "21 & 37"
   ]
  },
  {
   "cell_type": "code",
   "execution_count": null,
   "id": "88fc3d77-bdd9-472c-9d31-9e0f2b37a996",
   "metadata": {},
   "outputs": [],
   "source": [
    "010101\n",
    "100101"
   ]
  },
  {
   "cell_type": "code",
   "execution_count": null,
   "id": "30c782b6-14c8-4d9f-9ef1-75cab0f4cccc",
   "metadata": {},
   "outputs": [],
   "source": [
    "000101"
   ]
  },
  {
   "cell_type": "code",
   "execution_count": 61,
   "id": "ea145979-28ac-4660-beee-29b0fd5f0736",
   "metadata": {},
   "outputs": [
    {
     "data": {
      "text/plain": [
       "5"
      ]
     },
     "execution_count": 61,
     "metadata": {},
     "output_type": "execute_result"
    }
   ],
   "source": [
    "21 & 37"
   ]
  },
  {
   "cell_type": "code",
   "execution_count": 62,
   "id": "fd932e7f-4614-4e16-a2cb-1c98e6d76fd6",
   "metadata": {},
   "outputs": [
    {
     "data": {
      "text/plain": [
       "53"
      ]
     },
     "execution_count": 62,
     "metadata": {},
     "output_type": "execute_result"
    }
   ],
   "source": [
    "21 | 37"
   ]
  },
  {
   "cell_type": "code",
   "execution_count": null,
   "id": "52ff2d7e-f6b5-4046-aed1-92ea3b7b5b87",
   "metadata": {},
   "outputs": [],
   "source": [
    "110101"
   ]
  }
 ],
 "metadata": {
  "kernelspec": {
   "display_name": "Python 3 (ipykernel)",
   "language": "python",
   "name": "python3"
  },
  "language_info": {
   "codemirror_mode": {
    "name": "ipython",
    "version": 3
   },
   "file_extension": ".py",
   "mimetype": "text/x-python",
   "name": "python",
   "nbconvert_exporter": "python",
   "pygments_lexer": "ipython3",
   "version": "3.13.2"
  }
 },
 "nbformat": 4,
 "nbformat_minor": 5
}
