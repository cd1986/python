{
 "cells": [
  {
   "cell_type": "code",
   "execution_count": 2,
   "id": "750dcb79-31d4-4343-9f97-dfbebb43850c",
   "metadata": {},
   "outputs": [
    {
     "data": {
      "text/plain": [
       "5"
      ]
     },
     "execution_count": 2,
     "metadata": {},
     "output_type": "execute_result"
    }
   ],
   "source": [
    "2+3\n",
    "### ctrl+enter : execute the cell\n",
    "### alt+enter : execute the cell and create new cell below\n",
    "### b : below\n",
    "### a : above\n",
    "### x : delete\n",
    "### c : copy\n",
    "### v : paster\n",
    "### shift +M : Merge\n",
    "### ctrl+/ : Comment"
   ]
  },
  {
   "cell_type": "code",
   "execution_count": null,
   "id": "52559d68-7b14-4421-bdc7-87fafda63d03",
   "metadata": {},
   "outputs": [],
   "source": [
    "2+3\n",
    "\n",
    "4+5"
   ]
  },
  {
   "cell_type": "code",
   "execution_count": null,
   "id": "c644ebef-5bfc-4875-b390-0ef21837d34b",
   "metadata": {},
   "outputs": [],
   "source": [
    "2+3\n",
    "\n",
    "print(\"edukron\")\n",
    "\n",
    "\"Test\""
   ]
  },
  {
   "cell_type": "code",
   "execution_count": null,
   "id": "9d8dd736-e888-4ab9-babb-f575e484f01f",
   "metadata": {},
   "outputs": [],
   "source": [
    "### python\n",
    "### html,css, markdown language"
   ]
  },
  {
   "cell_type": "code",
   "execution_count": null,
   "id": "cb0c202c-8547-44e0-8e36-336fdf968eaf",
   "metadata": {},
   "outputs": [],
   "source": [
    "#### python code"
   ]
  },
  {
   "cell_type": "markdown",
   "id": "58f4721e-19e9-482f-ad24-eaf3cdc3da0d",
   "metadata": {},
   "source": [
    "### comments or text i will be using this markdown language"
   ]
  },
  {
   "cell_type": "markdown",
   "id": "f09f558c-cc00-423c-9f60-d61a9cff25c5",
   "metadata": {},
   "source": [
    "##### This is heading"
   ]
  },
  {
   "cell_type": "code",
   "execution_count": null,
   "id": "f809a0ea-d2ed-4ad0-af96-186e4ae81ad4",
   "metadata": {},
   "outputs": [],
   "source": [
    "# addition ### ctrl+/ : Comment , if you do once it will comment, twice it will comment and uncomment the line or multiple lines\n",
    "2+3\n",
    "3+4\n",
    "5+6\n",
    "6+7"
   ]
  },
  {
   "cell_type": "code",
   "execution_count": null,
   "id": "b0c7bce0-ce62-4dd7-963d-d77c8d5abb9d",
   "metadata": {},
   "outputs": [],
   "source": []
  },
  {
   "cell_type": "code",
   "execution_count": null,
   "id": "a4f57afb-5749-453e-bd77-3fc35cf97e6d",
   "metadata": {},
   "outputs": [],
   "source": [
    "print(\"Edukron\")\n",
    "print(\"test\")"
   ]
  },
  {
   "cell_type": "code",
   "execution_count": null,
   "id": "1f2f1343-fcaf-4ec0-8ad4-3cce9defc936",
   "metadata": {},
   "outputs": [],
   "source": []
  },
  {
   "cell_type": "code",
   "execution_count": null,
   "id": "84094f4c-1785-4730-b41b-0d8d70db130a",
   "metadata": {},
   "outputs": [],
   "source": []
  },
  {
   "cell_type": "code",
   "execution_count": null,
   "id": "2e425e3c-e772-4c13-9ff1-e5cde5dada6e",
   "metadata": {},
   "outputs": [],
   "source": []
  },
  {
   "cell_type": "code",
   "execution_count": null,
   "id": "f69bc084-cc27-43c8-8892-3ca26b195164",
   "metadata": {},
   "outputs": [],
   "source": []
  },
  {
   "cell_type": "code",
   "execution_count": null,
   "id": "1fa17e70-2ed9-4baa-8799-44df3048ee66",
   "metadata": {},
   "outputs": [],
   "source": [
    "### Datatypes\n",
    "    ### number\n",
    "        ### int\n",
    "        ### float\n",
    "        ### Complex\n",
    "    ### string\n",
    "        ### Character ,String\n",
    "    ### bool\n",
    "        ### True,False\n"
   ]
  },
  {
   "cell_type": "code",
   "execution_count": null,
   "id": "01d5638d-373e-4b6e-8b1b-98949f1b29cd",
   "metadata": {},
   "outputs": [],
   "source": [
    "varible/identifier\n",
    "\n",
    "name\n",
    "value"
   ]
  },
  {
   "cell_type": "code",
   "execution_count": 4,
   "id": "14f79986-6bcb-4fdf-b040-dfdb0e66637d",
   "metadata": {},
   "outputs": [
    {
     "data": {
      "text/plain": [
       "int"
      ]
     },
     "execution_count": 4,
     "metadata": {},
     "output_type": "execute_result"
    }
   ],
   "source": [
    "a=10\n",
    "type(a)"
   ]
  },
  {
   "cell_type": "code",
   "execution_count": 10,
   "id": "eb66d803-d6d1-47be-97dc-33d91cf1dd4b",
   "metadata": {},
   "outputs": [
    {
     "data": {
      "text/plain": [
       "float"
      ]
     },
     "execution_count": 10,
     "metadata": {},
     "output_type": "execute_result"
    }
   ],
   "source": [
    "a=10.1\n",
    "type(a)"
   ]
  },
  {
   "cell_type": "code",
   "execution_count": 6,
   "id": "763e6642-13b6-4c1f-9ed4-c26e5445e572",
   "metadata": {},
   "outputs": [
    {
     "data": {
      "text/plain": [
       "complex"
      ]
     },
     "execution_count": 6,
     "metadata": {},
     "output_type": "execute_result"
    }
   ],
   "source": [
    "a=10.2+3j ### complex numbers, unreal numbers\n",
    "type(a)"
   ]
  },
  {
   "cell_type": "code",
   "execution_count": 7,
   "id": "f5decd04-1df9-4ef4-af16-4de293981f1c",
   "metadata": {},
   "outputs": [
    {
     "data": {
      "text/plain": [
       "str"
      ]
     },
     "execution_count": 7,
     "metadata": {},
     "output_type": "execute_result"
    }
   ],
   "source": [
    "a=\"data science\"\n",
    "type(a)"
   ]
  },
  {
   "cell_type": "code",
   "execution_count": 11,
   "id": "5d416b0b-08ab-45b7-adaf-1836140a441e",
   "metadata": {},
   "outputs": [
    {
     "data": {
      "text/plain": [
       "bool"
      ]
     },
     "execution_count": 11,
     "metadata": {},
     "output_type": "execute_result"
    }
   ],
   "source": [
    "a=False\n",
    "type(a)"
   ]
  },
  {
   "cell_type": "code",
   "execution_count": null,
   "id": "c4737b31-e759-4df1-8e9e-796bae77e70c",
   "metadata": {},
   "outputs": [],
   "source": []
  },
  {
   "cell_type": "code",
   "execution_count": 12,
   "id": "615f634b-624b-4fc4-a9bd-df192a0a434a",
   "metadata": {},
   "outputs": [
    {
     "data": {
      "text/plain": [
       "int"
      ]
     },
     "execution_count": 12,
     "metadata": {},
     "output_type": "execute_result"
    }
   ],
   "source": [
    "a=10\n",
    "type(a)"
   ]
  },
  {
   "cell_type": "code",
   "execution_count": 13,
   "id": "d49d2a59-b0d3-4a7a-9b76-3075008610e6",
   "metadata": {},
   "outputs": [],
   "source": [
    "### variable name"
   ]
  },
  {
   "cell_type": "code",
   "execution_count": 14,
   "id": "bcab6618-9dc1-4240-9902-fb8487effb1e",
   "metadata": {},
   "outputs": [
    {
     "ename": "SyntaxError",
     "evalue": "invalid decimal literal (963223087.py, line 1)",
     "output_type": "error",
     "traceback": [
      "\u001b[1;36m  Cell \u001b[1;32mIn[14], line 1\u001b[1;36m\u001b[0m\n\u001b[1;33m    7a=10\u001b[0m\n\u001b[1;37m    ^\u001b[0m\n\u001b[1;31mSyntaxError\u001b[0m\u001b[1;31m:\u001b[0m invalid decimal literal\n"
     ]
    }
   ],
   "source": [
    "7a=10  \n",
    "### variable name should not start with numbers\n",
    "### no special characters for variable declaration\n",
    "### inbuilt keywords are not allowed\n",
    "### boolean values cannot be assigned with values"
   ]
  },
  {
   "cell_type": "code",
   "execution_count": 15,
   "id": "4dffc6fe-73b1-4b66-9eff-b1ac5179c877",
   "metadata": {},
   "outputs": [],
   "source": [
    "a7=10"
   ]
  },
  {
   "cell_type": "code",
   "execution_count": 16,
   "id": "2d5fa6f6-23d9-49af-a65e-1dfb2e3c5cc3",
   "metadata": {},
   "outputs": [
    {
     "ename": "SyntaxError",
     "evalue": "invalid syntax (2927304159.py, line 1)",
     "output_type": "error",
     "traceback": [
      "\u001b[1;36m  Cell \u001b[1;32mIn[16], line 1\u001b[1;36m\u001b[0m\n\u001b[1;33m    $a=10\u001b[0m\n\u001b[1;37m    ^\u001b[0m\n\u001b[1;31mSyntaxError\u001b[0m\u001b[1;31m:\u001b[0m invalid syntax\n"
     ]
    }
   ],
   "source": [
    "$a=10"
   ]
  },
  {
   "cell_type": "code",
   "execution_count": 18,
   "id": "269fe159-7d57-45a2-a4d4-8a5bb9a53cf5",
   "metadata": {},
   "outputs": [
    {
     "ename": "SyntaxError",
     "evalue": "invalid syntax (2891400622.py, line 1)",
     "output_type": "error",
     "traceback": [
      "\u001b[1;36m  Cell \u001b[1;32mIn[18], line 1\u001b[1;36m\u001b[0m\n\u001b[1;33m    a$asd=10\u001b[0m\n\u001b[1;37m     ^\u001b[0m\n\u001b[1;31mSyntaxError\u001b[0m\u001b[1;31m:\u001b[0m invalid syntax\n"
     ]
    }
   ],
   "source": [
    "a$asd=10"
   ]
  },
  {
   "cell_type": "code",
   "execution_count": 19,
   "id": "37c3b89b-d2ee-4645-bb68-763122dca209",
   "metadata": {},
   "outputs": [],
   "source": [
    "_a=10"
   ]
  },
  {
   "cell_type": "code",
   "execution_count": 20,
   "id": "c27f843d-4880-461f-a17b-e323d3a99daa",
   "metadata": {},
   "outputs": [
    {
     "data": {
      "text/plain": [
       "int"
      ]
     },
     "execution_count": 20,
     "metadata": {},
     "output_type": "execute_result"
    }
   ],
   "source": [
    "type(_a)"
   ]
  },
  {
   "cell_type": "code",
   "execution_count": 22,
   "id": "b34c42e4-2109-4cf2-940c-c5123ea96a8d",
   "metadata": {},
   "outputs": [],
   "source": [
    "import keyword"
   ]
  },
  {
   "cell_type": "code",
   "execution_count": 23,
   "id": "4d8bf47c-4d0f-4e6e-b13a-bd068ded687b",
   "metadata": {},
   "outputs": [
    {
     "name": "stdout",
     "output_type": "stream",
     "text": [
      "['False', 'None', 'True', 'and', 'as', 'assert', 'async', 'await', 'break', 'class', 'continue', 'def', 'del', 'elif', 'else', 'except', 'finally', 'for', 'from', 'global', 'if', 'import', 'in', 'is', 'lambda', 'nonlocal', 'not', 'or', 'pass', 'raise', 'return', 'try', 'while', 'with', 'yield']\n"
     ]
    }
   ],
   "source": [
    "print(keyword.kwlist)"
   ]
  },
  {
   "cell_type": "code",
   "execution_count": 27,
   "id": "2d8206eb-5548-41a6-9569-0642d9ab936c",
   "metadata": {},
   "outputs": [
    {
     "ename": "SyntaxError",
     "evalue": "assignment to yield expression not possible (221193028.py, line 1)",
     "output_type": "error",
     "traceback": [
      "\u001b[1;36m  Cell \u001b[1;32mIn[27], line 1\u001b[1;36m\u001b[0m\n\u001b[1;33m    yield=10\u001b[0m\n\u001b[1;37m    ^\u001b[0m\n\u001b[1;31mSyntaxError\u001b[0m\u001b[1;31m:\u001b[0m assignment to yield expression not possible\n"
     ]
    }
   ],
   "source": []
  },
  {
   "cell_type": "code",
   "execution_count": null,
   "id": "1a6cf460-dfcf-466b-980d-44715e0fde4b",
   "metadata": {},
   "outputs": [],
   "source": []
  },
  {
   "cell_type": "code",
   "execution_count": null,
   "id": "23bd12d3-fc5b-4969-9167-86c824f52ecf",
   "metadata": {},
   "outputs": [],
   "source": []
  },
  {
   "cell_type": "code",
   "execution_count": 29,
   "id": "d836e459-361f-4d7a-bc5b-5e8084af33ca",
   "metadata": {
    "scrolled": true
   },
   "outputs": [
    {
     "ename": "SyntaxError",
     "evalue": "cannot assign to False (3570168178.py, line 1)",
     "output_type": "error",
     "traceback": [
      "\u001b[1;36m  Cell \u001b[1;32mIn[29], line 1\u001b[1;36m\u001b[0m\n\u001b[1;33m    False=100\u001b[0m\n\u001b[1;37m    ^\u001b[0m\n\u001b[1;31mSyntaxError\u001b[0m\u001b[1;31m:\u001b[0m cannot assign to False\n"
     ]
    }
   ],
   "source": [
    "False=100"
   ]
  },
  {
   "cell_type": "code",
   "execution_count": null,
   "id": "f80c098e-72fa-4821-857e-b00d43153202",
   "metadata": {},
   "outputs": [],
   "source": []
  },
  {
   "cell_type": "code",
   "execution_count": null,
   "id": "56844962-6b80-4dbe-b7cd-5981c45880dc",
   "metadata": {},
   "outputs": [],
   "source": []
  },
  {
   "cell_type": "code",
   "execution_count": 30,
   "id": "5e1138aa-8596-47f1-92ed-8b66c4c2cf6f",
   "metadata": {},
   "outputs": [
    {
     "data": {
      "text/plain": [
       "int"
      ]
     },
     "execution_count": 30,
     "metadata": {},
     "output_type": "execute_result"
    }
   ],
   "source": [
    "a=10\n",
    "type(a)"
   ]
  },
  {
   "cell_type": "code",
   "execution_count": 31,
   "id": "313c6e28-bc9b-47c6-9ea2-ebfc0d5a77fc",
   "metadata": {},
   "outputs": [
    {
     "data": {
      "text/plain": [
       "float"
      ]
     },
     "execution_count": 31,
     "metadata": {},
     "output_type": "execute_result"
    }
   ],
   "source": [
    "x=10.7\n",
    "type(x)"
   ]
  },
  {
   "cell_type": "code",
   "execution_count": null,
   "id": "751cedf0-1b56-47d2-9177-a02563a4420c",
   "metadata": {},
   "outputs": [],
   "source": []
  },
  {
   "cell_type": "code",
   "execution_count": null,
   "id": "b1acb460-52dc-4b3b-a63f-9f192192b5ef",
   "metadata": {},
   "outputs": [],
   "source": []
  },
  {
   "cell_type": "code",
   "execution_count": 34,
   "id": "e761b196-a57d-4c4d-8f50-0e9678adda22",
   "metadata": {},
   "outputs": [
    {
     "name": "stdout",
     "output_type": "stream",
     "text": [
      "<class 'int'> 10\n",
      "20\n"
     ]
    }
   ],
   "source": [
    "a=10\n",
    "print(type(a),a)\n",
    "a=20\n",
    "print(a)"
   ]
  },
  {
   "cell_type": "code",
   "execution_count": null,
   "id": "37f510dd-aeee-4960-a0b1-a44576c96804",
   "metadata": {},
   "outputs": [],
   "source": []
  },
  {
   "cell_type": "code",
   "execution_count": 35,
   "id": "a72199fe-d0a8-48fb-8a06-4c68edc9a1ea",
   "metadata": {},
   "outputs": [
    {
     "data": {
      "text/plain": [
       "int"
      ]
     },
     "execution_count": 35,
     "metadata": {},
     "output_type": "execute_result"
    }
   ],
   "source": [
    "a=10\n",
    "type(a)"
   ]
  },
  {
   "cell_type": "code",
   "execution_count": 36,
   "id": "52fd06d6-5a98-4e00-b2c5-b78a66ef13b8",
   "metadata": {},
   "outputs": [
    {
     "data": {
      "text/plain": [
       "10.0"
      ]
     },
     "execution_count": 36,
     "metadata": {},
     "output_type": "execute_result"
    }
   ],
   "source": [
    "float(a) ### casting , type conversion ( int-->float),(float->int)"
   ]
  },
  {
   "cell_type": "code",
   "execution_count": 37,
   "id": "4aff4b26-98c2-44a2-b4cb-7e24be6839a7",
   "metadata": {},
   "outputs": [
    {
     "data": {
      "text/plain": [
       "10"
      ]
     },
     "execution_count": 37,
     "metadata": {},
     "output_type": "execute_result"
    }
   ],
   "source": [
    "x=10.2\n",
    "int(x)"
   ]
  },
  {
   "cell_type": "code",
   "execution_count": null,
   "id": "d32bdc88-b4ee-4612-aa59-faecff9be11d",
   "metadata": {},
   "outputs": [],
   "source": [
    "### type casting functions\n",
    "    ### int : converting float to int\n",
    "    ### float : convertig int to float"
   ]
  },
  {
   "cell_type": "code",
   "execution_count": 40,
   "id": "09e6b5f4-8ec6-4d5d-a2cd-ffe097ef3f0b",
   "metadata": {},
   "outputs": [],
   "source": [
    "string=\"DATA SCIENCE\""
   ]
  },
  {
   "cell_type": "code",
   "execution_count": 41,
   "id": "c53d1876-3162-4e21-889a-674bb9f899d8",
   "metadata": {},
   "outputs": [
    {
     "data": {
      "text/plain": [
       "str"
      ]
     },
     "execution_count": 41,
     "metadata": {},
     "output_type": "execute_result"
    }
   ],
   "source": [
    "type(string)"
   ]
  },
  {
   "cell_type": "code",
   "execution_count": null,
   "id": "67ec2d84-032b-4a2d-97c1-9dbd4a662982",
   "metadata": {},
   "outputs": [],
   "source": []
  },
  {
   "cell_type": "code",
   "execution_count": null,
   "id": "b41969d4-5461-4639-820b-0be1728fb4d4",
   "metadata": {},
   "outputs": [],
   "source": []
  },
  {
   "cell_type": "code",
   "execution_count": null,
   "id": "73728f39-367c-465d-91ea-8198abe6903b",
   "metadata": {},
   "outputs": [],
   "source": []
  },
  {
   "cell_type": "code",
   "execution_count": null,
   "id": "96534a42-b0d9-48bf-8691-c96d4faef956",
   "metadata": {},
   "outputs": [],
   "source": []
  },
  {
   "cell_type": "code",
   "execution_count": null,
   "id": "7ef9936a-4a8c-42f6-94cf-faa47ec8c0a3",
   "metadata": {},
   "outputs": [],
   "source": []
  },
  {
   "cell_type": "code",
   "execution_count": null,
   "id": "afe64336-a05e-4c93-b55b-0e387d879c0e",
   "metadata": {},
   "outputs": [],
   "source": []
  },
  {
   "cell_type": "code",
   "execution_count": null,
   "id": "550f4733-a3e7-4855-a7bd-3f403c6f103f",
   "metadata": {},
   "outputs": [],
   "source": []
  },
  {
   "cell_type": "code",
   "execution_count": null,
   "id": "a5983c75-d2bd-4adc-8b80-fa2060789990",
   "metadata": {},
   "outputs": [],
   "source": []
  },
  {
   "cell_type": "code",
   "execution_count": null,
   "id": "cf5584a7-971a-4058-a88a-6daa04bb6e38",
   "metadata": {},
   "outputs": [],
   "source": []
  },
  {
   "cell_type": "code",
   "execution_count": null,
   "id": "bd631783-47ee-4c46-aaf2-48e6942b14eb",
   "metadata": {},
   "outputs": [],
   "source": []
  },
  {
   "cell_type": "code",
   "execution_count": null,
   "id": "53dcfd9d-8feb-4b27-b89a-d28856b8d8c1",
   "metadata": {},
   "outputs": [],
   "source": []
  },
  {
   "cell_type": "code",
   "execution_count": null,
   "id": "1b494fd4-da86-4521-850d-bf6975f97c62",
   "metadata": {},
   "outputs": [],
   "source": []
  },
  {
   "cell_type": "code",
   "execution_count": null,
   "id": "92cd961c-af63-4678-ab67-f80379e52159",
   "metadata": {},
   "outputs": [],
   "source": []
  },
  {
   "cell_type": "code",
   "execution_count": null,
   "id": "03813e5a-9c30-45a4-a1da-9dfcaf70deb4",
   "metadata": {},
   "outputs": [],
   "source": []
  },
  {
   "cell_type": "code",
   "execution_count": null,
   "id": "e0d6edfb-8ed7-486d-85ea-38f5592c10f6",
   "metadata": {},
   "outputs": [],
   "source": []
  },
  {
   "cell_type": "code",
   "execution_count": null,
   "id": "234b3426-a4a8-4b1f-93d7-612abd7315ba",
   "metadata": {},
   "outputs": [],
   "source": []
  },
  {
   "cell_type": "code",
   "execution_count": null,
   "id": "81031c80-5fee-4598-899e-8ab4069470a0",
   "metadata": {},
   "outputs": [],
   "source": []
  },
  {
   "cell_type": "code",
   "execution_count": null,
   "id": "4fa0bb74-ec44-47b8-b807-227e4bba3cd7",
   "metadata": {},
   "outputs": [],
   "source": []
  }
 ],
 "metadata": {
  "kernelspec": {
   "display_name": "Python 3 (ipykernel)",
   "language": "python",
   "name": "python3"
  },
  "language_info": {
   "codemirror_mode": {
    "name": "ipython",
    "version": 3
   },
   "file_extension": ".py",
   "mimetype": "text/x-python",
   "name": "python",
   "nbconvert_exporter": "python",
   "pygments_lexer": "ipython3",
   "version": "3.13.0"
  }
 },
 "nbformat": 4,
 "nbformat_minor": 5
}
